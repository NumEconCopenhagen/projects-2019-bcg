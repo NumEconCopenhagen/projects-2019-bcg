{
 "cells": [
  {
   "cell_type": "markdown",
   "metadata": {},
   "source": [
    "# The Model Project (BCG group) \n",
    "##  OLG Model"
   ]
  },
  {
   "cell_type": "code",
   "execution_count": 46,
   "metadata": {},
   "outputs": [],
   "source": [
    "#importing the necessary packages \n",
    "\n",
    "import numpy as np\n",
    "from scipy import linalg\n",
    "from scipy import optimize\n",
    "import sympy as sm\n",
    "\n",
    "import matplotlib.pyplot as plt\n",
    "import numpy as np"
   ]
  },
  {
   "cell_type": "markdown",
   "metadata": {},
   "source": [
    "**General assumptions:**\n",
    "1. Closed economy with no government and no unemployment\n",
    "2. One final good is consumed or invested to produce additional output\n",
    "3. All markets are competitive\n",
    "4. Firms and households have perfect foresight about all economic variables"
   ]
  },
  {
   "cell_type": "markdown",
   "metadata": {},
   "source": [
    "**(i) Household's problem**"
   ]
  },
  {
   "cell_type": "markdown",
   "metadata": {},
   "source": [
    "It tries to maximize its utility, given by the function: \n",
    "\n",
    "\\\\[ \\max_{c_{1,t},c_{2,t+1}}U = ln{(c_{1,t})} + \\beta ln{(c_{2,t+1})}\\\\]\n",
    "\n",
    "\\\\[ \\text{ s.t. } \\\\]\n",
    "\n",
    "\\\\[z_{t+1} = w_t - c_{1,t} \\\\]\n",
    "\n",
    "\\\\[c_{2,t+1} = z_{t+1}(1 + r_{t+1})\\\\]\n",
    "\n",
    "where:\n",
    "\n",
    "1. $c_{1,t}$ consumption at period $t$\n",
    "* $c_{2,t+1}$ consumption at period $t+1$\n",
    "* $w_t$ wage\n",
    "* $r_{t+1}$ interest rate \n",
    "* $\\beta$ is the subjective discount factor, 0 < $\\beta$ < 1\n",
    "* $z_{t+1}$ is the financial assets held at the beginning of period $t+1$ by the households born at time $t$\n",
    "\n",
    "**Note:** It is assumed that each household borns and dies with no assets $\\alpha_{t}$ = 0, $\\alpha_{t+2}$ = 0 "
   ]
  },
  {
   "cell_type": "code",
   "execution_count": 2,
   "metadata": {},
   "outputs": [],
   "source": [
    "# Activating pretty printing\n",
    "sm.init_printing(use_unicode=True)"
   ]
  },
  {
   "cell_type": "code",
   "execution_count": 3,
   "metadata": {},
   "outputs": [
    {
     "data": {
      "image/png": "[encoded data removed]",
      "text/latex": [
       "$$\\left ( c_{1 t}, \\quad c_{2 t+1}, \\quad \\beta, \\quad w_{t}, \\quad z_{t+1}, \\quad r_{t+1}, \\quad L, \\quad \\omega\\right )$$"
      ],
      "text/plain": [
       "(c₁ ₜ, c₂ ₜ₊₁, β, wₜ, zₜ₊₁, rₜ₊₁, L, ω)"
      ]
     },
     "execution_count": 3,
     "metadata": {},
     "output_type": "execute_result"
    }
   ],
   "source": [
    "# Defining symbolically the necessary variables\n",
    "c1 = sm.symbols('c_1_t')\n",
    "c2 = sm.symbols('c_2_t+1')\n",
    "beta = sm.symbols('beta')\n",
    "#z0 =sm.symbols('z_t')\n",
    "#z2 = sm.symbols ('z_t+2')\n",
    "z = sm.symbols('z_t+1') \n",
    "w = sm.symbols('w_t') # wage\n",
    "r1 = sm.symbols('r_t+1')\n",
    "u = sm.symbols('U_t') #Utility\n",
    "L = sm.symbols('L') #Langrange\n",
    "omega = sm.symbols('omega') #The Langrangian multiplier\n",
    "\n",
    "# Checking that our variables have the proper format\n",
    "c1,c2, beta, w, z, r1, L, omega"
   ]
  },
  {
   "cell_type": "code",
   "execution_count": 4,
   "metadata": {},
   "outputs": [],
   "source": [
    "# Defining the utility function\n",
    "def utility(c1, c2, beta):\n",
    "    return (sm.log(c1) + beta*sm.log(c2))"
   ]
  },
  {
   "cell_type": "markdown",
   "metadata": {},
   "source": [
    "Calculating the **Lifetime Budget Constraint** that will be used at the Langranian"
   ]
  },
  {
   "cell_type": "code",
   "execution_count": 5,
   "metadata": {},
   "outputs": [
    {
     "data": {
      "image/png": "[encoded data removed]",
      "text/latex": [
       "$$\\left ( z_{t+1} = - c_{1 t} + w_{t}, \\quad c_{2 t+1} = z_{t+1} \\left(r_{t+1} + 1\\right)\\right )$$"
      ],
      "text/plain": [
       "(zₜ₊₁ = -c₁ ₜ + wₜ, c₂ ₜ₊₁ = zₜ₊₁⋅(rₜ₊₁ + 1))"
      ]
     },
     "execution_count": 5,
     "metadata": {},
     "output_type": "execute_result"
    }
   ],
   "source": [
    "#Defining the two budget constraints symbolically\n",
    "budget_constraint_1 = sm.Eq(z, w - c1)\n",
    "budget_constraint_2 = sm.Eq(c2, z*(1+r1))\n",
    "\n",
    "budget_constraint_1, budget_constraint_2"
   ]
  },
  {
   "cell_type": "markdown",
   "metadata": {},
   "source": [
    "Solve in **three steps**:\n",
    "\n",
    "1. **Solve** $z_{t+1}$ from the budget constraint 1\n",
    "2. **Substitute** in budget constraint 2\n",
    "3. **Solve** for $w_t$"
   ]
  },
  {
   "cell_type": "markdown",
   "metadata": {},
   "source": [
    "**Step 1: Solve** $z_{t+1}$ from the budget constraint 1"
   ]
  },
  {
   "cell_type": "code",
   "execution_count": 6,
   "metadata": {},
   "outputs": [
    {
     "data": {
      "image/png": "[encoded data removed]",
      "text/latex": [
       "$$\\left [ - c_{1 t} + w_{t}\\right ]$$"
      ],
      "text/plain": [
       "[-c₁ ₜ + wₜ]"
      ]
     },
     "execution_count": 6,
     "metadata": {},
     "output_type": "execute_result"
    }
   ],
   "source": [
    "z_from_constraint = sm.solve(budget_constraint_1, z)\n",
    "z_from_constraint"
   ]
  },
  {
   "cell_type": "markdown",
   "metadata": {},
   "source": [
    "**Step 2: Substitute** in budget constraint 2"
   ]
  },
  {
   "cell_type": "code",
   "execution_count": 7,
   "metadata": {},
   "outputs": [
    {
     "data": {
      "image/png": "[encoded data removed]",
      "text/latex": [
       "$$c_{2 t+1} = \\left(- c_{1 t} + w_{t}\\right) \\left(r_{t+1} + 1\\right)$$"
      ],
      "text/plain": [
       "c₂ ₜ₊₁ = (-c₁ ₜ + wₜ)⋅(rₜ₊₁ + 1)"
      ]
     },
     "execution_count": 7,
     "metadata": {},
     "output_type": "execute_result"
    }
   ],
   "source": [
    "z_subs_constraint = budget_constraint_2.subs(z, z_from_constraint[0])\n",
    "z_subs_constraint"
   ]
  },
  {
   "cell_type": "markdown",
   "metadata": {},
   "source": [
    "**Step 3: Solve** for $w_t$"
   ]
  },
  {
   "cell_type": "code",
   "execution_count": 8,
   "metadata": {},
   "outputs": [
    {
     "data": {
      "image/png": "[encoded data removed]",
      "text/latex": [
       "$$\\left [ \\frac{c_{1 t} r_{t+1} + c_{1 t} + c_{2 t+1}}{r_{t+1} + 1}\\right ]$$"
      ],
      "text/plain": [
       "⎡c₁ ₜ⋅rₜ₊₁ + c₁ ₜ + c₂ ₜ₊₁⎤\n",
       "⎢─────────────────────────⎥\n",
       "⎣         rₜ₊₁ + 1        ⎦"
      ]
     },
     "execution_count": 8,
     "metadata": {},
     "output_type": "execute_result"
    }
   ],
   "source": [
    "lifetime_budget_constraint = sm.solve(z_subs_constraint, w)\n",
    "lifetime_budget_constraint"
   ]
  },
  {
   "cell_type": "markdown",
   "metadata": {},
   "source": [
    "So, the households try to maximize their utility under the **Lifetime Budget Constraint**\n",
    "\n",
    "\\\\[ \\max_{c_{1,t},c_{2,t+1}}U = ln{(c_{1,t})} + \\beta ln{(c_{2,t+1})}\\\\]\n",
    "\n",
    "\\\\[ \\text{ s.t. } \\\\]\n",
    "\n",
    "\\\\[c_{1,t} + \\frac {c_{2,t+1}}{(1 + r_{t+1})} = w_{t}\\\\]"
   ]
  },
  {
   "cell_type": "code",
   "execution_count": 9,
   "metadata": {},
   "outputs": [
    {
     "data": {
      "image/png": "[encoded data removed]",
      "text/latex": [
       "$$- c_{1 t} - \\frac{c_{2 t+1}}{r_{t+1} + 1} + w_{t}$$"
      ],
      "text/plain": [
       "         c₂ ₜ₊₁      \n",
       "-c₁ ₜ - ──────── + wₜ\n",
       "        rₜ₊₁ + 1     "
      ]
     },
     "execution_count": 9,
     "metadata": {},
     "output_type": "execute_result"
    }
   ],
   "source": [
    "# Defining the Lifetime Budget Constraint symbolically\n",
    "budget_constraint = w - c1 - c2/(1+r1)\n",
    "budget_constraint"
   ]
  },
  {
   "cell_type": "code",
   "execution_count": 10,
   "metadata": {},
   "outputs": [
    {
     "data": {
      "image/png": "[encoded data removed]",
      "text/latex": [
       "$$\\beta \\log{\\left (c_{2 t+1} \\right )} + \\omega \\left(- c_{1 t} - \\frac{c_{2 t+1}}{r_{t+1} + 1} + w_{t}\\right) + \\log{\\left (c_{1 t} \\right )}$$"
      ],
      "text/plain": [
       "                  ⎛         c₂ ₜ₊₁      ⎞            \n",
       "β⋅log(c₂ ₜ₊₁) + ω⋅⎜-c₁ ₜ - ──────── + wₜ⎟ + log(c₁ ₜ)\n",
       "                  ⎝        rₜ₊₁ + 1     ⎠            "
      ]
     },
     "execution_count": 10,
     "metadata": {},
     "output_type": "execute_result"
    }
   ],
   "source": [
    "#Constructing the Langrangian\n",
    "Langrangian = utility(c1, c2, beta) + omega * budget_constraint\n",
    "Langrangian"
   ]
  },
  {
   "cell_type": "markdown",
   "metadata": {},
   "source": [
    "Solve in **six steps**:\n",
    "\n",
    "1. **Calculate** the two FOCs wrt. $c_{1,t}$ and $c_{2,t+1}$\n",
    "2. **Isolate** the first FOC for $\\omega$\n",
    "3. **Substitute** in the second FOC\n",
    "4. **Isolate** the second FOC for $c_{1,t}$\n",
    "5. **Substitute** into the Lifetime Budget Constraint\n",
    "6. **Solve** for $c_{2,t+1}$ to find the consumption in period 2\n",
    "7. **Substitute** $c_{2,t+1}$ in Lifetime Budget Constraint \n",
    "8. **Solve** for $c_{1,t}$ to find the consumption in period 1\n",
    "9. **Substitute** in the first budget constraint ($z_{t+1} = w_t - c_{1,t}$)\n",
    "10. **Solve** for $z_{t+1}$ to find the assets held by the household at period 2"
   ]
  },
  {
   "cell_type": "markdown",
   "metadata": {},
   "source": [
    "**Step 1: Calculate** the two FOCs wrt. $c_{1,t}$ and $c_{2,t+1}$"
   ]
  },
  {
   "cell_type": "code",
   "execution_count": 11,
   "metadata": {},
   "outputs": [
    {
     "data": {
      "image/png": "[encoded data removed]",
      "text/latex": [
       "$$\\left ( - \\omega + \\frac{1}{c_{1 t}}, \\quad \\frac{\\beta}{c_{2 t+1}} - \\frac{\\omega}{r_{t+1} + 1}\\right )$$"
      ],
      "text/plain": [
       "⎛      1      β         ω    ⎞\n",
       "⎜-ω + ────, ────── - ────────⎟\n",
       "⎝     c₁ ₜ  c₂ ₜ₊₁   rₜ₊₁ + 1⎠"
      ]
     },
     "execution_count": 11,
     "metadata": {},
     "output_type": "execute_result"
    }
   ],
   "source": [
    "foc1 = sm.diff(Langrangian, c1)\n",
    "foc2 = sm.diff(Langrangian, c2)\n",
    "\n",
    "foc1, foc2"
   ]
  },
  {
   "cell_type": "markdown",
   "metadata": {},
   "source": [
    "**Step 2: Isolate** the first FOC for $\\omega$"
   ]
  },
  {
   "cell_type": "code",
   "execution_count": 12,
   "metadata": {},
   "outputs": [
    {
     "data": {
      "image/png": "[encoded data removed]",
      "text/latex": [
       "$$\\left [ \\frac{1}{c_{1 t}}\\right ]$$"
      ],
      "text/plain": [
       "⎡ 1  ⎤\n",
       "⎢────⎥\n",
       "⎣c₁ ₜ⎦"
      ]
     },
     "execution_count": 12,
     "metadata": {},
     "output_type": "execute_result"
    }
   ],
   "source": [
    "foc_1 = sm.solve(foc1, omega)\n",
    "foc_1"
   ]
  },
  {
   "cell_type": "markdown",
   "metadata": {},
   "source": [
    "**Step 3: Substitute** in the second FOC"
   ]
  },
  {
   "cell_type": "code",
   "execution_count": 13,
   "metadata": {},
   "outputs": [
    {
     "data": {
      "image/png": "[encoded data removed]",
      "text/latex": [
       "$$\\frac{\\beta}{c_{2 t+1}} - \\frac{1}{c_{1 t} \\left(r_{t+1} + 1\\right)}$$"
      ],
      "text/plain": [
       "  β             1       \n",
       "────── - ───────────────\n",
       "c₂ ₜ₊₁   c₁ ₜ⋅(rₜ₊₁ + 1)"
      ]
     },
     "execution_count": 13,
     "metadata": {},
     "output_type": "execute_result"
    }
   ],
   "source": [
    "foc_2 = foc2.subs(omega, foc_1[0])\n",
    "foc_2"
   ]
  },
  {
   "cell_type": "markdown",
   "metadata": {},
   "source": [
    "**Step 4: Isolate** the second FOC for $c_{1,t}$"
   ]
  },
  {
   "cell_type": "code",
   "execution_count": 14,
   "metadata": {},
   "outputs": [
    {
     "data": {
      "image/png": "[encoded data removed]",
      "text/latex": [
       "$$\\left [ \\frac{c_{2 t+1}}{\\beta \\left(r_{t+1} + 1\\right)}\\right ]$$"
      ],
      "text/plain": [
       "⎡   c₂ ₜ₊₁   ⎤\n",
       "⎢────────────⎥\n",
       "⎣β⋅(rₜ₊₁ + 1)⎦"
      ]
     },
     "execution_count": 14,
     "metadata": {},
     "output_type": "execute_result"
    }
   ],
   "source": [
    "AB = sm.solve(foc_2, c1)\n",
    "AB"
   ]
  },
  {
   "cell_type": "markdown",
   "metadata": {},
   "source": [
    "**Step 5: Substitute** into the Lifetime Budget Constraint"
   ]
  },
  {
   "cell_type": "code",
   "execution_count": 15,
   "metadata": {},
   "outputs": [
    {
     "data": {
      "image/png": "[encoded data removed]",
      "text/latex": [
       "$$- \\frac{c_{2 t+1}}{r_{t+1} + 1} + w_{t} - \\frac{c_{2 t+1}}{\\beta \\left(r_{t+1} + 1\\right)}$$"
      ],
      "text/plain": [
       "   c₂ ₜ₊₁            c₂ ₜ₊₁   \n",
       "- ──────── + wₜ - ────────────\n",
       "  rₜ₊₁ + 1        β⋅(rₜ₊₁ + 1)"
      ]
     },
     "execution_count": 15,
     "metadata": {},
     "output_type": "execute_result"
    }
   ],
   "source": [
    "ABC = budget_constraint.subs(c1, AB[0])\n",
    "ABC"
   ]
  },
  {
   "cell_type": "markdown",
   "metadata": {},
   "source": [
    "**Step 6: Solve** for $c_{2,t+1}$ to find the consumption in period 2"
   ]
  },
  {
   "cell_type": "code",
   "execution_count": 16,
   "metadata": {},
   "outputs": [
    {
     "data": {
      "image/png": "[encoded data removed]",
      "text/latex": [
       "$$\\left [ \\frac{\\beta w_{t} \\left(r_{t+1} + 1\\right)}{\\beta + 1}\\right ]$$"
      ],
      "text/plain": [
       "⎡β⋅wₜ⋅(rₜ₊₁ + 1)⎤\n",
       "⎢───────────────⎥\n",
       "⎣     β + 1     ⎦"
      ]
     },
     "execution_count": 16,
     "metadata": {},
     "output_type": "execute_result"
    }
   ],
   "source": [
    "consumption_2 = sm.solve(ABC,c2)\n",
    "consumption_2"
   ]
  },
  {
   "cell_type": "markdown",
   "metadata": {},
   "source": [
    "**Step 7: Substitute** $c_{2,t+1}$ in Lifetime Budget Constraint"
   ]
  },
  {
   "cell_type": "code",
   "execution_count": 17,
   "metadata": {},
   "outputs": [
    {
     "data": {
      "image/png": "[encoded data removed]",
      "text/latex": [
       "$$- \\frac{\\beta w_{t}}{\\beta + 1} - c_{1 t} + w_{t}$$"
      ],
      "text/plain": [
       "   β⋅wₜ            \n",
       "- ───── - c₁ ₜ + wₜ\n",
       "  β + 1            "
      ]
     },
     "execution_count": 17,
     "metadata": {},
     "output_type": "execute_result"
    }
   ],
   "source": [
    "ABCD = budget_constraint.subs(c2, consumption_2[0])\n",
    "ABCD"
   ]
  },
  {
   "cell_type": "markdown",
   "metadata": {},
   "source": [
    "**Step 8: Solve** for $c_{1,t}$ to find the consumption in period 1 "
   ]
  },
  {
   "cell_type": "code",
   "execution_count": 18,
   "metadata": {},
   "outputs": [
    {
     "data": {
      "image/png": "[encoded data removed]",
      "text/latex": [
       "$$\\left [ \\frac{w_{t}}{\\beta + 1}\\right ]$$"
      ],
      "text/plain": [
       "⎡  wₜ ⎤\n",
       "⎢─────⎥\n",
       "⎣β + 1⎦"
      ]
     },
     "execution_count": 18,
     "metadata": {},
     "output_type": "execute_result"
    }
   ],
   "source": [
    "consumption_1 = sm.solve(ABCD, c1)\n",
    "consumption_1"
   ]
  },
  {
   "cell_type": "markdown",
   "metadata": {},
   "source": [
    "**Step 9: Substitute** in the first budget constraint ($z_{t+1} = w_t - c_{1,t}$)"
   ]
  },
  {
   "cell_type": "code",
   "execution_count": 19,
   "metadata": {},
   "outputs": [
    {
     "data": {
      "image/png": "[encoded data removed]",
      "text/latex": [
       "$$z_{t+1} = w_{t} - \\frac{w_{t}}{\\beta + 1}$$"
      ],
      "text/plain": [
       "              wₜ \n",
       "zₜ₊₁ = wₜ - ─────\n",
       "            β + 1"
      ]
     },
     "execution_count": 19,
     "metadata": {},
     "output_type": "execute_result"
    }
   ],
   "source": [
    "ABCDE = budget_constraint_1.subs(c1, consumption_1[0])\n",
    "ABCDE"
   ]
  },
  {
   "cell_type": "markdown",
   "metadata": {},
   "source": [
    "**Step 10: Solve** for $z_{t+1}$ to find the assets held by the household at period 2"
   ]
  },
  {
   "cell_type": "code",
   "execution_count": 20,
   "metadata": {},
   "outputs": [
    {
     "data": {
      "image/png": "[encoded data removed]",
      "text/latex": [
       "$$\\left [ \\frac{\\beta w_{t}}{\\beta + 1}\\right ]$$"
      ],
      "text/plain": [
       "⎡ β⋅wₜ⎤\n",
       "⎢─────⎥\n",
       "⎣β + 1⎦"
      ]
     },
     "execution_count": 20,
     "metadata": {},
     "output_type": "execute_result"
    }
   ],
   "source": [
    "Assets = sm.solve(ABCDE, z)\n",
    "Assets"
   ]
  },
  {
   "cell_type": "markdown",
   "metadata": {},
   "source": [
    "**Conclusion:** After solving the Household's problem we found that:\n",
    "\n",
    "\\\\[c_{1,t} = \\frac {w_t}{1+\\beta}\\\\],\n",
    "\\\\[c_{2,t+1} = (1+r_{t+1}) \\frac {1}{1+(\\frac{1}{\\beta})} w_{t}\\\\]\n",
    "\\\\[z_{t+1} = \\frac {1}{1+(\\frac{1}{\\beta})} w_{t}\\\\]"
   ]
  },
  {
   "cell_type": "markdown",
   "metadata": {},
   "source": [
    "**(ii) Firm's Problem**"
   ]
  },
  {
   "cell_type": "markdown",
   "metadata": {},
   "source": [
    "The **production function** is a **Cobb-Douglas** with the format of:\n",
    "\n",
    "\\\\[ Y_{t} = K_{t}^{\\alpha}(A_{t}L_{t})^{1-\\alpha}\\\\]\n",
    "\n",
    "where:\n",
    "\n",
    "1. $Y_t = F(K_t,A_tL_t)$ is the produced output  \n",
    "\n",
    "* $K_t$ is the capital\n",
    "\n",
    "* $L_t$ is the labor force, growing exogenously at rate $n$,\\\\[L_{t+1} = {(1-n)} L_{t}\\\\]\n",
    "\n",
    "* $A_t$ is the index of technological progress, growing exogenously at rate of $g$,\\\\[A_{t+1} = {(1-g)} A_{t}\\\\] \n",
    "\n",
    "* $a$ is the share of physical capital and 0 < $a$ < 1\n",
    "\n",
    "**Note 1:** It is assumed that capital ($K_{t}$) depreciates at rate $\\delta$ per period, too. \n",
    "\n",
    "**Note 2:** It is more convenient to write $Y_{t}$ and $K_{t}$ per effective worker, so \\\\[y_{t} = \\frac {Y_{t}}{A_{t}L_{t}}\\\\] and \\\\[k_{t} = \\frac {K_{t}}{A_{t}L_{t}}\\\\]\n",
    "\n",
    "**Note 3:** The firm is trying to maximize its profits under perfect competition and no-adjustment costs. So, in the equillibrium firms want to equalise both **Marginal Products $(MPK_t, MPL_t)$** with their rental rates **($r_{t} + \\delta$, $w_{t}$)**, respectively. \n",
    "\n",
    "**FOC's** of the production fuction\n",
    "\n",
    "\\\\[ MPK_{t} : {\\alpha}k_{t}^{\\alpha-1} = r_{t}+{\\delta}\\\\]\n",
    "\n",
    "\\\\[ MPL_{t} : {1-\\alpha}A_{t}k_{t}^{\\alpha} = w_{t}\\\\]"
   ]
  },
  {
   "cell_type": "code",
   "execution_count": 21,
   "metadata": {},
   "outputs": [
    {
     "data": {
      "image/png": "[encoded data removed]",
      "text/latex": [
       "$$\\left ( \\alpha, \\quad k_{t}, \\quad r_{t}, \\quad \\delta, \\quad w_{t}, \\quad A_{t}, \\quad A_{t+1}, \\quad g, \\quad L_{t}, \\quad L_{t+1}, \\quad n\\right )$$"
      ],
      "text/plain": [
       "(α, kₜ, rₜ, δ, wₜ, Aₜ, A_{t+1}, g, L_{t}, L_{t+1}, n)"
      ]
     },
     "execution_count": 21,
     "metadata": {},
     "output_type": "execute_result"
    }
   ],
   "source": [
    "# Defining symbolically the necessary variables\n",
    "alpha = sm.symbols('alpha') # share of physical capital\n",
    "k = sm.symbols ('k_t') \n",
    "r = sm.symbols('r_t') # interest rate\n",
    "delta = sm.symbols('delta') # depreciation rate of capital per period\n",
    "A = sm.symbols('A_t') # technological index\n",
    "A1 = sm.symbols('A_{t+1}')\n",
    "g = sm.symbols ('g') #rate of technological growth\n",
    "L0 = sm.symbols('L_{t}')\n",
    "L1 = sm.symbols('L_{t+1}')\n",
    "n = sm.symbols('n') #growth of labor force\n",
    "\n",
    "# Checking that our variables have the proper format\n",
    "alpha, k, r, delta, A, A1, g, L0, L1, n"
   ]
  },
  {
   "cell_type": "markdown",
   "metadata": {},
   "source": [
    "First we define the equations for the **technological** and the **labor's force** growth and solve them wrt to period t for later use: "
   ]
  },
  {
   "cell_type": "code",
   "execution_count": 22,
   "metadata": {},
   "outputs": [
    {
     "data": {
      "image/png": "[encoded data removed]",
      "text/latex": [
       "$$\\left ( A_{t} \\left(g + 1\\right) = A_{t+1}, \\quad L_{t} \\left(n + 1\\right) = L_{t+1}\\right )$$"
      ],
      "text/plain": [
       "(Aₜ⋅(g + 1) = A_{t+1}, L_{t}⋅(n + 1) = L_{t+1})"
      ]
     },
     "execution_count": 22,
     "metadata": {},
     "output_type": "execute_result"
    }
   ],
   "source": [
    "tech = sm.Eq((1+g)*A, A1)\n",
    "labor = sm.Eq((1+n)*L0, L1)\n",
    "\n",
    "tech, labor"
   ]
  },
  {
   "cell_type": "code",
   "execution_count": 23,
   "metadata": {},
   "outputs": [
    {
     "data": {
      "image/png": "[encoded data removed]",
      "text/latex": [
       "$$\\left ( \\left [ \\frac{A_{t+1}}{g + 1}\\right ], \\quad \\left [ \\frac{L_{t+1}}{n + 1}\\right ]\\right )$$"
      ],
      "text/plain": [
       "⎛⎡A_{t+1}⎤  ⎡L_{t+1}⎤⎞\n",
       "⎜⎢───────⎥, ⎢───────⎥⎟\n",
       "⎝⎣ g + 1 ⎦  ⎣ n + 1 ⎦⎠"
      ]
     },
     "execution_count": 23,
     "metadata": {},
     "output_type": "execute_result"
    }
   ],
   "source": [
    "tech0 = sm.solve(tech, A)\n",
    "labor0 = sm.solve(labor, L0)\n",
    "\n",
    "tech0, labor0"
   ]
  },
  {
   "cell_type": "markdown",
   "metadata": {},
   "source": [
    "Then we define the two FOCs from the firms maximization and equalize them with their respective rental rates"
   ]
  },
  {
   "cell_type": "code",
   "execution_count": 24,
   "metadata": {},
   "outputs": [
    {
     "data": {
      "image/png": "[encoded data removed]",
      "text/latex": [
       "$$\\left ( \\alpha k_{t}^{\\alpha - 1} = \\delta + r_{t}, \\quad A_{t} k_{t}^{\\alpha} \\left(- \\alpha + 1\\right) = w_{t}\\right )$$"
      ],
      "text/plain": [
       "⎛    α - 1                α              ⎞\n",
       "⎝α⋅kₜ      = δ + rₜ, Aₜ⋅kₜ ⋅(-α + 1) = wₜ⎠"
      ]
     },
     "execution_count": 24,
     "metadata": {},
     "output_type": "execute_result"
    }
   ],
   "source": [
    "# Defining the two FOC's and setting them equal with their rental rates\n",
    "MPK = sm.Eq((alpha*k**(alpha-1)), r+delta)\n",
    "MPL = sm.Eq (((1-alpha)*A*k**alpha), w)\n",
    "\n",
    "MPK, MPL"
   ]
  },
  {
   "cell_type": "markdown",
   "metadata": {},
   "source": [
    "**Note:** We will solve the MPL wrt. to w, for later use"
   ]
  },
  {
   "cell_type": "code",
   "execution_count": 25,
   "metadata": {},
   "outputs": [
    {
     "data": {
      "image/png": "[encoded data removed]",
      "text/latex": [
       "$$\\left [ A_{t} k_{t}^{\\alpha} \\left(- \\alpha + 1\\right)\\right ]$$"
      ],
      "text/plain": [
       "⎡     α         ⎤\n",
       "⎣Aₜ⋅kₜ ⋅(-α + 1)⎦"
      ]
     },
     "execution_count": 25,
     "metadata": {},
     "output_type": "execute_result"
    }
   ],
   "source": [
    "Wage = sm.solve(MPL, w)\n",
    "Wage"
   ]
  },
  {
   "cell_type": "markdown",
   "metadata": {},
   "source": [
    "**Conclusion:** From the firm's maximization problem we calculated the wage: \n",
    "\n",
    "\\\\[ w_{t} = A_{t} (\\frac{\\delta + r_{t}}{\\alpha})^\\frac{1}{\\alpha -1} {(1-\\alpha)}\\\\]"
   ]
  },
  {
   "cell_type": "markdown",
   "metadata": {},
   "source": [
    "**(iii) Aggregation**"
   ]
  },
  {
   "cell_type": "markdown",
   "metadata": {},
   "source": [
    "**Note:** the crucial aggregation is the one of physical capital , which we do it at time t+1 just for convience.\n"
   ]
  },
  {
   "cell_type": "code",
   "execution_count": 26,
   "metadata": {},
   "outputs": [
    {
     "data": {
      "image/png": "[encoded data removed]",
      "text/latex": [
       "$$\\left ( K_{t+1}^{s}, \\quad K_{t+1}^{s}, \\quad K_{t+1}, \\quad g^{*}, \\quad k_{t+1}\\right )$$"
      ],
      "text/plain": [
       "(K_{t+1}__{s}, K_{t+1}__{s}, K_{t+1}, g__{*}, k_{t+1})"
      ]
     },
     "execution_count": 26,
     "metadata": {},
     "output_type": "execute_result"
    }
   ],
   "source": [
    "Ks = sm.symbols('K_{t+1}^{s}') #aggregate supply of physical capital at period t+1\n",
    "Kd = sm.symbols('K_{t+1}^{s}')#aggregate demand of physical capital at period t+1\n",
    "K = sm.symbols('K_{t+1}')\n",
    "g1 = sm.symbols('g^{*}')\n",
    "k1 = sm.symbols('k_{t+1}')\n",
    "\n",
    "# Checking that our variables have the proper format\n",
    "Ks, Kd, K, g1, k1"
   ]
  },
  {
   "cell_type": "markdown",
   "metadata": {},
   "source": [
    "Solve in **seven steps**:\n",
    "\n",
    "1. **Define** the capital supply $K_{t+1}^{s}$\n",
    "2. **Substitute** for $z_{t+1}$ as calculated in the Household's problem\n",
    "3. **Substitute** for $w_{t}$ as calculated in the Firm's problem\n",
    "4. **Substitute** $A_{t}$ with $A_{t+1}$\n",
    "5. **Substitute** $L_{t}$ with $L_{t+1}$\n",
    "6. **Substitute** $(1+n)(1+g)$ with $g^{*}$\n",
    "7. **Equalize** $K_{t+1}^{s} = K_{t+1}^{d} = K_{t+1}$"
   ]
  },
  {
   "cell_type": "markdown",
   "metadata": {},
   "source": [
    "**Step 1: Define** the capital supply $K_{t+1}^{s}$"
   ]
  },
  {
   "cell_type": "code",
   "execution_count": 27,
   "metadata": {},
   "outputs": [
    {
     "data": {
      "image/png": "[encoded data removed]",
      "text/latex": [
       "$$L_{t} z_{t+1} = K_{t+1}^{s}$$"
      ],
      "text/plain": [
       "L_{t}⋅zₜ₊₁ = K_{t+1}__{s}"
      ]
     },
     "execution_count": 27,
     "metadata": {},
     "output_type": "execute_result"
    }
   ],
   "source": [
    "capital_supply = sm.Eq(L0*z ,Ks)\n",
    "capital_supply"
   ]
  },
  {
   "cell_type": "markdown",
   "metadata": {},
   "source": [
    "**Step 2: Substitute** for $z_{t+1}$ as calculated in the Household's problem"
   ]
  },
  {
   "cell_type": "code",
   "execution_count": 28,
   "metadata": {},
   "outputs": [
    {
     "data": {
      "image/png": "[encoded data removed]",
      "text/latex": [
       "$$\\frac{L_{t} \\beta w_{t}}{\\beta + 1} = K_{t+1}^{s}$$"
      ],
      "text/plain": [
       "L_{t}⋅β⋅wₜ               \n",
       "────────── = K_{t+1}__{s}\n",
       "  β + 1                  "
      ]
     },
     "execution_count": 28,
     "metadata": {},
     "output_type": "execute_result"
    }
   ],
   "source": [
    "H = capital_supply.subs(z, Assets[0])\n",
    "H"
   ]
  },
  {
   "cell_type": "markdown",
   "metadata": {},
   "source": [
    "**Note:** the wage ($w_{t}$) must be compatible with the demand by firms at period t. So, \n",
    "\n",
    "\n",
    "\\\\[ K_{t+1}^{s} = K_{t+1}^{d} = K_{t+1}\\\\]"
   ]
  },
  {
   "cell_type": "markdown",
   "metadata": {},
   "source": [
    "**Step 3: Substitute** for $w_{t}$ as calculated in the Firm's problem"
   ]
  },
  {
   "cell_type": "code",
   "execution_count": 29,
   "metadata": {},
   "outputs": [
    {
     "data": {
      "image/png": "[encoded data removed]",
      "text/latex": [
       "$$\\frac{A_{t} L_{t} \\beta k_{t}^{\\alpha} \\left(- \\alpha + 1\\right)}{\\beta + 1} = K_{t+1}^{s}$$"
      ],
      "text/plain": [
       "             α                        \n",
       "Aₜ⋅L_{t}⋅β⋅kₜ ⋅(-α + 1)               \n",
       "─────────────────────── = K_{t+1}__{s}\n",
       "         β + 1                        "
      ]
     },
     "execution_count": 29,
     "metadata": {},
     "output_type": "execute_result"
    }
   ],
   "source": [
    "I = H.subs(w, Wage[0])\n",
    "I"
   ]
  },
  {
   "cell_type": "markdown",
   "metadata": {},
   "source": [
    "**Step 4: Substitute** $A_{t}$ with $A_{t+1}$"
   ]
  },
  {
   "cell_type": "code",
   "execution_count": 30,
   "metadata": {},
   "outputs": [
    {
     "data": {
      "image/png": "[encoded data removed]",
      "text/latex": [
       "$$\\frac{A_{t+1} L_{t} \\beta k_{t}^{\\alpha} \\left(- \\alpha + 1\\right)}{\\left(\\beta + 1\\right) \\left(g + 1\\right)} = K_{t+1}^{s}$$"
      ],
      "text/plain": [
       "                  α                        \n",
       "A_{t+1}⋅L_{t}⋅β⋅kₜ ⋅(-α + 1)               \n",
       "──────────────────────────── = K_{t+1}__{s}\n",
       "      (β + 1)⋅(g + 1)                      "
      ]
     },
     "execution_count": 30,
     "metadata": {},
     "output_type": "execute_result"
    }
   ],
   "source": [
    "J = I.subs(A, tech0[0])\n",
    "J"
   ]
  },
  {
   "cell_type": "markdown",
   "metadata": {},
   "source": [
    "**Step 5: Substitute** $L_{t}$ with $L_{t+1}$"
   ]
  },
  {
   "cell_type": "code",
   "execution_count": 31,
   "metadata": {},
   "outputs": [
    {
     "data": {
      "image/png": "[encoded data removed]",
      "text/latex": [
       "$$\\frac{A_{t+1} L_{t+1} \\beta k_{t}^{\\alpha} \\left(- \\alpha + 1\\right)}{\\left(\\beta + 1\\right) \\left(g + 1\\right) \\left(n + 1\\right)} = K_{t+1}^{s}$$"
      ],
      "text/plain": [
       "                    α                        \n",
       "A_{t+1}⋅L_{t+1}⋅β⋅kₜ ⋅(-α + 1)               \n",
       "────────────────────────────── = K_{t+1}__{s}\n",
       "   (β + 1)⋅(g + 1)⋅(n + 1)                   "
      ]
     },
     "execution_count": 31,
     "metadata": {},
     "output_type": "execute_result"
    }
   ],
   "source": [
    "M = J.subs(L0, labor0[0])\n",
    "M"
   ]
  },
  {
   "cell_type": "markdown",
   "metadata": {},
   "source": [
    "**Step 6: Substitute** $(1+n)(1+g)$ with $g^{*}$"
   ]
  },
  {
   "cell_type": "code",
   "execution_count": 32,
   "metadata": {},
   "outputs": [
    {
     "data": {
      "image/png": "[encoded data removed]",
      "text/latex": [
       "$$\\frac{A_{t+1} L_{t+1} \\beta k_{t}^{\\alpha} \\left(- \\alpha + 1\\right)}{g^{*} \\left(\\beta + 1\\right)} = K_{t+1}^{s}$$"
      ],
      "text/plain": [
       "                    α                        \n",
       "A_{t+1}⋅L_{t+1}⋅β⋅kₜ ⋅(-α + 1)               \n",
       "────────────────────────────── = K_{t+1}__{s}\n",
       "        g__{*}⋅(β + 1)                       "
      ]
     },
     "execution_count": 32,
     "metadata": {},
     "output_type": "execute_result"
    }
   ],
   "source": [
    "N = M.subs(((1+g)*(1+n)), g1)\n",
    "N"
   ]
  },
  {
   "cell_type": "markdown",
   "metadata": {},
   "source": [
    "**Step 7: Equalize** $K_{t+1}^{s} = K_{t+1}^{d} = K_{t+1}$"
   ]
  },
  {
   "cell_type": "code",
   "execution_count": 33,
   "metadata": {},
   "outputs": [
    {
     "data": {
      "image/png": "[encoded data removed]",
      "text/latex": [
       "$$\\frac{A_{t+1} L_{t+1} \\beta k_{t}^{\\alpha} \\left(- \\alpha + 1\\right)}{g^{*} \\left(\\beta + 1\\right)} = K_{t+1}$$"
      ],
      "text/plain": [
       "                    α                   \n",
       "A_{t+1}⋅L_{t+1}⋅β⋅kₜ ⋅(-α + 1)          \n",
       "────────────────────────────── = K_{t+1}\n",
       "        g__{*}⋅(β + 1)                  "
      ]
     },
     "execution_count": 33,
     "metadata": {},
     "output_type": "execute_result"
    }
   ],
   "source": [
    "P = N.subs(Ks, K)\n",
    "P"
   ]
  },
  {
   "cell_type": "markdown",
   "metadata": {},
   "source": [
    "If we divide both sides of the equation with $A_{t+1}L_{t+1}$ then we will obtain the **Key Transition Equation:**\n",
    "\n",
    "\\\\[ k_{t+1} = \\frac {(1-\\alpha)}{(1+g^{*})(1+ \\frac{1}{\\beta})} k_{t}^\\alpha\\\\]\n",
    "\n",
    "where \n",
    "\n",
    "\\\\[ (1+g^{*}) = (1+g)(1+n)\\\\]\n",
    "\n",
    "and $g^{*}$ denotes the per period growth rate of effective workers (AL)"
   ]
  },
  {
   "cell_type": "code",
   "execution_count": 40,
   "metadata": {},
   "outputs": [],
   "source": [
    "g1 = lambda n, g: (1+g)*(1+n)-1\n",
    "solution = lambda k, alpha = 0.8 , g = 0.1, n = 0.2, beta = 0.3: (1-alpha)*k**alpha / ((1+g1(n,g))*(1+1/beta))"
   ]
  },
  {
   "cell_type": "code",
   "execution_count": 44,
   "metadata": {},
   "outputs": [
    {
     "data": {
      "text/plain": [
       "array([8.3586521 , 3.405737  , 6.34473299, 6.86536826, 4.08412425,\n",
       "       5.1410276 , 7.27336931, 3.19936003, 1.54581618, 5.71168495])"
      ]
     },
     "execution_count": 44,
     "metadata": {},
     "output_type": "execute_result"
    }
   ],
   "source": [
    "np.random.seed(2000)\n",
    "ABCDEFG = np.random.randint(100, 1000, 10)\n",
    "solution(ABCDEFG)"
   ]
  },
  {
   "cell_type": "code",
   "execution_count": 45,
   "metadata": {},
   "outputs": [
    {
     "data": {
      "text/plain": [
       "array([114, 283, 306, 384, 512, 584, 666, 735, 790, 940])"
      ]
     },
     "execution_count": 45,
     "metadata": {},
     "output_type": "execute_result"
    }
   ],
   "source": [
    "ABCDEFG.sort()\n",
    "ABCDEFG"
   ]
  },
  {
   "cell_type": "code",
   "execution_count": 47,
   "metadata": {},
   "outputs": [
    {
     "data": {
      "image/png": "[encoded data removed]",
      "text/plain": [
       "<Figure size 432x288 with 1 Axes>"
      ]
     },
     "metadata": {
      "needs_background": "light"
     },
     "output_type": "display_data"
    }
   ],
   "source": [
    "fig = plt.figure()\n",
    "ax = fig.add_subplot(1,1,1)\n",
    "\n",
    "ax.plot(ABCDEFG,label='random k_{t}')\n",
    "ax.plot(solution(ABCDEFG),label='k_{t+1}')\n",
    "\n",
    "\n",
    "plt.show()"
   ]
  },
  {
   "cell_type": "code",
   "execution_count": null,
   "metadata": {},
   "outputs": [],
   "source": []
  },
  {
   "cell_type": "code",
   "execution_count": null,
   "metadata": {},
   "outputs": [],
   "source": []
  },
  {
   "cell_type": "code",
   "execution_count": null,
   "metadata": {},
   "outputs": [],
   "source": []
  },
  {
   "cell_type": "code",
   "execution_count": null,
   "metadata": {},
   "outputs": [],
   "source": []
  },
  {
   "cell_type": "markdown",
   "metadata": {},
   "source": [
    "**(iv) Steady State**"
   ]
  },
  {
   "cell_type": "markdown",
   "metadata": {},
   "source": [
    "The **Key Transition Equation**  can describe the evolution of the capital per effective worker over two consecutive periods, too. If we are interested in the analysis of steady states, then  $k_{t+1} = k_{t} = k^{*}$ and it becomes\n",
    "\n",
    "\\\\[ k^{*} = \\frac{(1-\\alpha)}{(1+g^{*})(1+ \\frac{1}{\\beta})}^\\frac{1}{1-\\alpha}\\\\]\n",
    "\n",
    "which means that capital per effective worker is constant. "
   ]
  },
  {
   "cell_type": "code",
   "execution_count": null,
   "metadata": {},
   "outputs": [],
   "source": []
  },
  {
   "cell_type": "code",
   "execution_count": null,
   "metadata": {},
   "outputs": [],
   "source": []
  },
  {
   "cell_type": "code",
   "execution_count": null,
   "metadata": {},
   "outputs": [],
   "source": []
  },
  {
   "cell_type": "code",
   "execution_count": null,
   "metadata": {},
   "outputs": [],
   "source": []
  },
  {
   "cell_type": "code",
   "execution_count": null,
   "metadata": {},
   "outputs": [],
   "source": []
  },
  {
   "cell_type": "code",
   "execution_count": null,
   "metadata": {},
   "outputs": [],
   "source": []
  },
  {
   "cell_type": "code",
   "execution_count": 36,
   "metadata": {},
   "outputs": [],
   "source": [
    "def bisection(f,a,b,max_iter=500,tol=1e-6,full_info=False):\n",
    "    \"\"\" bisection\n",
    "    \n",
    "    Solve equation f(x) = 0 for a <= x <= b.\n",
    "    \n",
    "    Args:\n",
    "    \n",
    "        f (function): function\n",
    "        a (float): left bound\n",
    "        b (float): right bound\n",
    "        tol (float): tolerance on solution\n",
    "        \n",
    "    Returns:\n",
    "    \n",
    "        m (float): root\n",
    "    \n",
    "    \"\"\"\n",
    "    \n",
    "    # test inputs\n",
    "    if f(a)*f(b) >= 0:\n",
    "        print(\"bisection method fails.\")\n",
    "        return None\n",
    "    \n",
    "    # step 1: initialize\n",
    "    _a = a\n",
    "    _b = b\n",
    "    a = np.zeros(max_iter)\n",
    "    b = np.zeros(max_iter)\n",
    "    m = np.zeros(max_iter)\n",
    "    fm = np.zeros(max_iter)\n",
    "    a[0] = _a\n",
    "    b[0] = _b\n",
    "    \n",
    "    # step 2-4: main\n",
    "    i = 0\n",
    "    while i < max_iter:\n",
    "        \n",
    "        # step 2: midpoint and associated value\n",
    "        m[i] = (a[i]+b[i])/2\n",
    "        fm[i] = f(m[i])\n",
    "        \n",
    "        # step 3: determine sub-interval\n",
    "        if abs(fm[i]) < tol:\n",
    "            break        \n",
    "        elif f(a[i])*fm[i] < 0:\n",
    "            a[i+1] = a[i]\n",
    "            b[i+1] = m[i]\n",
    "        elif f(b[i])*fm[i] < 0:\n",
    "            a[i+1] = m[i]\n",
    "            b[i+1] = b[i]\n",
    "        else:\n",
    "            print(\"bisection method fails.\")\n",
    "            return None\n",
    "        \n",
    "        i += 1\n",
    "        \n",
    "    if full_info:\n",
    "        return m,i,a,b,fm\n",
    "    else:\n",
    "        return m[i],i"
   ]
  },
  {
   "cell_type": "code",
   "execution_count": 37,
   "metadata": {},
   "outputs": [
    {
     "ename": "NameError",
     "evalue": "name 'f' is not defined",
     "output_type": "error",
     "traceback": [
      "\u001b[1;31m---------------------------------------------------------------------------\u001b[0m",
      "\u001b[1;31mNameError\u001b[0m                                 Traceback (most recent call last)",
      "\u001b[1;32m<ipython-input-37-35637c31e9cc>\u001b[0m in \u001b[0;36m<module>\u001b[1;34m\u001b[0m\n\u001b[0;32m      8\u001b[0m \u001b[1;31m#alpha = 0.8\u001b[0m\u001b[1;33m\u001b[0m\u001b[1;33m\u001b[0m\u001b[1;33m\u001b[0m\u001b[0m\n\u001b[0;32m      9\u001b[0m \u001b[1;31m#g = lambda r: f(r,A=1,beta=0.3,alpha=0.8)\u001b[0m\u001b[1;33m\u001b[0m\u001b[1;33m\u001b[0m\u001b[1;33m\u001b[0m\u001b[0m\n\u001b[1;32m---> 10\u001b[1;33m \u001b[0mm\u001b[0m\u001b[1;33m,\u001b[0m\u001b[0mi\u001b[0m \u001b[1;33m=\u001b[0m \u001b[0mbisection\u001b[0m\u001b[1;33m(\u001b[0m\u001b[0mf\u001b[0m\u001b[1;33m,\u001b[0m\u001b[1;33m-\u001b[0m\u001b[1;36m25\u001b[0m\u001b[1;33m,\u001b[0m\u001b[1;36m25\u001b[0m\u001b[1;33m)\u001b[0m\u001b[1;33m\u001b[0m\u001b[1;33m\u001b[0m\u001b[0m\n\u001b[0m\u001b[0;32m     11\u001b[0m \u001b[0mprint\u001b[0m\u001b[1;33m(\u001b[0m\u001b[0mi\u001b[0m\u001b[1;33m,\u001b[0m\u001b[0mm\u001b[0m\u001b[1;33m,\u001b[0m\u001b[0mf\u001b[0m\u001b[1;33m(\u001b[0m\u001b[0mm\u001b[0m\u001b[1;33m)\u001b[0m\u001b[1;33m)\u001b[0m\u001b[1;33m\u001b[0m\u001b[1;33m\u001b[0m\u001b[0m\n",
      "\u001b[1;31mNameError\u001b[0m: name 'f' is not defined"
     ]
    }
   ],
   "source": [
    "#m,i = bisection(f,-8,7)\n",
    "#print(i,m,f(m))\n",
    "\n",
    "#m = [1, 0.3, 0.08, 0.3]\n",
    "#A = 1\n",
    "#beta = 0.3\n",
    "#delta = 0.08\n",
    "#alpha = 0.8\n",
    "#g = lambda r: f(r,A=1,beta=0.3,alpha=0.8)\n",
    "m,i = bisection(f,-25,25)\n",
    "print(i,m,f(m))"
   ]
  },
  {
   "cell_type": "code",
   "execution_count": null,
   "metadata": {},
   "outputs": [],
   "source": [
    "from scipy import optimize\n",
    "result = optimize.brentq(f,-25,25)\n",
    "result"
   ]
  },
  {
   "cell_type": "code",
   "execution_count": null,
   "metadata": {},
   "outputs": [],
   "source": []
  }
 ],
 "metadata": {
  "kernelspec": {
   "display_name": "Python 3",
   "language": "python",
   "name": "python3"
  },
  "language_info": {
   "codemirror_mode": {
    "name": "ipython",
    "version": 3
   },
   "file_extension": ".py",
   "mimetype": "text/x-python",
   "name": "python",
   "nbconvert_exporter": "python",
   "pygments_lexer": "ipython3",
   "version": "3.7.1"
  }
 },
 "nbformat": 4,
 "nbformat_minor": 2
}
