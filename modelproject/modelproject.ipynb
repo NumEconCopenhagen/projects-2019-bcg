{
 "cells": [
  {
   "cell_type": "markdown",
   "metadata": {},
   "source": [
    "# The Model Project (BCG group) \n",
    "##  OLG Model"
   ]
  },
  {
   "cell_type": "code",
   "execution_count": 1,
   "metadata": {},
   "outputs": [],
   "source": [
    "#importing the necessary packages \n",
    "\n",
    "import numpy as np\n",
    "from scipy import linalg\n",
    "from scipy import optimize\n",
    "import sympy as sm"
   ]
  },
  {
   "cell_type": "markdown",
   "metadata": {},
   "source": [
    "**General assumptions:**\n",
    "1. Closed economy with no government and no unemployment\n",
    "2. One final good is consumed or invested to produce additional output\n",
    "3. All markets are competitive\n",
    "4. Firms and households have perfect foresight about all economic variables"
   ]
  },
  {
   "cell_type": "markdown",
   "metadata": {},
   "source": [
    "**Firm's Problem**"
   ]
  },
  {
   "cell_type": "markdown",
   "metadata": {},
   "source": [
    "The **production function** is a **Cobb-Douglas** with the format of:\n",
    "\n",
    "\\\\[ Y_{t} = K_{t}^{\\alpha}(A_{t}L_{t})^{1-\\alpha}\\\\]\n",
    "\n",
    "where:\n",
    "\n",
    "1. $Y_t = F(K_t,A_tL_t)$ is the produced output  \n",
    "\n",
    "* $K_t$ is the capital\n",
    "\n",
    "* $L_t$ is the labor force, growing exogenously at rate $n$,\\\\[L_{t+1} = {(1-n)} L_{t}\\\\]\n",
    "\n",
    "* $A_t$ is the index of technological progress, growing exogenously at rate of $g$,\\\\[A_{t+1} = {(1-g)} A_{t}\\\\] \n",
    "\n",
    "* $a$ is the share of physical capital and 0 < $a$ < 1\n",
    "\n",
    "**Note 1:** It is assumed that capital ($K_{t}$) depreciates at rate $\\delta$ per period, too. \n",
    "\n",
    "**Note 2:** It is more convenient to write $Y_{t}$ and $K_{t}$ per effective worker, so \\\\[y_{t} = \\frac {Y_{t}}{A_{t}L_{t}}\\\\] and \\\\[k_{t} = \\frac {K_{t}}{A_{t}L_{t}}\\\\]\n",
    "\n",
    "**Note 3:** The firm is trying to maximize its profits under perfect competition and no-adjustment costs. So, in the equillibrium firms want to equalise both **Marginal Products $(MPK_t, MPL_t)$** with their rental rates **($r_{t} + \\delta$, $w_{t}$)**, respectively. \n",
    "\n",
    "**FOC's** of the production fuction\n",
    "\n",
    "\\\\[ MPK_{t} : {\\alpha}k_{t}^{\\alpha-1} = r_{t}+{\\delta}\\\\]\n",
    "\n",
    "\\\\[ MPL_{t} : {1-\\alpha}A_{t}k_{t}^{\\alpha} = w_{t}\\\\]"
   ]
  },
  {
   "cell_type": "code",
   "execution_count": 2,
   "metadata": {},
   "outputs": [],
   "source": [
    "# Activating pretty printing\n",
    "sm.init_printing(use_unicode=True)"
   ]
  },
  {
   "cell_type": "code",
   "execution_count": 3,
   "metadata": {},
   "outputs": [
    {
     "data": {
      "image/png": "[encoded data removed]",
      "text/latex": [
       "$$\\left ( \\alpha, \\quad k_{t}, \\quad r_{t}, \\quad \\delta, \\quad w_{t}, \\quad A_{t}\\right )$$"
      ],
      "text/plain": [
       "(α, kₜ, rₜ, δ, wₜ, Aₜ)"
      ]
     },
     "execution_count": 3,
     "metadata": {},
     "output_type": "execute_result"
    }
   ],
   "source": [
    "# Defining symbolically the necessary variables\n",
    "alpha = sm.symbols('alpha') # share of physical capital\n",
    "k = sm.symbols ('k_t') \n",
    "r = sm.symbols('r_t') # interest rate\n",
    "delta = sm.symbols('delta') # depreciation rate of capital per period\n",
    "w = sm.symbols('w_t') # wage \n",
    "A = sm.symbols('A_t') # technological index\n",
    "\n",
    "# Checking that our variables have the proper format\n",
    "alpha, k, r, delta, w, A"
   ]
  },
  {
   "cell_type": "code",
   "execution_count": 4,
   "metadata": {},
   "outputs": [
    {
     "data": {
      "image/png": "[encoded data removed]",
      "text/latex": [
       "$$\\left ( \\alpha k_{t}^{\\alpha - 1} = \\delta + r_{t}, \\quad A_{t} k_{t} \\left(- \\alpha + 1\\right) = w_{t}\\right )$$"
      ],
      "text/plain": [
       "⎛    α - 1                              ⎞\n",
       "⎝α⋅kₜ      = δ + rₜ, Aₜ⋅kₜ⋅(-α + 1) = wₜ⎠"
      ]
     },
     "execution_count": 4,
     "metadata": {},
     "output_type": "execute_result"
    }
   ],
   "source": [
    "# Defining the two FOC's and setting them equal with their rental rates\n",
    "MPK = sm.Eq((alpha*k**(alpha-1)), r+delta)\n",
    "MPL = sm.Eq (((1-alpha)*A*k), w)\n",
    "\n",
    "MPK, MPL"
   ]
  },
  {
   "cell_type": "markdown",
   "metadata": {},
   "source": [
    "Solve in **three steps**:\n",
    "\n",
    "1. **Isolate** $k_t$ from $MPK_t$\n",
    "2. **Substitute** in $MPL_t$\n",
    "3. **Solve** for $w_t$ \n",
    "\n",
    "**Note:** Maybe explain why we want to calculate the wage"
   ]
  },
  {
   "cell_type": "markdown",
   "metadata": {},
   "source": [
    "**Step 1: Isolate**"
   ]
  },
  {
   "cell_type": "code",
   "execution_count": 5,
   "metadata": {},
   "outputs": [
    {
     "data": {
      "image/png": "[encoded data removed]",
      "text/latex": [
       "$$\\left [ \\left(\\frac{\\delta + r_{t}}{\\alpha}\\right)^{\\frac{1}{\\alpha - 1}}\\right ]$$"
      ],
      "text/plain": [
       "⎡          1  ⎤\n",
       "⎢        ─────⎥\n",
       "⎢        α - 1⎥\n",
       "⎢⎛δ + rₜ⎞     ⎥\n",
       "⎢⎜──────⎟     ⎥\n",
       "⎣⎝  α   ⎠     ⎦"
      ]
     },
     "execution_count": 5,
     "metadata": {},
     "output_type": "execute_result"
    }
   ],
   "source": [
    "Kappa = sm.solve(MPK, k)\n",
    "Kappa"
   ]
  },
  {
   "cell_type": "markdown",
   "metadata": {},
   "source": [
    "**Note:** This is the equation that expresses the **Demand** of capital per worker ($k_{t}$). So, we convert it to a function"
   ]
  },
  {
   "cell_type": "code",
   "execution_count": null,
   "metadata": {},
   "outputs": [],
   "source": []
  },
  {
   "cell_type": "code",
   "execution_count": null,
   "metadata": {},
   "outputs": [],
   "source": []
  },
  {
   "cell_type": "markdown",
   "metadata": {},
   "source": [
    "**Step 2: Substitute**"
   ]
  },
  {
   "cell_type": "code",
   "execution_count": 6,
   "metadata": {},
   "outputs": [
    {
     "data": {
      "image/png": "[encoded data removed]",
      "text/latex": [
       "$$A_{t} \\left(\\frac{\\delta + r_{t}}{\\alpha}\\right)^{\\frac{1}{\\alpha - 1}} \\left(- \\alpha + 1\\right) = w_{t}$$"
      ],
      "text/plain": [
       "             1                \n",
       "           ─────              \n",
       "           α - 1              \n",
       "   ⎛δ + rₜ⎞                   \n",
       "Aₜ⋅⎜──────⎟     ⋅(-α + 1) = wₜ\n",
       "   ⎝  α   ⎠                   "
      ]
     },
     "execution_count": 6,
     "metadata": {},
     "output_type": "execute_result"
    }
   ],
   "source": [
    "G = MPL.subs(k, Kappa[0])\n",
    "G"
   ]
  },
  {
   "cell_type": "markdown",
   "metadata": {},
   "source": [
    "**Step 3: Solve**"
   ]
  },
  {
   "cell_type": "code",
   "execution_count": 7,
   "metadata": {},
   "outputs": [
    {
     "data": {
      "image/png": "[encoded data removed]",
      "text/latex": [
       "$$\\left [ A_{t} \\left(\\frac{\\delta + r_{t}}{\\alpha}\\right)^{\\frac{1}{\\alpha - 1}} \\left(- \\alpha + 1\\right)\\right ]$$"
      ],
      "text/plain": [
       "⎡             1           ⎤\n",
       "⎢           ─────         ⎥\n",
       "⎢           α - 1         ⎥\n",
       "⎢   ⎛δ + rₜ⎞              ⎥\n",
       "⎢Aₜ⋅⎜──────⎟     ⋅(-α + 1)⎥\n",
       "⎣   ⎝  α   ⎠              ⎦"
      ]
     },
     "execution_count": 7,
     "metadata": {},
     "output_type": "execute_result"
    }
   ],
   "source": [
    "Wage = sm.solve(G, w) \n",
    "\n",
    "Wage"
   ]
  },
  {
   "cell_type": "markdown",
   "metadata": {},
   "source": [
    "**Household's problem**"
   ]
  },
  {
   "cell_type": "markdown",
   "metadata": {},
   "source": [
    "It tries to maximize its utility, given by the function: \n",
    "\n",
    "\\\\[ \\max_{c_{1,t},c_{2,t+1}}U = ln{(c_{1,t})} + \\beta ln{(c_{2,t+1})}\\\\]\n",
    "\n",
    "\\\\[ \\text{ s.t. } \\\\]\n",
    "\n",
    "\\\\[z_{t+1} = w_t - c_{1,t} \\\\]\n",
    "\n",
    "\\\\[c_{2,t+1} = z_{t+1}(1 + r_{t+1})\\\\]\n",
    "\n",
    "where:\n",
    "\n",
    "1. $c_{1,t}$ consumption at period $t$\n",
    "* $c_{2,t+1}$ consumption at period $t+1$\n",
    "* $w_t$ wage\n",
    "* $r_{t+1}$ interest rate \n",
    "* $\\beta$ is the subjective discount factor, 0 < $\\beta$ < 1\n",
    "* $z_{t+1}$ is the financial assets held at the beginning of period $t+1$ by the households born at time $t$\n",
    "\n",
    "**Note:** It is assumed that each household borns and dies with no assets $\\alpha_{t}$ = 0, $\\alpha_{t+2}$ = 0 "
   ]
  },
  {
   "cell_type": "code",
   "execution_count": 8,
   "metadata": {},
   "outputs": [
    {
     "data": {
      "image/png": "[encoded data removed]",
      "text/latex": [
       "$$\\left ( c_{1 t}, \\quad c_{2 t+1}, \\quad \\beta, \\quad w_{t}, \\quad z_{t+1}, \\quad r_{t}, \\quad L, \\quad \\omega\\right )$$"
      ],
      "text/plain": [
       "(c₁ ₜ, c₂ ₜ₊₁, β, wₜ, zₜ₊₁, rₜ, L, ω)"
      ]
     },
     "execution_count": 8,
     "metadata": {},
     "output_type": "execute_result"
    }
   ],
   "source": [
    "# Defining symbolically the necessary variables\n",
    "c1 = sm.symbols('c_1_t')\n",
    "c2 = sm.symbols('c_2_t+1')\n",
    "beta = sm.symbols('beta')\n",
    "#z0 =sm.symbols('z_t')\n",
    "#z2 = sm.symbols ('z_t+2')\n",
    "z = sm.symbols('z_t+1') \n",
    "r1 = sm.symbols('r_t+1')\n",
    "u = sm.symbols('U_t') #Utility\n",
    "L = sm.symbols('L') #Langrange\n",
    "omega = sm.symbols('omega') #The Langrangian multiplier\n",
    "\n",
    "# Checking that our variables have the proper format\n",
    "c1,c2, beta, w, z, r, L, omega"
   ]
  },
  {
   "cell_type": "code",
   "execution_count": 9,
   "metadata": {},
   "outputs": [],
   "source": [
    "# Defining the utility function\n",
    "def utility(c1, c2, beta):\n",
    "    return (sm.log(c1) + beta*sm.log(c2))"
   ]
  },
  {
   "cell_type": "markdown",
   "metadata": {},
   "source": [
    "Calculating the **Lifetime Budget Constraint** that will be used at the Langranian"
   ]
  },
  {
   "cell_type": "code",
   "execution_count": 10,
   "metadata": {},
   "outputs": [
    {
     "data": {
      "image/png": "[encoded data removed]",
      "text/latex": [
       "$$\\left ( z_{t+1} = - c_{1 t} + w_{t}, \\quad c_{2 t+1} = z_{t+1} \\left(r_{t+1} + 1\\right)\\right )$$"
      ],
      "text/plain": [
       "(zₜ₊₁ = -c₁ ₜ + wₜ, c₂ ₜ₊₁ = zₜ₊₁⋅(rₜ₊₁ + 1))"
      ]
     },
     "execution_count": 10,
     "metadata": {},
     "output_type": "execute_result"
    }
   ],
   "source": [
    "#Defining the two budget constraints symbolically\n",
    "budget_constraint_1 = sm.Eq(z, w - c1)\n",
    "budget_constraint_2 = sm.Eq(c2, z*(1+r1))\n",
    "\n",
    "budget_constraint_1, budget_constraint_2"
   ]
  },
  {
   "cell_type": "markdown",
   "metadata": {},
   "source": [
    "Solve in **three steps**:\n",
    "\n",
    "1. **Solve** $z_{t+1}$ from the budget constraint 1\n",
    "2. **Substitute** in budget constraint 2\n",
    "3. **Solve** for $w_t$"
   ]
  },
  {
   "cell_type": "markdown",
   "metadata": {},
   "source": [
    "**Step 1: Solve**"
   ]
  },
  {
   "cell_type": "code",
   "execution_count": 11,
   "metadata": {},
   "outputs": [
    {
     "data": {
      "image/png": "[encoded data removed]",
      "text/latex": [
       "$$\\left [ - c_{1 t} + w_{t}\\right ]$$"
      ],
      "text/plain": [
       "[-c₁ ₜ + wₜ]"
      ]
     },
     "execution_count": 11,
     "metadata": {},
     "output_type": "execute_result"
    }
   ],
   "source": [
    "z_from_constraint = sm.solve(budget_constraint_1, z)\n",
    "z_from_constraint"
   ]
  },
  {
   "cell_type": "markdown",
   "metadata": {},
   "source": [
    "**Step 2: Substitute**"
   ]
  },
  {
   "cell_type": "code",
   "execution_count": 12,
   "metadata": {},
   "outputs": [
    {
     "data": {
      "image/png": "[encoded data removed]",
      "text/latex": [
       "$$c_{2 t+1} = \\left(- c_{1 t} + w_{t}\\right) \\left(r_{t+1} + 1\\right)$$"
      ],
      "text/plain": [
       "c₂ ₜ₊₁ = (-c₁ ₜ + wₜ)⋅(rₜ₊₁ + 1)"
      ]
     },
     "execution_count": 12,
     "metadata": {},
     "output_type": "execute_result"
    }
   ],
   "source": [
    "z_subs_constraint = budget_constraint_2.subs(z, z_from_constraint[0])\n",
    "z_subs_constraint"
   ]
  },
  {
   "cell_type": "markdown",
   "metadata": {},
   "source": [
    "**Step 3: Solve**"
   ]
  },
  {
   "cell_type": "code",
   "execution_count": 13,
   "metadata": {},
   "outputs": [
    {
     "data": {
      "image/png": "[encoded data removed]",
      "text/latex": [
       "$$\\left [ \\frac{c_{1 t} r_{t+1} + c_{1 t} + c_{2 t+1}}{r_{t+1} + 1}\\right ]$$"
      ],
      "text/plain": [
       "⎡c₁ ₜ⋅rₜ₊₁ + c₁ ₜ + c₂ ₜ₊₁⎤\n",
       "⎢─────────────────────────⎥\n",
       "⎣         rₜ₊₁ + 1        ⎦"
      ]
     },
     "execution_count": 13,
     "metadata": {},
     "output_type": "execute_result"
    }
   ],
   "source": [
    "lifetime_budget_constraint = sm.solve(z_subs_constraint, w)\n",
    "lifetime_budget_constraint"
   ]
  },
  {
   "cell_type": "markdown",
   "metadata": {},
   "source": [
    "So, the households try to maximize their utility under the **Lifetime Budget Constraint**\n",
    "\n",
    "\\\\[ \\max_{c_{1,t},c_{2,t+1}}U = ln{(c_{1,t})} + \\beta ln{(c_{2,t+1})}\\\\]\n",
    "\n",
    "\\\\[ \\text{ s.t. } \\\\]\n",
    "\n",
    "\\\\[c_{1,t} + \\frac {c_{2,t+1}}{(1 + r_{t+1})} = w_{t}\\\\]"
   ]
  },
  {
   "cell_type": "code",
   "execution_count": 14,
   "metadata": {},
   "outputs": [
    {
     "data": {
      "image/png": "[encoded data removed]",
      "text/latex": [
       "$$- c_{1 t} - \\frac{c_{2 t+1}}{r_{t+1} + 1} + w_{t}$$"
      ],
      "text/plain": [
       "         c₂ ₜ₊₁      \n",
       "-c₁ ₜ - ──────── + wₜ\n",
       "        rₜ₊₁ + 1     "
      ]
     },
     "execution_count": 14,
     "metadata": {},
     "output_type": "execute_result"
    }
   ],
   "source": [
    "# Defining the Lifetime Budget Constraint symbolically\n",
    "budget_constraint = w - c1 - c2/(1+r1)\n",
    "budget_constraint"
   ]
  },
  {
   "cell_type": "code",
   "execution_count": 15,
   "metadata": {},
   "outputs": [
    {
     "data": {
      "image/png": "[encoded data removed]",
      "text/latex": [
       "$$\\beta \\log{\\left (c_{2 t+1} \\right )} + \\omega \\left(- c_{1 t} - \\frac{c_{2 t+1}}{r_{t+1} + 1} + w_{t}\\right) + \\log{\\left (c_{1 t} \\right )}$$"
      ],
      "text/plain": [
       "                  ⎛         c₂ ₜ₊₁      ⎞            \n",
       "β⋅log(c₂ ₜ₊₁) + ω⋅⎜-c₁ ₜ - ──────── + wₜ⎟ + log(c₁ ₜ)\n",
       "                  ⎝        rₜ₊₁ + 1     ⎠            "
      ]
     },
     "execution_count": 15,
     "metadata": {},
     "output_type": "execute_result"
    }
   ],
   "source": [
    "#Constructing the Langrangian\n",
    "Langrangian = utility(c1, c2, beta) + omega * budget_constraint\n",
    "Langrangian"
   ]
  },
  {
   "cell_type": "markdown",
   "metadata": {},
   "source": [
    "Solve in **six steps**:\n",
    "\n",
    "1. **Calculate** the two FOCs wrt. $c_{1,t}$ and $c_{2,t+1}$\n",
    "2. **Isolate** the first FOC for $\\omega$\n",
    "3. **Substitute** in the second FOC\n",
    "4. **Isolate** the second FOC for $c_{1,t}$\n",
    "5. **Substitute** into the Lifetime Budget Constraint\n",
    "6. **Solve** the acquired equation for $c_{2,t+1}$"
   ]
  },
  {
   "cell_type": "markdown",
   "metadata": {},
   "source": [
    "**Step 1: Calculate** the FOCs"
   ]
  },
  {
   "cell_type": "code",
   "execution_count": 16,
   "metadata": {},
   "outputs": [
    {
     "data": {
      "image/png": "[encoded data removed]",
      "text/latex": [
       "$$\\left ( - \\omega + \\frac{1}{c_{1 t}}, \\quad \\frac{\\beta}{c_{2 t+1}} - \\frac{\\omega}{r_{t+1} + 1}\\right )$$"
      ],
      "text/plain": [
       "⎛      1      β         ω    ⎞\n",
       "⎜-ω + ────, ────── - ────────⎟\n",
       "⎝     c₁ ₜ  c₂ ₜ₊₁   rₜ₊₁ + 1⎠"
      ]
     },
     "execution_count": 16,
     "metadata": {},
     "output_type": "execute_result"
    }
   ],
   "source": [
    "foc1 = sm.diff(Langrangian, c1)\n",
    "foc2 = sm.diff(Langrangian, c2)\n",
    "\n",
    "foc1, foc2"
   ]
  },
  {
   "cell_type": "markdown",
   "metadata": {},
   "source": [
    "**Step 2: Isolate**"
   ]
  },
  {
   "cell_type": "code",
   "execution_count": 17,
   "metadata": {},
   "outputs": [
    {
     "data": {
      "image/png": "[encoded data removed]",
      "text/latex": [
       "$$\\left [ \\frac{1}{c_{1 t}}\\right ]$$"
      ],
      "text/plain": [
       "⎡ 1  ⎤\n",
       "⎢────⎥\n",
       "⎣c₁ ₜ⎦"
      ]
     },
     "execution_count": 17,
     "metadata": {},
     "output_type": "execute_result"
    }
   ],
   "source": [
    "foc_1 = sm.solve(foc1, omega)\n",
    "foc_1"
   ]
  },
  {
   "cell_type": "markdown",
   "metadata": {},
   "source": [
    "**Step 3: Substitute**"
   ]
  },
  {
   "cell_type": "code",
   "execution_count": 18,
   "metadata": {},
   "outputs": [
    {
     "data": {
      "image/png": "[encoded data removed]",
      "text/latex": [
       "$$\\frac{\\beta}{c_{2 t+1}} - \\frac{1}{c_{1 t} \\left(r_{t+1} + 1\\right)}$$"
      ],
      "text/plain": [
       "  β             1       \n",
       "────── - ───────────────\n",
       "c₂ ₜ₊₁   c₁ ₜ⋅(rₜ₊₁ + 1)"
      ]
     },
     "execution_count": 18,
     "metadata": {},
     "output_type": "execute_result"
    }
   ],
   "source": [
    "foc_2 = foc2.subs(omega, foc_1[0])\n",
    "foc_2"
   ]
  },
  {
   "cell_type": "markdown",
   "metadata": {},
   "source": [
    "**Step 4: Isolate** "
   ]
  },
  {
   "cell_type": "code",
   "execution_count": 19,
   "metadata": {},
   "outputs": [
    {
     "data": {
      "image/png": "[encoded data removed]",
      "text/latex": [
       "$$\\left [ \\frac{c_{2 t+1}}{\\beta \\left(r_{t+1} + 1\\right)}\\right ]$$"
      ],
      "text/plain": [
       "⎡   c₂ ₜ₊₁   ⎤\n",
       "⎢────────────⎥\n",
       "⎣β⋅(rₜ₊₁ + 1)⎦"
      ]
     },
     "execution_count": 19,
     "metadata": {},
     "output_type": "execute_result"
    }
   ],
   "source": [
    "AB = sm.solve(foc_2, c1)\n",
    "AB"
   ]
  },
  {
   "cell_type": "markdown",
   "metadata": {},
   "source": [
    "**Step 5: Substitute** into the Lifetime Budget Constraint"
   ]
  },
  {
   "cell_type": "code",
   "execution_count": 20,
   "metadata": {},
   "outputs": [
    {
     "data": {
      "image/png": "[encoded data removed]",
      "text/latex": [
       "$$- \\frac{c_{2 t+1}}{r_{t+1} + 1} + w_{t} - \\frac{c_{2 t+1}}{\\beta \\left(r_{t+1} + 1\\right)}$$"
      ],
      "text/plain": [
       "   c₂ ₜ₊₁            c₂ ₜ₊₁   \n",
       "- ──────── + wₜ - ────────────\n",
       "  rₜ₊₁ + 1        β⋅(rₜ₊₁ + 1)"
      ]
     },
     "execution_count": 20,
     "metadata": {},
     "output_type": "execute_result"
    }
   ],
   "source": [
    "ABC = budget_constraint.subs(c1, AB[0])\n",
    "ABC"
   ]
  },
  {
   "cell_type": "markdown",
   "metadata": {},
   "source": [
    "**Step 6: Solve**"
   ]
  },
  {
   "cell_type": "code",
   "execution_count": 21,
   "metadata": {},
   "outputs": [
    {
     "data": {
      "image/png": "[encoded data removed]",
      "text/latex": [
       "$$\\left [ \\frac{\\beta w_{t} \\left(r_{t+1} + 1\\right)}{\\beta + 1}\\right ]$$"
      ],
      "text/plain": [
       "⎡β⋅wₜ⋅(rₜ₊₁ + 1)⎤\n",
       "⎢───────────────⎥\n",
       "⎣     β + 1     ⎦"
      ]
     },
     "execution_count": 21,
     "metadata": {},
     "output_type": "execute_result"
    }
   ],
   "source": [
    "ABCD = sm.solve(ABC,c2)\n",
    "ABCD"
   ]
  },
  {
   "cell_type": "markdown",
   "metadata": {},
   "source": [
    "So, we found symbolically the consumption in period 2 ($c_{2,t+1}$). Now we want to find the **Supply** of capital per worker ($k_{t}$) in terms of interest rate, which will be given by the equation of the second budget constraint: $c_{2,t+1} = z_{t+1}(1 + r_{t+1})$ (solved wrt the assets held by the household ($z_{t+1}$))."
   ]
  },
  {
   "cell_type": "markdown",
   "metadata": {},
   "source": [
    "Solve in **four steps**:\n",
    "\n",
    "1. **Define** the consumption in period 2 ($c_{2,t+1}$) symbolically\n",
    "2. **Substitute** the wage (as calculated in the Firm's problem)\n",
    "3. **Substitute** $c_{2,t+1}$ into the second budget constraint\n",
    "4. **Solve** for $z_{t+1}$"
   ]
  },
  {
   "cell_type": "markdown",
   "metadata": {},
   "source": [
    "**Step 1: Define** the consumption"
   ]
  },
  {
   "cell_type": "code",
   "execution_count": 22,
   "metadata": {},
   "outputs": [
    {
     "data": {
      "image/png": "[encoded data removed]",
      "text/latex": [
       "$$\\frac{w_{t} \\left(r_{t+1} + 1\\right)}{1 + \\frac{1}{\\beta}}$$"
      ],
      "text/plain": [
       "wₜ⋅(rₜ₊₁ + 1)\n",
       "─────────────\n",
       "        1    \n",
       "    1 + ─    \n",
       "        β    "
      ]
     },
     "execution_count": 22,
     "metadata": {},
     "output_type": "execute_result"
    }
   ],
   "source": [
    "Consumption_2 = (1+r1)*(1/(1+1/beta))*w\n",
    "Consumption_2"
   ]
  },
  {
   "cell_type": "markdown",
   "metadata": {},
   "source": [
    "**Step 2: Substitute**"
   ]
  },
  {
   "cell_type": "code",
   "execution_count": 29,
   "metadata": {},
   "outputs": [
    {
     "data": {
      "image/png": "[encoded data removed]",
      "text/latex": [
       "$$\\frac{A_{t} \\left(\\frac{\\delta + r_{t}}{\\alpha}\\right)^{\\frac{1}{\\alpha - 1}} \\left(- \\alpha + 1\\right) \\left(r_{t+1} + 1\\right)}{1 + \\frac{1}{\\beta}}$$"
      ],
      "text/plain": [
       "             1                      \n",
       "           ─────                    \n",
       "           α - 1                    \n",
       "   ⎛δ + rₜ⎞                         \n",
       "Aₜ⋅⎜──────⎟     ⋅(-α + 1)⋅(rₜ₊₁ + 1)\n",
       "   ⎝  α   ⎠                         \n",
       "────────────────────────────────────\n",
       "                   1                \n",
       "               1 + ─                \n",
       "                   β                "
      ]
     },
     "execution_count": 29,
     "metadata": {},
     "output_type": "execute_result"
    }
   ],
   "source": [
    "Final = Consumption_2.subs(w, Wage[0])\n",
    "Final"
   ]
  },
  {
   "cell_type": "markdown",
   "metadata": {},
   "source": [
    "**Step 3: Substitute**"
   ]
  },
  {
   "cell_type": "code",
   "execution_count": 30,
   "metadata": {},
   "outputs": [
    {
     "data": {
      "image/png": "[encoded data removed]",
      "text/latex": [
       "$$\\frac{A_{t} \\left(\\frac{\\delta + r_{t}}{\\alpha}\\right)^{\\frac{1}{\\alpha - 1}} \\left(- \\alpha + 1\\right) \\left(r_{t+1} + 1\\right)}{1 + \\frac{1}{\\beta}} = z_{t+1} \\left(r_{t+1} + 1\\right)$$"
      ],
      "text/plain": [
       "             1                                        \n",
       "           ─────                                      \n",
       "           α - 1                                      \n",
       "   ⎛δ + rₜ⎞                                           \n",
       "Aₜ⋅⎜──────⎟     ⋅(-α + 1)⋅(rₜ₊₁ + 1)                  \n",
       "   ⎝  α   ⎠                                           \n",
       "──────────────────────────────────── = zₜ₊₁⋅(rₜ₊₁ + 1)\n",
       "                   1                                  \n",
       "               1 + ─                                  \n",
       "                   β                                  "
      ]
     },
     "execution_count": 30,
     "metadata": {},
     "output_type": "execute_result"
    }
   ],
   "source": [
    "Final2 = budget_constraint_2.subs(c2, Final)\n",
    "Final2\n",
    "\n",
    "#Final3 = Final3.subs(r1, r)"
   ]
  },
  {
   "cell_type": "markdown",
   "metadata": {},
   "source": [
    "**Step 4: Solve**"
   ]
  },
  {
   "cell_type": "code",
   "execution_count": 31,
   "metadata": {},
   "outputs": [
    {
     "data": {
      "image/png": "[encoded data removed]",
      "text/latex": [
       "$$\\left [ \\frac{A_{t} \\beta \\left(\\frac{\\delta + r_{t}}{\\alpha}\\right)^{\\frac{1}{\\alpha - 1}} \\left(- \\alpha + 1\\right)}{\\beta + 1}\\right ]$$"
      ],
      "text/plain": [
       "⎡               1           ⎤\n",
       "⎢             ─────         ⎥\n",
       "⎢             α - 1         ⎥\n",
       "⎢     ⎛δ + rₜ⎞              ⎥\n",
       "⎢Aₜ⋅β⋅⎜──────⎟     ⋅(-α + 1)⎥\n",
       "⎢     ⎝  α   ⎠              ⎥\n",
       "⎢───────────────────────────⎥\n",
       "⎣           β + 1           ⎦"
      ]
     },
     "execution_count": 31,
     "metadata": {},
     "output_type": "execute_result"
    }
   ],
   "source": [
    "final3  = sm.solve(Final2, z) # Final Supply for capital\n",
    "final3"
   ]
  },
  {
   "cell_type": "markdown",
   "metadata": {},
   "source": [
    "To find the general equillibrium we have to equalize the **Supply** and the **Demand** as calculated in the Firm's and Household's problems, respectively. Also, the solution will be stationary, meaning that we can set $r_{t}$ = $r_{t+1}$. "
   ]
  },
  {
   "cell_type": "code",
   "execution_count": null,
   "metadata": {},
   "outputs": [],
   "source": []
  },
  {
   "cell_type": "code",
   "execution_count": null,
   "metadata": {},
   "outputs": [],
   "source": []
  },
  {
   "cell_type": "code",
   "execution_count": 26,
   "metadata": {},
   "outputs": [],
   "source": [
    "def f(final4, Kappa):\n",
    "    return (final4- Kappa)"
   ]
  },
  {
   "cell_type": "code",
   "execution_count": 27,
   "metadata": {},
   "outputs": [],
   "source": [
    "def bisection(f,a,b,max_iter=500,tol=1e-6,full_info=False):\n",
    "    \"\"\" bisection\n",
    "    \n",
    "    Solve equation f(x) = 0 for a <= x <= b.\n",
    "    \n",
    "    Args:\n",
    "    \n",
    "        f (function): function\n",
    "        a (float): left bound\n",
    "        b (float): right bound\n",
    "        tol (float): tolerance on solution\n",
    "        \n",
    "    Returns:\n",
    "    \n",
    "        m (float): root\n",
    "    \n",
    "    \"\"\"\n",
    "    \n",
    "    # test inputs\n",
    "    if f(a)*f(b) >= 0:\n",
    "        print(\"bisection method fails.\")\n",
    "        return None\n",
    "    \n",
    "    # step 1: initialize\n",
    "    _a = a\n",
    "    _b = b\n",
    "    a = np.zeros(max_iter)\n",
    "    b = np.zeros(max_iter)\n",
    "    m = np.zeros(max_iter)\n",
    "    fm = np.zeros(max_iter)\n",
    "    a[0] = _a\n",
    "    b[0] = _b\n",
    "    \n",
    "    # step 2-4: main\n",
    "    i = 0\n",
    "    while i < max_iter:\n",
    "        \n",
    "        # step 2: midpoint and associated value\n",
    "        m[i] = (a[i]+b[i])/2\n",
    "        fm[i] = f(m[i])\n",
    "        \n",
    "        # step 3: determine sub-interval\n",
    "        if abs(fm[i]) < tol:\n",
    "            break        \n",
    "        elif f(a[i])*fm[i] < 0:\n",
    "            a[i+1] = a[i]\n",
    "            b[i+1] = m[i]\n",
    "        elif f(b[i])*fm[i] < 0:\n",
    "            a[i+1] = m[i]\n",
    "            b[i+1] = b[i]\n",
    "        else:\n",
    "            print(\"bisection method fails.\")\n",
    "            return None\n",
    "        \n",
    "        i += 1\n",
    "        \n",
    "    if full_info:\n",
    "        return m,i,a,b,fm\n",
    "    else:\n",
    "        return m[i],i"
   ]
  },
  {
   "cell_type": "code",
   "execution_count": 28,
   "metadata": {},
   "outputs": [
    {
     "ename": "TypeError",
     "evalue": "f() missing 1 required positional argument: 'Kappa'",
     "output_type": "error",
     "traceback": [
      "\u001b[1;31m---------------------------------------------------------------------------\u001b[0m",
      "\u001b[1;31mTypeError\u001b[0m                                 Traceback (most recent call last)",
      "\u001b[1;32m<ipython-input-28-69b2d509383a>\u001b[0m in \u001b[0;36m<module>\u001b[1;34m\u001b[0m\n\u001b[1;32m----> 1\u001b[1;33m \u001b[0mm\u001b[0m\u001b[1;33m,\u001b[0m\u001b[0mi\u001b[0m \u001b[1;33m=\u001b[0m \u001b[0mbisection\u001b[0m\u001b[1;33m(\u001b[0m\u001b[0mf\u001b[0m\u001b[1;33m,\u001b[0m\u001b[1;33m-\u001b[0m\u001b[1;36m8\u001b[0m\u001b[1;33m,\u001b[0m\u001b[1;36m7\u001b[0m\u001b[1;33m)\u001b[0m\u001b[1;33m\u001b[0m\u001b[1;33m\u001b[0m\u001b[0m\n\u001b[0m\u001b[0;32m      2\u001b[0m \u001b[0mprint\u001b[0m\u001b[1;33m(\u001b[0m\u001b[0mi\u001b[0m\u001b[1;33m,\u001b[0m\u001b[0mm\u001b[0m\u001b[1;33m,\u001b[0m\u001b[0mf\u001b[0m\u001b[1;33m(\u001b[0m\u001b[0mm\u001b[0m\u001b[1;33m)\u001b[0m\u001b[1;33m)\u001b[0m\u001b[1;33m\u001b[0m\u001b[1;33m\u001b[0m\u001b[0m\n",
      "\u001b[1;32m<ipython-input-27-87b8c16b2c57>\u001b[0m in \u001b[0;36mbisection\u001b[1;34m(f, a, b, max_iter, tol, full_info)\u001b[0m\n\u001b[0;32m     18\u001b[0m \u001b[1;33m\u001b[0m\u001b[0m\n\u001b[0;32m     19\u001b[0m     \u001b[1;31m# test inputs\u001b[0m\u001b[1;33m\u001b[0m\u001b[1;33m\u001b[0m\u001b[1;33m\u001b[0m\u001b[0m\n\u001b[1;32m---> 20\u001b[1;33m     \u001b[1;32mif\u001b[0m \u001b[0mf\u001b[0m\u001b[1;33m(\u001b[0m\u001b[0ma\u001b[0m\u001b[1;33m)\u001b[0m\u001b[1;33m*\u001b[0m\u001b[0mf\u001b[0m\u001b[1;33m(\u001b[0m\u001b[0mb\u001b[0m\u001b[1;33m)\u001b[0m \u001b[1;33m>=\u001b[0m \u001b[1;36m0\u001b[0m\u001b[1;33m:\u001b[0m\u001b[1;33m\u001b[0m\u001b[1;33m\u001b[0m\u001b[0m\n\u001b[0m\u001b[0;32m     21\u001b[0m         \u001b[0mprint\u001b[0m\u001b[1;33m(\u001b[0m\u001b[1;34m\"bisection method fails.\"\u001b[0m\u001b[1;33m)\u001b[0m\u001b[1;33m\u001b[0m\u001b[1;33m\u001b[0m\u001b[0m\n\u001b[0;32m     22\u001b[0m         \u001b[1;32mreturn\u001b[0m \u001b[1;32mNone\u001b[0m\u001b[1;33m\u001b[0m\u001b[1;33m\u001b[0m\u001b[0m\n",
      "\u001b[1;31mTypeError\u001b[0m: f() missing 1 required positional argument: 'Kappa'"
     ]
    }
   ],
   "source": [
    "m,i = bisection(f,-8,7)\n",
    "print(i,m,f(m))"
   ]
  },
  {
   "cell_type": "code",
   "execution_count": null,
   "metadata": {},
   "outputs": [],
   "source": []
  }
 ],
 "metadata": {
  "kernelspec": {
   "display_name": "Python 3",
   "language": "python",
   "name": "python3"
  },
  "language_info": {
   "codemirror_mode": {
    "name": "ipython",
    "version": 3
   },
   "file_extension": ".py",
   "mimetype": "text/x-python",
   "name": "python",
   "nbconvert_exporter": "python",
   "pygments_lexer": "ipython3",
   "version": "3.7.1"
  }
 },
 "nbformat": 4,
 "nbformat_minor": 2
}
