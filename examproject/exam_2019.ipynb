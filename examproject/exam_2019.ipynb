{
 "cells": [
  {
   "cell_type": "code",
   "execution_count": 2,
   "metadata": {},
   "outputs": [],
   "source": [
    "import numpy as np"
   ]
  },
  {
   "cell_type": "markdown",
   "metadata": {},
   "source": [
    "# 1. Human capital accumulation"
   ]
  },
  {
   "cell_type": "markdown",
   "metadata": {},
   "source": [
    "Consider a worker living in **two periods**, $t \\in \\{1,2\\}$. \n",
    "\n",
    "In each period she decides whether to **work ($l_t = 1$) or not ($l_t = 0$)**. \n",
    "\n",
    "She can *not* borrow or save and thus **consumes all of her income** in each period. "
   ]
  },
  {
   "cell_type": "markdown",
   "metadata": {},
   "source": [
    "If she **works** her **consumption** becomes:\n",
    "\n",
    "$$c_t = w h_t l_t\\,\\,\\text{if}\\,\\,l_t=1$$\n",
    "\n",
    "where $w$ is **the wage rate** and $h_t$ is her **human capital**. \n",
    "\n",
    "If she does **not work** her consumption becomes:\n",
    "\n",
    "$$c_t = b\\,\\,\\text{if}\\,\\,l_t=0$$\n",
    "\n",
    "where $b$ is the **unemployment benefits**."
   ]
  },
  {
   "cell_type": "markdown",
   "metadata": {},
   "source": [
    "Her **utility of consumption** is: \n",
    "\n",
    "$$ \\frac{c_t^{1-\\rho}}{1-\\rho} $$\n",
    "\n",
    "Her **disutility of working** is:\n",
    "\n",
    "$$ \\gamma l_t $$"
   ]
  },
  {
   "cell_type": "markdown",
   "metadata": {},
   "source": [
    "From period 1 to period 2, she **accumulates human capital** according to:\n",
    "\n",
    "$$ h_2 = h_1 + l_1 + \n",
    "\\begin{cases}\n",
    "0 & \\text{with prob. }0.5 \\\\\n",
    "\\Delta & \\text{with prob. }0.5 \n",
    "\\end{cases} \\\\\n",
    "$$\n",
    "\n",
    "where $\\Delta$ is a **stochastic experience gain**."
   ]
  },
  {
   "cell_type": "markdown",
   "metadata": {},
   "source": [
    "In the **second period** the worker thus solves:\n",
    "\n",
    "$$\n",
    "\\begin{eqnarray*}\n",
    "v_{2}(h_{2}) & = &\\max_{l_{2}} \\frac{c_2^{1-\\rho}}{1-\\rho} - \\gamma l_2\n",
    "\\\\ & \\text{s.t.} & \\\\\n",
    "c_{2}& = & w h_2 l_2 \\\\\n",
    "l_{2}& \\in &\\{0,1\\}\n",
    "\\end{eqnarray*}\n",
    "$$"
   ]
  },
  {
   "cell_type": "markdown",
   "metadata": {},
   "source": [
    "In the **first period** the worker thus solves:\n",
    "\n",
    "$$\n",
    "\\begin{eqnarray*}\n",
    "v_{1}(h_{1}) &=& \\max_{l_{1}} \\frac{c_1^{1-\\rho}}{1-\\rho} - \\gamma l_1 + \\beta\\mathbb{E}_{1}\\left[v_2(h_2)\\right]\n",
    "\\\\ & \\text{s.t.} & \\\\\n",
    "c_1 &=& w h_1 l_1 \\\\\n",
    "h_2 &=& h_1 + l_1 + \\begin{cases}\n",
    "0 & \\text{with prob. }0.5\\\\\n",
    "\\Delta & \\text{with prob. }0.5 \n",
    "\\end{cases}\\\\\n",
    "l_{1} &\\in& \\{0,1\\}\\\\\n",
    "\\end{eqnarray*}\n",
    "$$\n",
    "\n",
    "where $\\beta$ is the **discount factor** and $\\mathbb{E}_{1}\\left[v_2(h_2)\\right]$ is the **expected value of living in period two**."
   ]
  },
  {
   "cell_type": "markdown",
   "metadata": {},
   "source": [
    "The **parameters** of the model are:"
   ]
  },
  {
   "cell_type": "code",
   "execution_count": 3,
   "metadata": {},
   "outputs": [],
   "source": [
    "rho = 2\n",
    "beta = 0.96\n",
    "gamma = 0.1\n",
    "w = 2\n",
    "b = 1\n",
    "Delta = 0.1"
   ]
  },
  {
   "cell_type": "markdown",
   "metadata": {},
   "source": [
    "The **relevant levels of human capital** are:"
   ]
  },
  {
   "cell_type": "code",
   "execution_count": 4,
   "metadata": {},
   "outputs": [],
   "source": [
    "h_vec = np.linspace(0.1,1.5,100) "
   ]
  },
  {
   "cell_type": "markdown",
   "metadata": {},
   "source": [
    "**Question 1:** Solve the model in period 2 and illustrate the solution (including labor supply as a function of human capital). \n",
    "\n",
    "**Question 2:** Solve the model in period 1 and illustrate the solution (including labor supply as a function of human capital). \n",
    "\n",
    "**Question 3:** Will the worker never work if her potential wage income is lower than the unemployment benefits she can get? Explain and illustrate why or why not."
   ]
  },
  {
   "cell_type": "markdown",
   "metadata": {},
   "source": [
    "**Answer to Question 1:**"
   ]
  },
  {
   "cell_type": "code",
   "execution_count": 5,
   "metadata": {},
   "outputs": [],
   "source": [
    "import numpy as np\n",
    "import matplotlib.pyplot as plt\n",
    "from scipy import interpolate\n",
    "\n",
    "def consumption(w,h,l):\n",
    "    #outcome if consumer chooses to work else, outcome if he chooses not to work\n",
    "    if l == 1:\n",
    "        return w*h*l\n",
    "    else:\n",
    "        return b\n",
    "\n",
    "def disutility(gamma, l):\n",
    "    return gamma*l\n",
    "\n",
    "def utility(w,h,l):\n",
    "    return (consumption(w,h,l)**(1-rho))/(1-rho) - disutility(gamma, l)"
   ]
  },
  {
   "cell_type": "markdown",
   "metadata": {},
   "source": [
    "In period 2, the human capital can take the below values:"
   ]
  },
  {
   "cell_type": "code",
   "execution_count": 6,
   "metadata": {},
   "outputs": [],
   "source": [
    "#if consumer choses to work\n",
    "h2_vec1 = h_vec + 1 + Delta*0.5\n",
    "\n",
    "#if he chooses not to work\n",
    "h2_vec0 = h_vec + 0 + Delta*0.5"
   ]
  },
  {
   "cell_type": "code",
   "execution_count": 7,
   "metadata": {},
   "outputs": [
    {
     "data": {
      "image/png": "[encoded data removed]",
      "text/plain": [
       "<Figure size 432x288 with 1 Axes>"
      ]
     },
     "metadata": {
      "needs_background": "light"
     },
     "output_type": "display_data"
    }
   ],
   "source": [
    "#Making a list which only contains the utility if she does not work in period 2. We only do this to be able to plot it.\n",
    "#We plot the \n",
    "empty = np.empty(100)\n",
    "utility_l0 = []\n",
    "for i in empty:\n",
    "    utility_l0.append(utility(w,h2_vec0,0))\n",
    "    \n",
    "plt.plot(h2_vec0, utility(w,h2_vec0,1), label = 'If $l_2=1$ and $l_1=0$')\n",
    "#plt.plot(h2_vec0, utility(w,h2_vec1,1), label = 'If $l_2=1$ and $l_1=1$')\n",
    "plt.plot(h2_vec0, utility_l0          , label = 'If $l_2=0$')\n",
    "plt.ylabel('Utility'), plt.xlabel('Human Capital')\n",
    "plt.legend()\n",
    "plt.grid()\n",
    "plt.show()"
   ]
  },
  {
   "cell_type": "markdown",
   "metadata": {},
   "source": [
    "This graph tells us that if the human capital is lower than aprox 0,55, and the consumer chooses not to work in period 1, he is better off not working in period 2. However, if the human capital is greather, he is better off working in period 2. Also, we can see the the consumer is always better off working in both periods than any other combination.\n"
   ]
  },
  {
   "cell_type": "markdown",
   "metadata": {},
   "source": [
    "Solving the problem in period 2- We can start with this and not include the code above"
   ]
  },
  {
   "cell_type": "code",
   "execution_count": 8,
   "metadata": {},
   "outputs": [],
   "source": [
    "def utility(c,rho):\n",
    "    return c**(1-rho)/(1-rho)\n",
    "\n",
    "def c(w,h,l,b):\n",
    "    return w*h*l + b*(1-l)\n",
    "\n",
    "def disutility(l,gamma):\n",
    "    return gamma*l\n",
    "\n",
    "def v2(w,h2,l2,b,rho,gamma):\n",
    "    return utility(c(w,h2,l2,b),rho) - disutility(l2,gamma)\n",
    "\n",
    "def v1(h1,l1,v2_interp,Delta,w,b,rho,gamma,beta):\n",
    "    \n",
    "    # from period 1 to period 2 the consumer can acummulate human capital based on the two functions below:\n",
    "    # If humancapital is not accumulated, utility in period 2 becomes\n",
    "    N_h2 = h1 + l1 + 0\n",
    "    N_v2 = v2_interp([N_h2])[0]\n",
    "    \n",
    "    # b. If capital is accumulated, utility in period 2 becomes\n",
    "    Y_h2 = h1 + l1 + Delta\n",
    "    Y_v2 = v2_interp([Y_h2])[0]\n",
    "    \n",
    "    # c. Given the probabilities for ho\n",
    "    v2 = 0.5*N_v2 + 0.5*Y_v2\n",
    "    \n",
    "    # d. total value\n",
    "    return utility(c(w,h1,l1,b),rho) - disutility(l1,gamma) + beta*v2"
   ]
  },
  {
   "cell_type": "code",
   "execution_count": 9,
   "metadata": {},
   "outputs": [],
   "source": [
    "def period_2(rho,gamma,Delta):\n",
    "    \n",
    "    # Vectors\n",
    "    l2_vec = np.empty(100)\n",
    "    v2_vec = np.empty(100)\n",
    "    \n",
    "    # Solve for each h2\n",
    "    for i,h2 in enumerate(h_vec):\n",
    "        \n",
    "        # The individual decides whether to work or not by comparing his utility. If he is better off not working, we will have\n",
    "        # l2=0 otherwise l2=1\n",
    "        if v2(w,h2,1,b,rho,gamma) < v2(w,h2,0,b,rho,gamma):\n",
    "            l2_vec[i] = 0\n",
    "        else:\n",
    "            l2_vec[i] = 1\n",
    "        \n",
    "        v2_vec[i] = v2(w,h2,l2_vec[i],b,rho,gamma)\n",
    "        \n",
    "    return l2_vec, v2_vec\n"
   ]
  },
  {
   "cell_type": "code",
   "execution_count": 14,
   "metadata": {},
   "outputs": [
    {
     "data": {
      "image/png": "[encoded data removed]",
      "text/plain": [
       "<Figure size 864x432 with 1 Axes>"
      ]
     },
     "metadata": {
      "needs_background": "light"
     },
     "output_type": "display_data"
    }
   ],
   "source": [
    "\n",
    "# Solving\n",
    "l2_vec,v2_vec = period_2(rho,gamma,Delta)\n",
    "\n",
    "# Figure\n",
    "fig = plt.figure(figsize=(12,6))\n",
    "ax = fig.add_subplot(1,1,1)\n",
    "ax.plot(h_vec,l2_vec)\n",
    "\n",
    "# Labels\n",
    "ax.set_xlabel('Human Capital')\n",
    "ax.set_ylabel('Labor supply')\n",
    "ax.set_title('Labor Supply and Human Capital- period 2', fontdict=font)\n",
    "ax.grid()\n"
   ]
  },
  {
   "cell_type": "markdown",
   "metadata": {},
   "source": [
    "From the above figure, we can see that the individual will choose not to work in period 2 whenever the human capital (h_vec) is below 0.55 (aprox). If his human capital is above this level, he will get more utility by working in period 2."
   ]
  },
  {
   "cell_type": "markdown",
   "metadata": {},
   "source": [
    "**Answer to question 2**"
   ]
  },
  {
   "cell_type": "code",
   "execution_count": 12,
   "metadata": {},
   "outputs": [],
   "source": [
    "\n",
    "def solve_period_1(rho,gamma,beta,Delta,v1,v2_interp):\n",
    "    \n",
    "    # Vectors\n",
    "    l1_vec = np.empty(100)\n",
    "    v1_vec = np.empty(100)\n",
    "    \n",
    "    # Solve for each h1\n",
    "    for i,h1 in enumerate(h_vec):\n",
    "             \n",
    "        # The individual decides whether to work or not by comparing his utility. If he is better off not working, we will have\n",
    "        # l1=0 otherwise l1=1\n",
    "        if v1(h1,1,v2_interp,Delta,w,b,rho,gamma,beta) < v1(h1,0,v2_interp,Delta,w,b,rho,gamma,beta):\n",
    "            l1_vec[i] = 0\n",
    "        else:\n",
    "            l1_vec[i] = 1\n",
    "        \n",
    "        v1_vec[i] = v1(h1,l1_vec[i],v2_interp,Delta,w,b,rho,gamma,beta)\n",
    "        \n",
    "    return l1_vec, v1_vec\n",
    "\n",
    "# Construct interpolator\n",
    "v2_interp = interpolate.RegularGridInterpolator((h_vec,), v2_vec, bounds_error=False, fill_value=None)"
   ]
  },
  {
   "cell_type": "code",
   "execution_count": 13,
   "metadata": {},
   "outputs": [
    {
     "data": {
      "image/png": "[encoded data removed]",
      "text/plain": [
       "<Figure size 864x432 with 1 Axes>"
      ]
     },
     "metadata": {
      "needs_background": "light"
     },
     "output_type": "display_data"
    }
   ],
   "source": [
    "# Solving\n",
    "l1_vec,v1_vec = solve_period_1(rho,gamma,beta,Delta,v1,v2_interp)\n",
    "\n",
    "# Figure\n",
    "fig = plt.figure(figsize=(12,6))\n",
    "ax = fig.add_subplot(1,1,1)\n",
    "ax.plot(h_vec,l1_vec)\n",
    "\n",
    "# Labels\n",
    "font = {'family':'serif','color':'black','weight':'normal','size': 16,}\n",
    "ax.set_xlabel('Human Capital')\n",
    "ax.set_ylabel('Labor supply')\n",
    "ax.set_title('Labor supply and human capital in period 1', fontdict=font)\n",
    "ax.grid()"
   ]
  },
  {
   "cell_type": "markdown",
   "metadata": {},
   "source": [
    "Next- question 3. I will put the above cod in nice order, trying to combine the two types of graphs and then answer question 3"
   ]
  },
  {
   "cell_type": "markdown",
   "metadata": {},
   "source": [
    "# 2. AS-AD model"
   ]
  },
  {
   "cell_type": "markdown",
   "metadata": {},
   "source": [
    "Consider the following **AS-AD model**. The **goods market equilibrium** is given by\n",
    "\n",
    "$$ y_{t} = -\\alpha r_{t} + v_{t} $$\n",
    "\n",
    "where $y_{t}$ is the **output gap**, $r_{t}$ is the **ex ante real interest** and $v_{t}$ is a **demand disturbance**. "
   ]
  },
  {
   "cell_type": "markdown",
   "metadata": {},
   "source": [
    "The central bank's **Taylor rule** is\n",
    "\n",
    "$$ i_{t} = \\pi_{t+1}^{e} + h \\pi_{t} + b y_{t}$$\n",
    "\n",
    "where $i_{t}$ is the **nominal interest rate**, $\\pi_{t}$ is the **inflation gap**, and $\\pi_{t+1}^{e}$ is the **expected inflation gap**. "
   ]
  },
  {
   "cell_type": "markdown",
   "metadata": {},
   "source": [
    "The **ex ante real interest rate** is given by \n",
    "\n",
    "$$ r_{t} = i_{t} - \\pi_{t+1}^{e} $$"
   ]
  },
  {
   "cell_type": "markdown",
   "metadata": {},
   "source": [
    "Together, the above implies that the **AD-curve** is\n",
    "\n",
    "$$ \\pi_{t} = \\frac{1}{h\\alpha}\\left[v_{t} - (1+b\\alpha)y_{t}\\right]$$"
   ]
  },
  {
   "cell_type": "markdown",
   "metadata": {},
   "source": [
    "Further, assume that the **short-run supply curve (SRAS)** is given by\n",
    "\n",
    "$$ \\pi_{t} = \\pi_{t}^{e} + \\gamma y_{t} + s_{t}$$\n",
    "\n",
    "where $s_t$ is a **supply disturbance**."
   ]
  },
  {
   "cell_type": "markdown",
   "metadata": {},
   "source": [
    "**Inflation expectations are adaptive** and given by\n",
    "\n",
    "$$ \\pi_{t}^{e} = \\phi\\pi_{t-1}^{e} + (1-\\phi)\\pi_{t-1}$$"
   ]
  },
  {
   "cell_type": "markdown",
   "metadata": {},
   "source": [
    "Together, this implies that the **SRAS-curve** can also be written as\n",
    "\n",
    "$$ \\pi_{t} = \\pi_{t-1} + \\gamma y_{t} - \\phi\\gamma y_{t-1} + s_{t} - \\phi s_{t-1} $$"
   ]
  },
  {
   "cell_type": "markdown",
   "metadata": {},
   "source": [
    "The **parameters** of the model are:"
   ]
  },
  {
   "cell_type": "code",
   "execution_count": null,
   "metadata": {},
   "outputs": [],
   "source": [
    "par = {}\n",
    "\n",
    "par['alpha'] = 5.76\n",
    "par['h'] = 0.5\n",
    "par['b'] = 0.5\n",
    "par['phi'] = 0\n",
    "par['gamma'] = 0.075"
   ]
  },
  {
   "cell_type": "markdown",
   "metadata": {},
   "source": [
    "**Question 1:** Use the ``sympy`` module to solve for the equilibrium values of output, $y_t$, and inflation, $\\pi_t$, (where AD = SRAS) given the parameters ($\\alpha$, $h$, $b$, $\\alpha$, $\\gamma$) and $y_{t-1}$ , $\\pi_{t-1}$, $v_t$, $s_t$, and $s_{t-1}$."
   ]
  },
  {
   "cell_type": "markdown",
   "metadata": {},
   "source": [
    "**Answer to question 1:**"
   ]
  },
  {
   "cell_type": "code",
   "execution_count": null,
   "metadata": {},
   "outputs": [],
   "source": [
    "#Importing all the necessary packages and activating pretty printing\n",
    "\n",
    "import numpy as np\n",
    "import sympy as sm\n",
    "import matplotlib.pyplot as plt\n",
    "\n",
    "sm.init_printing(use_unicode=True)"
   ]
  },
  {
   "cell_type": "code",
   "execution_count": null,
   "metadata": {},
   "outputs": [],
   "source": [
    "#Defining all the needed variables for the symbolic solution\n",
    "\n",
    "v = sm.symbols('v_t')\n",
    "y_t = sm.symbols('y_t')  \n",
    "pi_t = sm.symbols('pi_t') \n",
    "h = sm.symbols('h')\n",
    "alpha = sm.symbols('alpha')\n",
    "b = sm.symbols('b')\n",
    "\n",
    "pi_t_1 = sm.symbols('\\pi_{t-1}')\n",
    "y_t_1 = sm.symbols('y_{t-1}')\n",
    "s_t = sm.symbols('s_t')\n",
    "s_t_1 = sm.symbols('s_{t-1}')\n",
    "gamma = sm.symbols('gamma')\n",
    "phi = sm.symbols('\\phi')\n",
    "\n",
    " \n",
    "h, alpha, v, b, y_t, pi_t, pi_t_1, gamma, phi, y_t_1, s_t, s_t_1"
   ]
  },
  {
   "cell_type": "code",
   "execution_count": null,
   "metadata": {},
   "outputs": [],
   "source": [
    "AD = sm.Eq(pi_t, (1/(h*alpha))*(v - (1+b*alpha)*y_t))\n",
    "SRAS = sm.Eq(pi_t, (pi_t_1 + gamma*y_t - phi*gamma*y_t_1 + s_t - phi*s_t_1))\n",
    "AD, SRAS"
   ]
  },
  {
   "cell_type": "markdown",
   "metadata": {},
   "source": [
    "**Solving for the equilibrium value of output ($y_{t}$) in three steps:**\n",
    "\n",
    "1. **Step 1:** Solve AD wrt $\\pi_{t}$\n",
    "2. **Step 2:** Substistute in SRAS equation \n",
    "3. **Step 3:** Solve wrt $y_{t}$"
   ]
  },
  {
   "cell_type": "code",
   "execution_count": null,
   "metadata": {},
   "outputs": [],
   "source": [
    "AD_1 = sm.solve(AD, pi_t)\n",
    "AD_1"
   ]
  },
  {
   "cell_type": "code",
   "execution_count": null,
   "metadata": {},
   "outputs": [],
   "source": [
    "AD_2 = SRAS.subs(pi_t, AD_1[0])\n",
    "AD_2"
   ]
  },
  {
   "cell_type": "code",
   "execution_count": null,
   "metadata": {},
   "outputs": [],
   "source": [
    "Output = sm.solve(AD_2, y_t)\n",
    "Output"
   ]
  },
  {
   "cell_type": "markdown",
   "metadata": {},
   "source": [
    "**Solving for the equilibrium value of inflation ($\\pi_{t}$)**\n",
    "\n",
    "**Note:** This will be done by substituting $y_{t}$ (as calculated above) into the SRAS equation and then solving it wrt $\\pi_{t}$"
   ]
  },
  {
   "cell_type": "code",
   "execution_count": null,
   "metadata": {},
   "outputs": [],
   "source": [
    "AS_1 = SRAS.subs(y_t, Output[0])\n",
    "AS_1"
   ]
  },
  {
   "cell_type": "code",
   "execution_count": null,
   "metadata": {},
   "outputs": [],
   "source": [
    "Inflation = sm.solve(AS_1, pi_t)\n",
    "Inflation"
   ]
  },
  {
   "cell_type": "markdown",
   "metadata": {},
   "source": [
    "**Question 2:** Find and illustrate the equilibrium when $y_{t-1} = \\pi_{t-1} = v_t = s_t = s_{t-1} = 0$. Illustrate how the equilibrium changes when instead $v_t = 0.1$."
   ]
  },
  {
   "cell_type": "markdown",
   "metadata": {},
   "source": [
    "**Answer to Question 2:**"
   ]
  },
  {
   "cell_type": "code",
   "execution_count": null,
   "metadata": {},
   "outputs": [],
   "source": [
    "# The two calculated equations are lambdified to be used\n",
    "sol_output = sm.lambdify((y_t_1, s_t_1, pi_t_1, s_t, v, phi, alpha, gamma, h, b), Output[0])\n",
    "sol_inflation = sm.lambdify((y_t_1, s_t_1, pi_t_1, s_t, v, phi, alpha, gamma, h, b), Inflation[0])\n",
    "\n",
    "# Set the parameters equal to their values\n",
    "def _sol_output(y_t_1, s_t_1, pi_t_1, s_t, v, phi=par['phi'], alpha=par['alpha'], gamma=par['gamma'], h=par['h'], b=par['b']):\n",
    "    return sol_output(y_t_1, s_t_1, pi_t_1, s_t, v, phi, alpha, gamma, h, b)\n",
    "\n",
    "\n",
    "def _sol_inflation(y_t_1, s_t_1, pi_t_1, s_t, v, phi=par['phi'], alpha=par['alpha'], gamma=par['gamma'], h=par['h'], b=par['b']):\n",
    "    return sol_inflation(y_t_1, s_t_1, pi_t_1, s_t, v, phi, alpha, gamma, h, b)\n",
    "                         \n",
    "\n",
    "# The variables' values are inserted into the functions \n",
    "A = _sol_output(y_t_1=0, s_t_1=0, pi_t_1=0, s_t=0, v=0)\n",
    "B = _sol_output(y_t_1=0, s_t_1=0, pi_t_1=0, s_t=0, v=0.1)\n",
    "\n",
    "C = _sol_inflation(y_t_1=0, s_t_1=0, pi_t_1=0, s_t=0, v=0)\n",
    "D = _sol_inflation(y_t_1=0, s_t_1=0, pi_t_1=0, s_t=0, v=0.1)\n",
    "      \n",
    "print('The values of y_t and pi_t when all the variables are equal to zero:')\n",
    "print(f'y_t = {A}')\n",
    "print(f'pi_t = {C}')\n",
    "print('The values of y_t and pi_t when all the variables are equal to zero, except v = 0.1')\n",
    "print(f'y_t = {B}')\n",
    "print(f'pi_t = {D}')"
   ]
  },
  {
   "cell_type": "markdown",
   "metadata": {},
   "source": [
    "**Conclusion:** from the above calculated values, we can conclude that when $y_{t-1} = \\pi_{t-1} = v_t = s_t = s_{t-1} = 0$, the equlibrium is $(\\pi_t,y_t) = (0,0)$. On the other hand when the economy suffers from a positive demand shock ($v_t = 0.1$ and the rest of the parameters are equal to zero), the equilibrium is $(\\pi_t,y_t) = (0.0244140625,0.0018310546875)$."
   ]
  },
  {
   "cell_type": "markdown",
   "metadata": {},
   "source": [
    "**Note:** To plot the AD-SRAS we need the equations to express the relationship between $\\pi_t$ and $y_t$; the lambdified equations don't express directly that relationship, so we will define the original AD and SRAS functions and then plot them. "
   ]
  },
  {
   "cell_type": "code",
   "execution_count": null,
   "metadata": {},
   "outputs": [],
   "source": [
    "# Defining the AD and SRAS functions to plot them\n",
    "def AD(h, alpha, v, b, y_t):\n",
    "    return (1/(h*alpha))*(v - (1+b*alpha)*y_t)\n",
    "    \n",
    "def SRAS(pi_t_1, gamma, y_t, phi, y_t_1, s_t, s_t_1):\n",
    "    return (pi_t_1 + gamma*y_t - phi*gamma*y_t_1 + s_t - phi*s_t_1)"
   ]
  },
  {
   "cell_type": "code",
   "execution_count": null,
   "metadata": {
    "scrolled": false
   },
   "outputs": [],
   "source": [
    "fig = plt.figure(figsize=(10,10))\n",
    "ax = fig.add_subplot(1,1,1)\n",
    "\n",
    "y_lin = np.linspace(-0.6, 0.6, 100)\n",
    "AD_0 = AD(h=par['h'], alpha=par['alpha'], v=0, b=par['b'], y_t=y_lin)\n",
    "AD_1 = AD(h=par['h'], alpha=par['alpha'], v=0.1, b=par['b'],y_t=y_lin)\n",
    "SRAS_total = SRAS(pi_t_1=0, gamma=par['gamma'], y_t=y_lin, phi=par['phi'], y_t_1=0, s_t=0, s_t_1=0) \n",
    "\n",
    "plt.plot(y_lin, AD_0, label='AD 0')\n",
    "plt.plot(y_lin, AD_1, label='AD 1 (with shock, v=0.1)')\n",
    "plt.plot(y_lin, SRAS_total, label='SRAS')\n",
    "plt.grid(True)\n",
    "\n",
    "plt.title('AD - SRAS')\n",
    "plt.xlabel('$y_t$')\n",
    "plt.ylabel('$\\pi_t$')\n",
    "plt.legend(loc='upper right')\n",
    "plt.show()"
   ]
  },
  {
   "cell_type": "markdown",
   "metadata": {},
   "source": [
    "**Persistent disturbances:** Now, additionaly, assume that both the demand and the supply disturbances are AR(1) processes\n",
    "\n",
    "$$ v_{t} = \\delta v_{t-1} + x_{t} $$\n",
    "$$ s_{t} = \\omega s_{t-1} + c_{t} $$\n",
    "\n",
    "where $x_{t}$ is a **demand shock**, and $c_t$ is a **supply shock**. The **autoregressive parameters** are:"
   ]
  },
  {
   "cell_type": "code",
   "execution_count": null,
   "metadata": {},
   "outputs": [],
   "source": [
    "par['delta'] = 0.80\n",
    "par['omega'] = 0.15"
   ]
  },
  {
   "cell_type": "markdown",
   "metadata": {},
   "source": [
    "**Question 3:** Starting from $y_{-1} = \\pi_{-1} = s_{-1} = 0$, how does the economy evolve for $x_0 = 0.1$, $x_t = 0, \\forall t > 0$ and $c_t = 0, \\forall t \\geq 0$?"
   ]
  },
  {
   "cell_type": "markdown",
   "metadata": {},
   "source": [
    "**Answer to Question 3:**"
   ]
  },
  {
   "cell_type": "markdown",
   "metadata": {},
   "source": [
    "First we will define the functions of the two shocks, which will be used to fill the vectors of $v_{t}$ and $s_{t}$\n",
    "\n",
    "**!!!Note:** don't forget to run the above cell with the parameter values"
   ]
  },
  {
   "cell_type": "code",
   "execution_count": null,
   "metadata": {},
   "outputs": [],
   "source": [
    "def v_t(v_t_1, x_t, delta=par['delta']):\n",
    "    return delta*v_t_1 + x_t\n",
    "\n",
    "def s_t(s_t_1, c_t, omega=par['omega']):\n",
    "    return omega*s_t_1 + c_t"
   ]
  },
  {
   "cell_type": "code",
   "execution_count": null,
   "metadata": {},
   "outputs": [],
   "source": [
    "# Define three periods to check which one will be better\n",
    "T1 = 25\n",
    "#T2 = 50\n",
    "#T3 = 100\n",
    "\n",
    "# Creating the vectors that will be needed for the simulation\n",
    "y_vec = [0]\n",
    "pi_vec = [0]\n",
    "v_vec = [0]\n",
    "x_vec = np.zeros(T1) #all the demand shocks to be equal to 0\n",
    "x_vec[0] = 0.1 #only the shock in the first period should not be equal to 0 \n",
    "s_vec = [0]\n",
    "c_vec = np.zeros(T1) #all the supply shocks are 0 \n",
    "\n",
    "#x_vec"
   ]
  },
  {
   "cell_type": "code",
   "execution_count": null,
   "metadata": {
    "scrolled": true
   },
   "outputs": [],
   "source": [
    "for t in range (1,T1):\n",
    "    \n",
    "    v_vec.append(v_t(v_vec[t-1],x_vec[t]))\n",
    "    s_vec.append(s_t(s_vec[t-1],c_vec[t]))\n",
    "    y_vec.append(AD(h=par['h'], alpha=par['alpha'], v=v_vec[t], b=par['b'], y_t=y_vec[t]))\n",
    "    pi_vec.append(SRAS(pi_t_1=pi_vec[t-1], gamma=par['gamma'], y_t=y_vec[t], phi=par['phi'], y_t_1=y_vec[t-1], s_t=s_vec[t], s_t_1=s_vec[t-1]))"
   ]
  },
  {
   "cell_type": "code",
   "execution_count": null,
   "metadata": {},
   "outputs": [],
   "source": []
  },
  {
   "cell_type": "markdown",
   "metadata": {},
   "source": [
    "**Stochastic shocks:** Now, additionally, assume that $x_t$ and $c_t$ are stochastic and normally distributed\n",
    "\n",
    "$$ x_{t}\\sim\\mathcal{N}(0,\\sigma_{x}^{2}) $$\n",
    "$$ c_{t}\\sim\\mathcal{N}(0,\\sigma_{c}^{2}) $$\n",
    "\n",
    "The **standard deviations of the shocks** are:"
   ]
  },
  {
   "cell_type": "code",
   "execution_count": null,
   "metadata": {},
   "outputs": [],
   "source": [
    "par['sigma_x'] = 3.492\n",
    "par['sigma_c'] = 0.2"
   ]
  },
  {
   "cell_type": "markdown",
   "metadata": {},
   "source": [
    "**Question 4:** Simulate the AS-AD model for 1,000 periods. Calculate the following five statistics:\n",
    "\n",
    "1. Variance of $y_t$, $var(y_t)$\n",
    "2. Variance of $\\pi_t$, $var(\\pi_t)$\n",
    "3. Correlation between $y_t$ and $\\pi_t$, $corr(y_t,\\pi_t)$\n",
    "4. Auto-correlation between $y_t$ and $y_{t-1}$, $corr(y_t,y_{t-1})$\n",
    "5. Auto-correlation between $\\pi_t$ and $\\pi_{t-1}$, $corr(\\pi_t,\\pi_{t-1})$"
   ]
  },
  {
   "cell_type": "markdown",
   "metadata": {},
   "source": [
    "**Question 5:** Plot how the correlation between $y_t$ and $\\pi_t$ changes with $\\phi$. Use a numerical optimizer or root finder to choose $\\phi\\in(0,1)$ such that the simulated correlation between $y_t$ and $\\pi_t$ comes close to 0.31. "
   ]
  },
  {
   "cell_type": "markdown",
   "metadata": {},
   "source": [
    "**Quesiton 6:** Use a numerical optimizer to choose $\\sigma_x>0$, $\\sigma_c>0$ and $\\phi\\in(0,1)$ to make the simulated statistics as close as possible to US business cycle data where:\n",
    "\n",
    "1. $var(y_t) = 1.64$\n",
    "2. $var(\\pi_t) = 0.21$\n",
    "3. $corr(y_t,\\pi_t) = 0.31$\n",
    "4. $corr(y_t,y_{t-1}) = 0.84$\n",
    "5. $corr(\\pi_t,\\pi_{t-1}) = 0.48$"
   ]
  },
  {
   "cell_type": "markdown",
   "metadata": {},
   "source": [
    "# 3. Exchange economy"
   ]
  },
  {
   "cell_type": "markdown",
   "metadata": {},
   "source": [
    "Consider an **exchange economy** with\n",
    "\n",
    "1. 3 goods, $(x_1,x_2,x_3)$\n",
    "2. $N$ consumers indexed by \\\\( j \\in \\{1,2,\\dots,N\\} \\\\)\n",
    "3. Preferences are Cobb-Douglas with log-normally distributed coefficients\n",
    "\n",
    "    $$ \\begin{eqnarray*}\n",
    "    u^{j}(x_{1},x_{2},x_{3}) &=& \n",
    "    \\left(x_{1}^{\\beta_{1}^{j}}x_{2}^{\\beta_{2}^{j}}x_{3}^{\\beta_{3}^{j}}\\right)^{\\gamma}\\\\\n",
    "     &  & \\,\\,\\,\\beta_{i}^{j}=\\frac{\\alpha_{i}^{j}}{\\alpha_{1}^{j}+\\alpha_{2}^{j}+\\alpha_{3}^{j}} \\\\\n",
    "     &  & \\,\\,\\,\\boldsymbol{\\alpha}^{j}=(\\alpha_{1}^{j},\\alpha_{2}^{j},\\alpha_{3}^{j}) \\\\ \n",
    "     &  & \\,\\,\\,\\log(\\boldsymbol{\\alpha}^j) \\sim \\mathcal{N}(\\mu,\\Sigma) \\\\\n",
    "    \\end{eqnarray*} $$\n",
    "\n",
    "4. Endowments are exponentially distributed,\n",
    "\n",
    "$$\n",
    "\\begin{eqnarray*}\n",
    "\\boldsymbol{e}^{j} &=& (e_{1}^{j},e_{2}^{j},e_{3}^{j}) \\\\\n",
    " &  & e_i^j \\sim f, f(z;\\zeta) =  1/\\zeta \\exp(-z/\\zeta)\n",
    "\\end{eqnarray*}\n",
    "$$"
   ]
  },
  {
   "cell_type": "markdown",
   "metadata": {},
   "source": [
    "Let $p_3 = 1$ be the **numeraire**. The implied **demand functions** are:\n",
    "\n",
    "$$\n",
    "\\begin{eqnarray*}\n",
    "x_{i}^{\\star j}(p_{1},p_{2},\\boldsymbol{e}^{j})&=&\\beta^{j}_i\\frac{I^j}{p_{i}} \\\\\n",
    "\\end{eqnarray*}\n",
    "$$\n",
    "\n",
    "where consumer $j$'s income is\n",
    "\n",
    "$$I^j = p_1 e_1^j + p_2 e_2^j +p_3 e_3^j$$"
   ]
  },
  {
   "cell_type": "markdown",
   "metadata": {},
   "source": [
    "The **parameters** and **random preferences and endowments** are given by:"
   ]
  },
  {
   "cell_type": "code",
   "execution_count": null,
   "metadata": {},
   "outputs": [],
   "source": [
    "import numpy as np\n",
    "import scipy as sp\n",
    "from scipy import interpolate\n",
    "import sympy as sm\n",
    "from IPython.display import display\n",
    "import ipywidgets as widgets\n",
    "\n",
    "%matplotlib inline\n",
    "import matplotlib.pyplot as plt\n",
    "sm.init_printing(use_unicode=True)\n",
    "\n"
   ]
  },
  {
   "cell_type": "code",
   "execution_count": null,
   "metadata": {},
   "outputs": [],
   "source": [
    "# a. parameters\n",
    "N = 50000\n",
    "mu = np.array([3,2,1])\n",
    "Sigma = np.array([[0.25, 0, 0], [0, 0.25, 0], [0, 0, 0.25]])\n",
    "gamma = 0.8\n",
    "zeta = 1\n",
    "\n",
    "# b. random draws\n",
    "seed = 1986\n",
    "np.random.seed(seed)\n",
    "\n",
    "# preferences\n",
    "alphas = np.exp(np.random.multivariate_normal(mu, Sigma, size=N))\n",
    "betas = alphas/np.reshape(np.sum(alphas,axis=1),(N,1))\n",
    "\n",
    "# endowments\n",
    "e1 = np.random.exponential(zeta,size=N)\n",
    "e2 = np.random.exponential(zeta,size=N)\n",
    "e3 = np.random.exponential(zeta,size=N)"
   ]
  },
  {
   "cell_type": "markdown",
   "metadata": {},
   "source": [
    "**Question 1:** Plot the histograms of the budget shares for each good across agents."
   ]
  },
  {
   "cell_type": "markdown",
   "metadata": {},
   "source": [
    "Since budget share is given by Demand/Income:\n",
    "$$\n",
    "\\begin{eqnarray*}\n",
    "\\frac{x_{i}^{\\star j}(p_{1},p_{2},\\boldsymbol{e}^{j})}{I^j}&=&\\frac{\\beta^{j}_i\\frac{I^j}{p_{i}}}{I^j}&=&\\frac{\\beta^{j}_i}{p_{i}}  \\\\\n",
    "\\end{eqnarray*}\n",
    "$$\n",
    "we can get the histogram of budget shares by ploting betas.\n"
   ]
  },
  {
   "cell_type": "code",
   "execution_count": null,
   "metadata": {},
   "outputs": [],
   "source": [
    "fig = plt.figure(dpi=100)\n",
    "ax = fig.add_subplot(1,1,1)\n",
    "\n",
    "ax.hist(betas,bins=50)\n",
    "\n",
    "ax.set_xlabel('betas')\n",
    "ax.set_ylabel('Consumers')\n",
    "\n",
    "ax.set_title('the budget shares of three goods')"
   ]
  },
  {
   "cell_type": "code",
   "execution_count": null,
   "metadata": {},
   "outputs": [],
   "source": []
  },
  {
   "cell_type": "markdown",
   "metadata": {},
   "source": [
    "Consider the **excess demand functions:**\n",
    "\n",
    "$$ z_i(p_1,p_2) = \\sum_{j=1}^N x_{i}^{\\star j}(p_{1},p_{2},\\boldsymbol{e}^{j}) - e_i^j$$\n",
    "\n",
    "**Question 2:** Plot the excess demand functions."
   ]
  },
  {
   "cell_type": "code",
   "execution_count": null,
   "metadata": {},
   "outputs": [],
   "source": [
    "import numpy as np\n",
    "import ipywidgets as widgets\n",
    "import matplotlib.pyplot as plt\n",
    "from mpl_toolkits.mplot3d import Axes3D\n",
    "import math\n",
    "import itertools\n",
    "import time\n",
    "from matplotlib.ticker import FuncFormatter\n"
   ]
  },
  {
   "cell_type": "code",
   "execution_count": null,
   "metadata": {},
   "outputs": [],
   "source": [
    "#demand function\n",
    "def demand_good_1_fun(betas,p1,p2,e1,e2,e3):\n",
    "    I = p1*e1+p2*e2+e3\n",
    "    return betas[:,0]*I/p1\n",
    "\n",
    "def demand_good_2_fun(betas,p1,p2,e1,e2,e3):\n",
    "    I = p1*e1+p2*e2+e3\n",
    "    return betas[:,1]*I/p2\n",
    "\n",
    "def demand_good_3_fun(betas,p1,p2,e1,e2,e3):\n",
    "    I = p1*e1+p2*e2+e3\n",
    "    return betas[:,2]*I\n",
    "    "
   ]
  },
  {
   "cell_type": "code",
   "execution_count": null,
   "metadata": {},
   "outputs": [],
   "source": [
    "def excess_demand_good_1_func(betas,p1,p2,e1,e2,e3):\n",
    "    \n",
    "    # a. demand\n",
    "    demand = np.sum(demand_good_1_fun(betas,p1,p2,e1,e2,e3))\n",
    "    \n",
    "    # b. supply\n",
    "    supply = np.sum(e1)\n",
    "    \n",
    "    # c. excess demand\n",
    "    excess_demand = demand-supply\n",
    "    \n",
    "    return excess_demand\n",
    "\n",
    "def excess_demand_good_2_func(betas,p1,p2,e1,e2,e3):\n",
    "    \n",
    "    # a. demand\n",
    "    demand = np.sum(demand_good_2_fun(betas,p1,p2,e1,e2,e3))\n",
    "    \n",
    "    # b. supply\n",
    "    supply = np.sum(e2)\n",
    "    \n",
    "    # c. excess demand\n",
    "    excess_demand = demand-supply\n",
    "    \n",
    "    return excess_demand\n",
    "\n",
    "def excess_demand_good_3_func(betas,p1,p2,e1,e2,e3):\n",
    "    \n",
    "    # a. demand\n",
    "    demand = np.sum(demand_good_2_fun(betas,p1,p2,e1,e2,e3))\n",
    "    \n",
    "    # b. supply\n",
    "    supply = np.sum(e3)\n",
    "    \n",
    "    # c. excess demand\n",
    "    excess_demand = demand-supply\n",
    "    \n",
    "    return excess_demand"
   ]
  },
  {
   "cell_type": "code",
   "execution_count": null,
   "metadata": {},
   "outputs": [],
   "source": [
    "p1_s = np.linspace(1,10,100)\n",
    "p2_s = np.linspace(1,10,100)"
   ]
  },
  {
   "cell_type": "code",
   "execution_count": null,
   "metadata": {},
   "outputs": [],
   "source": [
    "# Initiating empty grids for excess demands\n",
    "excess_1_grid = np.empty((100,100))\n",
    "excess_2_grid = np.empty((100,100))\n",
    "\n",
    "# Calculating excess-demands for each price-combination\n",
    "for i,p1 in enumerate(p1_s):\n",
    "    for j,p2 in enumerate(p2_s):\n",
    "        excess_1_grid[i,j] = excess_demand_good_1_func(betas,p1,p2,e1,e2,e3)\n",
    "        excess_2_grid[i,j] = excess_demand_good_2_func(betas,p1,p2,e1,e2,e3)\n",
    "        \n",
    "p1_grid, p2_grid = np.meshgrid(p1_s, p2_s) "
   ]
  },
  {
   "cell_type": "code",
   "execution_count": null,
   "metadata": {},
   "outputs": [],
   "source": [
    "fig = plt.figure(figsize=(10,10))\n",
    "\n",
    "ex1 = fig.add_subplot(2,1,1, projection='3d')\n",
    "fig1 = ex1.plot_surface(p1_grid,p2_grid,excess_1_grid)\n",
    "ex1.invert_xaxis()\n",
    "\n",
    "ex1.set_xlabel('$p_1$')\n",
    "ex1.set_ylabel('$p_2$')\n",
    "ex1.set_zlabel('Excess demand')\n",
    "ex1.set_title('Good 1')\n",
    "\n",
    "ex2 = fig.add_subplot(2,1,2, projection='3d')\n",
    "fig2=ex2.plot_surface(p1_grid,p2_grid,excess_2_grid)\n",
    "ex2.invert_xaxis()\n",
    "\n",
    "ex2.set_xlabel('$p_1$')\n",
    "ex2.set_ylabel('$p_2$')\n",
    "ex2.set_zlabel('Excess demand')\n",
    "ex2.set_title('Good 2')\n",
    "\n",
    "plt.show()"
   ]
  },
  {
   "cell_type": "code",
   "execution_count": null,
   "metadata": {},
   "outputs": [],
   "source": []
  },
  {
   "cell_type": "markdown",
   "metadata": {},
   "source": [
    "**Quesiton 3:** Find the Walras-equilibrium prices, $(p_1,p_2)$, where both excess demands are (approximately) zero, e.g. by using the following tâtonnement process:\n",
    "\n",
    "1. Guess on $p_1 > 0$, $p_2 > 0$ and choose tolerance $\\epsilon > 0$ and adjustment aggressivity parameter, $\\kappa > 0$.\n",
    "2. Calculate $z_1(p_1,p_2)$ and $z_2(p_1,p_2)$.\n",
    "3. If $|z_1| < \\epsilon$ and $|z_2| < \\epsilon$ then stop.\n",
    "4. Else set $p_1 = p_1 + \\kappa \\frac{z_1}{N}$ and $p_2 = p_2 + \\kappa \\frac{z_2}{N}$ and return to step 2."
   ]
  },
  {
   "cell_type": "code",
   "execution_count": null,
   "metadata": {},
   "outputs": [],
   "source": [
    "def find_equilibrium(betas,p1,p2,e1,e2,e3,kappa=0.1,eps=1e-8,maxiter=500):\n",
    "    \n",
    "    t = 0\n",
    "    while True:\n",
    "\n",
    "        # a. step 1: excess demand\n",
    "        Z1 = excess_demand_good_1_func(betas,p1,p2,e1,e2,e3)\n",
    "        Z2 = excess_demand_good_1_func(betas,p1,p2,e1,e2,e3)\n",
    "        \n",
    "        # b: step 2: stop?\n",
    "        if  np.abs(Z1) < eps and np.abs(Z2) < eps:\n",
    "            print(f'{t:3d}: p1 = {p1:12.8f} -> excess demand -> {Z1:14.8f}')\n",
    "            break    \n",
    "    \n",
    "        # c. step 3: update p1\n",
    "        p1 = p1 + kappa*Z1/N\n",
    "        p2 = p2 + kappa*Z2/N\n",
    "            \n",
    "        # d. step 4: return \n",
    "        if t < 5 or t%25 == 0:\n",
    "            print(f'{t:3d}: p1 = {p1:12.8f} -> excess demand -> {Z1:14.8f}')\n",
    "        elif t == 5:\n",
    "            print('   ...')\n",
    "            \n",
    "        t += 1    \n",
    "\n",
    "    return p1,p2"
   ]
  },
  {
   "cell_type": "code",
   "execution_count": null,
   "metadata": {},
   "outputs": [],
   "source": [
    "p1 = 1.4\n",
    "p2 = 1\n",
    "kappa = 0.1\n",
    "eps = 1e-8\n",
    "\n",
    "p1 = find_equilibrium(betas,p1,p2,e1,e2,e3=2.054,kappa=kappa,eps=eps)"
   ]
  },
  {
   "cell_type": "code",
   "execution_count": null,
   "metadata": {},
   "outputs": [],
   "source": [
    "#Ensure that excess demand of both goods are (almost) zero\n",
    "Z1 = excess_demand_good_1_func(betas,p1,p2,e1,e2,e3)\n",
    "Z2 = excess_demand_good_2_func(betas,p1,p2,e1,e2,e3)\n",
    "print(Z1,Z2)\n",
    "assert(np.abs(Z1) < eps)\n",
    "assert(np.abs(Z2) < eps)"
   ]
  },
  {
   "cell_type": "code",
   "execution_count": null,
   "metadata": {},
   "outputs": [],
   "source": []
  },
  {
   "cell_type": "markdown",
   "metadata": {},
   "source": [
    "**Question 4:** Plot the distribution of utility in the Walras-equilibrium and calculate its mean and variance."
   ]
  },
  {
   "cell_type": "code",
   "execution_count": null,
   "metadata": {},
   "outputs": [],
   "source": [
    "def utility(betas,p1, p2, e1, e2, e3, gamma):\n",
    "    \n",
    "    I = p1*e1+p2*e2+e3\n",
    "    x1 = betas[:,0]*(I/p1)\n",
    "    x2 = betas[:,1]*(I/p2)\n",
    "    x3 = betas[:,2]*I\n",
    "    \n",
    "    return (x1**betas[:,0]+x2**betas[:,1]+x3**betas[:,2])**gamma"
   ]
  },
  {
   "cell_type": "code",
   "execution_count": null,
   "metadata": {},
   "outputs": [],
   "source": [
    "# Calling function to find vector of utilities\n",
    "u_vec = utility(betas,p1, p2, e1, e2, e3, gamma)\n",
    "\n",
    "plt.hist(u_vec,100)\n",
    "\n",
    "plt.xlabel('Utility')\n",
    "plt.ylabel('Consumers')\n",
    "plt.title('Utilities Distribution')\n"
   ]
  },
  {
   "cell_type": "code",
   "execution_count": null,
   "metadata": {},
   "outputs": [],
   "source": [
    "mean = np.mean(u_vec)\n",
    "variance = np.var(u_vec)\n",
    "\n",
    "mean,variance"
   ]
  },
  {
   "cell_type": "code",
   "execution_count": null,
   "metadata": {},
   "outputs": [],
   "source": []
  },
  {
   "cell_type": "markdown",
   "metadata": {},
   "source": [
    "**Question 5:** Find the Walras-equilibrium prices if instead all endowments were distributed equally. Discuss the implied changes in the distribution of utility. Does the value of $\\gamma$ play a role for your conclusions?"
   ]
  }
 ],
 "metadata": {
  "kernelspec": {
   "display_name": "Python 3",
   "language": "python",
   "name": "python3"
  },
  "language_info": {
   "codemirror_mode": {
    "name": "ipython",
    "version": 3
   },
   "file_extension": ".py",
   "mimetype": "text/x-python",
   "name": "python",
   "nbconvert_exporter": "python",
   "pygments_lexer": "ipython3",
   "version": "3.7.1"
  },
  "toc-autonumbering": false
 },
 "nbformat": 4,
 "nbformat_minor": 2
}
