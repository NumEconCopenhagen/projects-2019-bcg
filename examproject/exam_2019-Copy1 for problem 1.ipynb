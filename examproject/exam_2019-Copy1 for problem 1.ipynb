{
 "cells": [
  {
   "cell_type": "code",
   "execution_count": 1,
   "metadata": {},
   "outputs": [],
   "source": [
    "import numpy as np\n",
    "import sympy as sm\n",
    "import scipy as sp\n",
    "from scipy import interpolate\n",
    "from IPython.display import display\n",
    "import math\n",
    "import itertools\n",
    "import time\n",
    "\n",
    "import matplotlib.pyplot as plt\n",
    "import ipywidgets as widgets\n",
    "from mpl_toolkits.mplot3d import Axes3D\n",
    "from matplotlib.ticker import FuncFormatter\n",
    "%matplotlib inline\n",
    "\n",
    "sm.init_printing(use_unicode=True)"
   ]
  },
  {
   "cell_type": "markdown",
   "metadata": {},
   "source": [
    "# 1. Human capital accumulation"
   ]
  },
  {
   "cell_type": "markdown",
   "metadata": {},
   "source": [
    "Consider a worker living in **two periods**, $t \\in \\{1,2\\}$. \n",
    "\n",
    "In each period she decides whether to **work ($l_t = 1$) or not ($l_t = 0$)**. \n",
    "\n",
    "She can *not* borrow or save and thus **consumes all of her income** in each period. "
   ]
  },
  {
   "cell_type": "markdown",
   "metadata": {},
   "source": [
    "If she **works** her **consumption** becomes:\n",
    "\n",
    "$$c_t = w h_t l_t\\,\\,\\text{if}\\,\\,l_t=1$$\n",
    "\n",
    "where $w$ is **the wage rate** and $h_t$ is her **human capital**. \n",
    "\n",
    "If she does **not work** her consumption becomes:\n",
    "\n",
    "$$c_t = b\\,\\,\\text{if}\\,\\,l_t=0$$\n",
    "\n",
    "where $b$ is the **unemployment benefits**."
   ]
  },
  {
   "cell_type": "markdown",
   "metadata": {},
   "source": [
    "Her **utility of consumption** is: \n",
    "\n",
    "$$ \\frac{c_t^{1-\\rho}}{1-\\rho} $$\n",
    "\n",
    "Her **disutility of working** is:\n",
    "\n",
    "$$ \\gamma l_t $$"
   ]
  },
  {
   "cell_type": "markdown",
   "metadata": {},
   "source": [
    "From period 1 to period 2, she **accumulates human capital** according to:\n",
    "\n",
    "$$ h_2 = h_1 + l_1 + \n",
    "\\begin{cases}\n",
    "0 & \\text{with prob. }0.5 \\\\\n",
    "\\Delta & \\text{with prob. }0.5 \n",
    "\\end{cases} \\\\\n",
    "$$\n",
    "\n",
    "where $\\Delta$ is a **stochastic experience gain**."
   ]
  },
  {
   "cell_type": "markdown",
   "metadata": {},
   "source": [
    "In the **second period** the worker thus solves:\n",
    "\n",
    "$$\n",
    "\\begin{eqnarray*}\n",
    "v_{2}(h_{2}) & = &\\max_{l_{2}} \\frac{c_2^{1-\\rho}}{1-\\rho} - \\gamma l_2\n",
    "\\\\ & \\text{s.t.} & \\\\\n",
    "c_{2}& = & \\begin{cases}\n",
    "w h_2 & \n",
    "\\text{if }l_2 = 1  \\\\\n",
    "b & \\text{if }l_2 = 0 \n",
    "\\end{cases} \\\\\n",
    "l_{2}& \\in &\\{0,1\\}\n",
    "\\end{eqnarray*}\n",
    "$$"
   ]
  },
  {
   "cell_type": "markdown",
   "metadata": {},
   "source": [
    "In the **first period** the worker thus solves:\n",
    "\n",
    "$$\n",
    "\\begin{eqnarray*}\n",
    "v_{1}(h_{1}) &=& \\max_{l_{1}} \\frac{c_1^{1-\\rho}}{1-\\rho} - \\gamma l_1 + \\beta\\mathbb{E}_{1}\\left[v_2(h_2)\\right]\n",
    "\\\\ & \\text{s.t.} & \\\\\n",
    "c_{1}& = & \\begin{cases}\n",
    "w h_1 & \n",
    "\\text{if }l_1 = 1  \\\\\n",
    "b & \\text{if }l_1 = 0 \n",
    "\\end{cases} \\\\\n",
    "h_2 &=& h_1 + l_1 + \\begin{cases}\n",
    "0 & \\text{with prob. }0.5\\\\\n",
    "\\Delta & \\text{with prob. }0.5 \n",
    "\\end{cases}\\\\\n",
    "l_{1} &\\in& \\{0,1\\}\\\\\n",
    "\\end{eqnarray*}\n",
    "$$\n",
    "\n",
    "where $\\beta$ is the **discount factor** and $\\mathbb{E}_{1}\\left[v_2(h_2)\\right]$ is the **expected value of living in period two**."
   ]
  },
  {
   "cell_type": "markdown",
   "metadata": {},
   "source": [
    "The **parameters** of the model are:"
   ]
  },
  {
   "cell_type": "code",
   "execution_count": 2,
   "metadata": {},
   "outputs": [],
   "source": [
    "rho = 2\n",
    "beta = 0.96\n",
    "gamma = 0.1\n",
    "w = 2\n",
    "b = 1\n",
    "Delta = 0.1"
   ]
  },
  {
   "cell_type": "markdown",
   "metadata": {},
   "source": [
    "The **relevant levels of human capital** are:"
   ]
  },
  {
   "cell_type": "code",
   "execution_count": 3,
   "metadata": {},
   "outputs": [],
   "source": [
    "h_vec = np.linspace(0.1,1.5,100) "
   ]
  },
  {
   "cell_type": "markdown",
   "metadata": {},
   "source": [
    "**Question 1:** Solve the model in period 2 and illustrate the solution (including labor supply as a function of human capital). "
   ]
  },
  {
   "cell_type": "markdown",
   "metadata": {},
   "source": [
    "**Answer to Question 1:**"
   ]
  },
  {
   "cell_type": "markdown",
   "metadata": {},
   "source": [
    "In order to solve the period in period 2, we need to illustrate when the individual will choose not to work, by plotting his utility and labour supply agasint human capital"
   ]
  },
  {
   "cell_type": "code",
   "execution_count": 9,
   "metadata": {},
   "outputs": [],
   "source": [
    "# The basic functions are:\n",
    "def utility(c, rho):\n",
    "    return c**(1-rho)/(1-rho)\n",
    "\n",
    "def c(w, h, l, b):\n",
    "    return w*h*l + b*(1-l)\n",
    "    \n",
    "def disutility(l,gamma):\n",
    "    return gamma*l\n",
    "\n",
    "def v2(w, h2, l2, b, rho, gamma):\n",
    "    return utility(c(w, h2, l2, b), rho) - disutility(l2, gamma)\n",
    "\n",
    "def v1(h1, l1, v2_interp, Delta, w, b, rho, gamma, beta):\n",
    "        \n",
    "    # v2 value, if no human capital is acumulated\n",
    "    N_h2 = h1 + l1 + 0\n",
    "    N_v2 = v2_interp([N_h2])[0]\n",
    "    \n",
    "    # b. v2 value, if human capital is acumulated \n",
    "    Y_h2 = h1 + l1 + Delta\n",
    "    Y_v2 = v2_interp([Y_h2])[0]\n",
    "    \n",
    "    # Expected v2 value\n",
    "    v2 = 0.5*N_v2 + 0.5*Y_v2\n",
    "    \n",
    "    # Total value\n",
    "    return utility(c(w,h1,l1,b),rho) - disutility(l1, gamma) + beta*v2"
   ]
  },
  {
   "cell_type": "markdown",
   "metadata": {},
   "source": [
    "**Note:** the consumer in period 2, decides whether to work or not by comparing her two utilities. If she is better by not working, then decides not to work $(l_{2}=0)$, otherwise chooses to work $(l_{2}=1)$."
   ]
  },
  {
   "cell_type": "code",
   "execution_count": 10,
   "metadata": {},
   "outputs": [],
   "source": [
    "# The solution function for period 2 is:\n",
    "def solve_period_2(rho, gamma, Delta):\n",
    "    \n",
    "    # Create the vectors for period 2\n",
    "    l2_vec = np.empty(100)\n",
    "    v2_vec = np.empty(100)\n",
    "    \n",
    "    # Solve for each h2 in grid\n",
    "    for i, h2 in enumerate(h_vec):\n",
    "        \n",
    "        # Choose either l2 = 0 or l2 = 1\n",
    "        if v2(w, h2, 1, b, rho, gamma) < v2(w, h2, 0, b, rho, gamma):\n",
    "            l2_vec[i] = 0\n",
    "        else:\n",
    "            l2_vec[i] = 1\n",
    "        \n",
    "        # Save the estimated values of v2, based on the choice of working or not \n",
    "        v2_vec[i] = v2(w, h2, l2_vec[i], b, rho, gamma)\n",
    "        \n",
    "    return l2_vec, v2_vec"
   ]
  },
  {
   "cell_type": "code",
   "execution_count": 6,
   "metadata": {},
   "outputs": [
    {
     "data": {
      "image/png": "[encoded data removed]",
      "text/plain": [
       "<Figure size 1296x432 with 2 Axes>"
      ]
     },
     "metadata": {
      "needs_background": "light"
     },
     "output_type": "display_data"
    }
   ],
   "source": [
    "\n",
    "# Solve for period 2\n",
    "l2_vec, v2_vec = solve_period_2(rho,gamma,Delta)\n",
    "\n",
    "# Figure\n",
    "plotting = plt.figure(figsize=(18,6))\n",
    "labour = plotting.add_subplot(1,2,1)\n",
    "utility = plotting.add_subplot(1,2,2)\n",
    "\n",
    "\n",
    "utility.plot(h_vec,v2_vec)\n",
    "labour.plot(h_vec,l2_vec)\n",
    "\n",
    "#Labeling the graph\n",
    "\n",
    "labour.set_xlabel('Human Capital')\n",
    "labour.set_ylabel('Labor supply')\n",
    "labour.set_title('Labour supply and human capital- period 2')\n",
    "\n",
    "utility.set_xlabel('Human Capital')\n",
    "utility.set_ylabel('Utility ')\n",
    "utility.set_title('Utility and human capital- period2')\n",
    "\n",
    "plt.tight_layout()\n"
   ]
  },
  {
   "cell_type": "markdown",
   "metadata": {},
   "source": [
    "**Conclusion:** from the above figure, we can see that the individual will choose not to work in period 2 whenever the accumulated human capital ($h_2{}$) is approximately below 0.6. If the accumulated human capital is above that level, she will get more utility by working in period 2, rather than not working. In the graph on the right, we can see how utility evolves given different values of human capital. We can see that that when human capital is above 0.6 the utility will increase.s "
   ]
  },
  {
   "cell_type": "markdown",
   "metadata": {},
   "source": [
    "**Question 2:** Solve the model in period 1 and illustrate the solution (including labor supply as a function of human capital)."
   ]
  },
  {
   "cell_type": "markdown",
   "metadata": {},
   "source": [
    "**Answer to question 2**"
   ]
  },
  {
   "cell_type": "code",
   "execution_count": 7,
   "metadata": {},
   "outputs": [],
   "source": [
    "def solve_period_1(rho,gamma,beta,Delta,v1,v2_interp):\n",
    "    \n",
    "    # Vectors\n",
    "    l1_vec = np.empty(100)\n",
    "    v1_vec = np.empty(100)\n",
    "    \n",
    "    # Solve for each h1\n",
    "    for i,h1 in enumerate(h_vec):\n",
    "             \n",
    "        # The individual decides whether to work or not by comparing his utility. If he is better off not working, we will have\n",
    "        # l1=0 otherwise l1=1\n",
    "        if v1(h1,1,v2_interp,Delta,w,b,rho,gamma,beta) < v1(h1,0,v2_interp,Delta,w,b,rho,gamma,beta):\n",
    "            l1_vec[i] = 0\n",
    "        else:\n",
    "            l1_vec[i] = 1\n",
    "        \n",
    "        v1_vec[i] = v1(h1,l1_vec[i],v2_interp,Delta,w,b,rho,gamma,beta)\n",
    "        \n",
    "    return l1_vec, v1_vec\n",
    "\n",
    "# Construct interpolator\n",
    "v2_interp = interpolate.RegularGridInterpolator((h_vec,), v2_vec, bounds_error=False, fill_value=None)"
   ]
  },
  {
   "cell_type": "code",
   "execution_count": 8,
   "metadata": {},
   "outputs": [
    {
     "ename": "TypeError",
     "evalue": "'AxesSubplot' object is not callable",
     "output_type": "error",
     "traceback": [
      "\u001b[1;31m---------------------------------------------------------------------------\u001b[0m",
      "\u001b[1;31mTypeError\u001b[0m                                 Traceback (most recent call last)",
      "\u001b[1;32m<ipython-input-8-93fb76456725>\u001b[0m in \u001b[0;36m<module>\u001b[1;34m\u001b[0m\n\u001b[0;32m      1\u001b[0m \u001b[1;31m# Solving\u001b[0m\u001b[1;33m\u001b[0m\u001b[1;33m\u001b[0m\u001b[1;33m\u001b[0m\u001b[0m\n\u001b[1;32m----> 2\u001b[1;33m \u001b[0ml1_vec\u001b[0m\u001b[1;33m,\u001b[0m\u001b[0mv1_vec\u001b[0m \u001b[1;33m=\u001b[0m \u001b[0msolve_period_1\u001b[0m\u001b[1;33m(\u001b[0m\u001b[0mrho\u001b[0m\u001b[1;33m,\u001b[0m\u001b[0mgamma\u001b[0m\u001b[1;33m,\u001b[0m\u001b[0mbeta\u001b[0m\u001b[1;33m,\u001b[0m\u001b[0mDelta\u001b[0m\u001b[1;33m,\u001b[0m\u001b[0mv1\u001b[0m\u001b[1;33m,\u001b[0m\u001b[0mv2_interp\u001b[0m\u001b[1;33m)\u001b[0m\u001b[1;33m\u001b[0m\u001b[1;33m\u001b[0m\u001b[0m\n\u001b[0m\u001b[0;32m      3\u001b[0m \u001b[1;33m\u001b[0m\u001b[0m\n\u001b[0;32m      4\u001b[0m \u001b[1;31m# Figure\u001b[0m\u001b[1;33m\u001b[0m\u001b[1;33m\u001b[0m\u001b[1;33m\u001b[0m\u001b[0m\n\u001b[0;32m      5\u001b[0m \u001b[0mfig\u001b[0m \u001b[1;33m=\u001b[0m \u001b[0mplt\u001b[0m\u001b[1;33m.\u001b[0m\u001b[0mfigure\u001b[0m\u001b[1;33m(\u001b[0m\u001b[0mfigsize\u001b[0m\u001b[1;33m=\u001b[0m\u001b[1;33m(\u001b[0m\u001b[1;36m12\u001b[0m\u001b[1;33m,\u001b[0m\u001b[1;36m6\u001b[0m\u001b[1;33m)\u001b[0m\u001b[1;33m)\u001b[0m\u001b[1;33m\u001b[0m\u001b[1;33m\u001b[0m\u001b[0m\n",
      "\u001b[1;32m<ipython-input-7-e94eff9615fa>\u001b[0m in \u001b[0;36msolve_period_1\u001b[1;34m(rho, gamma, beta, Delta, v1, v2_interp)\u001b[0m\n\u001b[0;32m     10\u001b[0m         \u001b[1;31m# The individual decides whether to work or not by comparing his utility. If he is better off not working, we will have\u001b[0m\u001b[1;33m\u001b[0m\u001b[1;33m\u001b[0m\u001b[1;33m\u001b[0m\u001b[0m\n\u001b[0;32m     11\u001b[0m         \u001b[1;31m# l1=0 otherwise l1=1\u001b[0m\u001b[1;33m\u001b[0m\u001b[1;33m\u001b[0m\u001b[1;33m\u001b[0m\u001b[0m\n\u001b[1;32m---> 12\u001b[1;33m         \u001b[1;32mif\u001b[0m \u001b[0mv1\u001b[0m\u001b[1;33m(\u001b[0m\u001b[0mh1\u001b[0m\u001b[1;33m,\u001b[0m\u001b[1;36m1\u001b[0m\u001b[1;33m,\u001b[0m\u001b[0mv2_interp\u001b[0m\u001b[1;33m,\u001b[0m\u001b[0mDelta\u001b[0m\u001b[1;33m,\u001b[0m\u001b[0mw\u001b[0m\u001b[1;33m,\u001b[0m\u001b[0mb\u001b[0m\u001b[1;33m,\u001b[0m\u001b[0mrho\u001b[0m\u001b[1;33m,\u001b[0m\u001b[0mgamma\u001b[0m\u001b[1;33m,\u001b[0m\u001b[0mbeta\u001b[0m\u001b[1;33m)\u001b[0m \u001b[1;33m<\u001b[0m \u001b[0mv1\u001b[0m\u001b[1;33m(\u001b[0m\u001b[0mh1\u001b[0m\u001b[1;33m,\u001b[0m\u001b[1;36m0\u001b[0m\u001b[1;33m,\u001b[0m\u001b[0mv2_interp\u001b[0m\u001b[1;33m,\u001b[0m\u001b[0mDelta\u001b[0m\u001b[1;33m,\u001b[0m\u001b[0mw\u001b[0m\u001b[1;33m,\u001b[0m\u001b[0mb\u001b[0m\u001b[1;33m,\u001b[0m\u001b[0mrho\u001b[0m\u001b[1;33m,\u001b[0m\u001b[0mgamma\u001b[0m\u001b[1;33m,\u001b[0m\u001b[0mbeta\u001b[0m\u001b[1;33m)\u001b[0m\u001b[1;33m:\u001b[0m\u001b[1;33m\u001b[0m\u001b[1;33m\u001b[0m\u001b[0m\n\u001b[0m\u001b[0;32m     13\u001b[0m             \u001b[0ml1_vec\u001b[0m\u001b[1;33m[\u001b[0m\u001b[0mi\u001b[0m\u001b[1;33m]\u001b[0m \u001b[1;33m=\u001b[0m \u001b[1;36m0\u001b[0m\u001b[1;33m\u001b[0m\u001b[1;33m\u001b[0m\u001b[0m\n\u001b[0;32m     14\u001b[0m         \u001b[1;32melse\u001b[0m\u001b[1;33m:\u001b[0m\u001b[1;33m\u001b[0m\u001b[1;33m\u001b[0m\u001b[0m\n",
      "\u001b[1;32m<ipython-input-4-1f311a22597f>\u001b[0m in \u001b[0;36mv1\u001b[1;34m(h1, l1, v2_interp, Delta, w, b, rho, gamma, beta)\u001b[0m\n\u001b[0;32m     30\u001b[0m \u001b[1;33m\u001b[0m\u001b[0m\n\u001b[0;32m     31\u001b[0m     \u001b[1;31m# Total value\u001b[0m\u001b[1;33m\u001b[0m\u001b[1;33m\u001b[0m\u001b[1;33m\u001b[0m\u001b[0m\n\u001b[1;32m---> 32\u001b[1;33m     \u001b[1;32mreturn\u001b[0m \u001b[0mutility\u001b[0m\u001b[1;33m(\u001b[0m\u001b[0mc\u001b[0m\u001b[1;33m(\u001b[0m\u001b[0mw\u001b[0m\u001b[1;33m,\u001b[0m\u001b[0mh1\u001b[0m\u001b[1;33m,\u001b[0m\u001b[0ml1\u001b[0m\u001b[1;33m,\u001b[0m\u001b[0mb\u001b[0m\u001b[1;33m)\u001b[0m\u001b[1;33m,\u001b[0m\u001b[0mrho\u001b[0m\u001b[1;33m)\u001b[0m \u001b[1;33m-\u001b[0m \u001b[0mdisutility\u001b[0m\u001b[1;33m(\u001b[0m\u001b[0ml1\u001b[0m\u001b[1;33m,\u001b[0m \u001b[0mgamma\u001b[0m\u001b[1;33m)\u001b[0m \u001b[1;33m+\u001b[0m \u001b[0mbeta\u001b[0m\u001b[1;33m*\u001b[0m\u001b[0mv2\u001b[0m\u001b[1;33m\u001b[0m\u001b[1;33m\u001b[0m\u001b[0m\n\u001b[0m",
      "\u001b[1;31mTypeError\u001b[0m: 'AxesSubplot' object is not callable"
     ]
    }
   ],
   "source": [
    "# Solving\n",
    "l1_vec,v1_vec = solve_period_1(rho,gamma,beta,Delta,v1,v2_interp)\n",
    "\n",
    "# Figure\n",
    "fig = plt.figure(figsize=(12,6))\n",
    "ax = fig.add_subplot(1,1,1)\n",
    "ax.plot(h_vec,l1_vec)\n",
    "\n",
    "# Labels\n",
    "font = {'family':'serif','color':'black','weight':'normal','size': 16,}\n",
    "ax.set_xlabel('Human Capital')\n",
    "ax.set_ylabel('Labor supply')\n",
    "ax.set_title('Labor supply and human capital in period 1', fontdict=font)\n",
    "ax.grid()"
   ]
  },
  {
   "cell_type": "markdown",
   "metadata": {},
   "source": [
    "**Conclusion:**\n",
    "From the above figure, we can see that the individual will choose not to work in period 2 whenever the human capital (h_vec) is below 0.55 (aprox). If his human capital is above this level, he will get more utility by working in period 2."
   ]
  },
  {
   "cell_type": "markdown",
   "metadata": {},
   "source": [
    "**Question 3:** Will the worker never work if her potential wage income is lower than the unemployment benefits she can get? Explain and illustrate why or why not."
   ]
  },
  {
   "cell_type": "markdown",
   "metadata": {},
   "source": [
    "**Answer to Question 3:**"
   ]
  },
  {
   "cell_type": "code",
   "execution_count": null,
   "metadata": {},
   "outputs": [],
   "source": []
  },
  {
   "cell_type": "markdown",
   "metadata": {},
   "source": [
    "# 2. AS-AD model"
   ]
  },
  {
   "cell_type": "markdown",
   "metadata": {},
   "source": [
    "Consider the following **AS-AD model**. The **goods market equilibrium** is given by\n",
    "\n",
    "$$ y_{t} = -\\alpha r_{t} + v_{t} $$\n",
    "\n",
    "where $y_{t}$ is the **output gap**, $r_{t}$ is the **ex ante real interest** and $v_{t}$ is a **demand disturbance**. "
   ]
  },
  {
   "cell_type": "markdown",
   "metadata": {},
   "source": [
    "The central bank's **Taylor rule** is\n",
    "\n",
    "$$ i_{t} = \\pi_{t+1}^{e} + h \\pi_{t} + b y_{t}$$\n",
    "\n",
    "where $i_{t}$ is the **nominal interest rate**, $\\pi_{t}$ is the **inflation gap**, and $\\pi_{t+1}^{e}$ is the **expected inflation gap**. "
   ]
  },
  {
   "cell_type": "markdown",
   "metadata": {},
   "source": [
    "The **ex ante real interest rate** is given by \n",
    "\n",
    "$$ r_{t} = i_{t} - \\pi_{t+1}^{e} $$"
   ]
  },
  {
   "cell_type": "markdown",
   "metadata": {},
   "source": [
    "Together, the above implies that the **AD-curve** is\n",
    "\n",
    "$$ \\pi_{t} = \\frac{1}{h\\alpha}\\left[v_{t} - (1+b\\alpha)y_{t}\\right]$$"
   ]
  },
  {
   "cell_type": "markdown",
   "metadata": {},
   "source": [
    "Further, assume that the **short-run supply curve (SRAS)** is given by\n",
    "\n",
    "$$ \\pi_{t} = \\pi_{t}^{e} + \\gamma y_{t} + s_{t}$$\n",
    "\n",
    "where $s_t$ is a **supply disturbance**."
   ]
  },
  {
   "cell_type": "markdown",
   "metadata": {},
   "source": [
    "**Inflation expectations are adaptive** and given by\n",
    "\n",
    "$$ \\pi_{t}^{e} = \\phi\\pi_{t-1}^{e} + (1-\\phi)\\pi_{t-1}$$"
   ]
  },
  {
   "cell_type": "markdown",
   "metadata": {},
   "source": [
    "Together, this implies that the **SRAS-curve** can also be written as\n",
    "\n",
    "$$ \\pi_{t} = \\pi_{t-1} + \\gamma y_{t} - \\phi\\gamma y_{t-1} + s_{t} - \\phi s_{t-1} $$"
   ]
  },
  {
   "cell_type": "markdown",
   "metadata": {},
   "source": [
    "The **parameters** of the model are:"
   ]
  },
  {
   "cell_type": "code",
   "execution_count": null,
   "metadata": {},
   "outputs": [],
   "source": [
    "par = {}\n",
    "\n",
    "par['alpha'] = 5.76\n",
    "par['h'] = 0.5\n",
    "par['b'] = 0.5\n",
    "par['phi'] = 0\n",
    "par['gamma'] = 0.075"
   ]
  },
  {
   "cell_type": "markdown",
   "metadata": {},
   "source": [
    "**Question 1:** Use the ``sympy`` module to solve for the equilibrium values of output, $y_t$, and inflation, $\\pi_t$, (where AD = SRAS) given the parameters ($\\alpha$, $h$, $b$, $\\alpha$, $\\gamma$) and $y_{t-1}$ , $\\pi_{t-1}$, $v_t$, $s_t$, and $s_{t-1}$."
   ]
  },
  {
   "cell_type": "markdown",
   "metadata": {},
   "source": [
    "**Answer to question 1:**"
   ]
  },
  {
   "cell_type": "code",
   "execution_count": null,
   "metadata": {},
   "outputs": [],
   "source": [
    "# Activating pretty printing\n",
    "sm.init_printing(use_unicode=True)"
   ]
  },
  {
   "cell_type": "code",
   "execution_count": null,
   "metadata": {},
   "outputs": [],
   "source": [
    "#Defining all the needed variables for the symbolic solution\n",
    "v = sm.symbols('v_t')\n",
    "y_t = sm.symbols('y_t')  \n",
    "pi_t = sm.symbols('pi_t') \n",
    "h = sm.symbols('h')\n",
    "alpha = sm.symbols('alpha')\n",
    "b = sm.symbols('b')\n",
    "\n",
    "pi_t_1 = sm.symbols('\\pi_{t-1}')\n",
    "y_t_1 = sm.symbols('y_{t-1}')\n",
    "s_t = sm.symbols('s_t')\n",
    "s_t_1 = sm.symbols('s_{t-1}')\n",
    "gamma = sm.symbols('gamma')\n",
    "phi = sm.symbols('\\phi')\n",
    "\n",
    " \n",
    "h, alpha, v, b, y_t, pi_t, pi_t_1, gamma, phi, y_t_1, s_t, s_t_1"
   ]
  },
  {
   "cell_type": "code",
   "execution_count": null,
   "metadata": {},
   "outputs": [],
   "source": [
    "AD = sm.Eq(pi_t, (1/(h*alpha))*(v - (1+b*alpha)*y_t))\n",
    "SRAS = sm.Eq(pi_t, (pi_t_1 + gamma*y_t - phi*gamma*y_t_1 + s_t - phi*s_t_1))\n",
    "AD, SRAS"
   ]
  },
  {
   "cell_type": "markdown",
   "metadata": {},
   "source": [
    "**Solving for the equilibrium value of output ($y_{t}$) in three steps:**\n",
    "\n",
    "1. **Step 1:** Solve AD wrt $\\pi_{t}$\n",
    "2. **Step 2:** Substistute in SRAS equation \n",
    "3. **Step 3:** Solve wrt $y_{t}$"
   ]
  },
  {
   "cell_type": "code",
   "execution_count": null,
   "metadata": {},
   "outputs": [],
   "source": [
    "AD_1 = sm.solve(AD, pi_t)\n",
    "AD_1"
   ]
  },
  {
   "cell_type": "code",
   "execution_count": null,
   "metadata": {},
   "outputs": [],
   "source": [
    "AD_2 = SRAS.subs(pi_t, AD_1[0])\n",
    "AD_2"
   ]
  },
  {
   "cell_type": "code",
   "execution_count": null,
   "metadata": {},
   "outputs": [],
   "source": [
    "Output = sm.solve(AD_2, y_t)\n",
    "Output"
   ]
  },
  {
   "cell_type": "markdown",
   "metadata": {},
   "source": [
    "**Solving for the equilibrium value of inflation ($\\pi_{t}$) in two steps**\n",
    "\n",
    "1. **Step 1:** Substistute $y_{t}$ in SRAS\n",
    "2. **Step 2:** Solve wrt $\\pi_{t}$"
   ]
  },
  {
   "cell_type": "code",
   "execution_count": null,
   "metadata": {},
   "outputs": [],
   "source": [
    "AS_1 = SRAS.subs(y_t, Output[0])\n",
    "AS_1"
   ]
  },
  {
   "cell_type": "code",
   "execution_count": null,
   "metadata": {},
   "outputs": [],
   "source": [
    "Inflation = sm.solve(AS_1, pi_t)\n",
    "Inflation"
   ]
  },
  {
   "cell_type": "code",
   "execution_count": null,
   "metadata": {},
   "outputs": [],
   "source": [
    "# Deactivating pretty printing\n",
    "sm.init_printing(use_unicode=False)"
   ]
  },
  {
   "cell_type": "markdown",
   "metadata": {},
   "source": [
    "**Question 2:** Find and illustrate the equilibrium when $y_{t-1} = \\pi_{t-1} = v_t = s_t = s_{t-1} = 0$. Illustrate how the equilibrium changes when instead $v_t = 0.1$."
   ]
  },
  {
   "cell_type": "markdown",
   "metadata": {},
   "source": [
    "**Answer to Question 2:**"
   ]
  },
  {
   "cell_type": "code",
   "execution_count": null,
   "metadata": {},
   "outputs": [],
   "source": [
    "# The two calculated equations are lambdified to be used\n",
    "sol_output = sm.lambdify((y_t_1, s_t_1, pi_t_1, s_t, v, phi, alpha, gamma, h, b), Output[0])\n",
    "sol_inflation = sm.lambdify((y_t_1, s_t_1, pi_t_1, s_t, v, phi, alpha, gamma, h, b), Inflation[0])\n",
    "\n",
    "# Set the parameters equal to their values\n",
    "def _sol_output(y_t_1, s_t_1, pi_t_1, s_t, v, phi=par['phi'], alpha=par['alpha'], gamma=par['gamma'], h=par['h'], b=par['b']):\n",
    "    return sol_output(y_t_1, s_t_1, pi_t_1, s_t, v, phi, alpha, gamma, h, b)\n",
    "\n",
    "\n",
    "def _sol_inflation(y_t_1, s_t_1, pi_t_1, s_t, v, phi=par['phi'], alpha=par['alpha'], gamma=par['gamma'], h=par['h'], b=par['b']):\n",
    "    return sol_inflation(y_t_1, s_t_1, pi_t_1, s_t, v, phi, alpha, gamma, h, b)\n",
    "                         \n",
    "\n",
    "# The variables' values are inserted into the functions \n",
    "A = _sol_output(y_t_1=0, s_t_1=0, pi_t_1=0, s_t=0, v=0)\n",
    "B = _sol_output(y_t_1=0, s_t_1=0, pi_t_1=0, s_t=0, v=0.1)\n",
    "\n",
    "C = _sol_inflation(y_t_1=0, s_t_1=0, pi_t_1=0, s_t=0, v=0)\n",
    "D = _sol_inflation(y_t_1=0, s_t_1=0, pi_t_1=0, s_t=0, v=0.1)\n",
    "      \n",
    "print('The values of y_t and pi_t when all the variables are equal to zero:')\n",
    "print(f'y_t = {A}')\n",
    "print(f'pi_t = {C}')\n",
    "print('The values of y_t and pi_t when all the variables are equal to zero, except v = 0.1')\n",
    "print(f'y_t = {B}')\n",
    "print(f'pi_t = {D}')"
   ]
  },
  {
   "cell_type": "markdown",
   "metadata": {},
   "source": [
    "**Conclusion:** when the values of the parameters are equal to zero ($y_{t-1} = \\pi_{t-1} = v_t = s_t = s_{t-1} = 0$), then the equlibrium is $(\\pi_t,y_t) = (0,0)$. On the other hand when the economy endurs from a positive demand shock ($v_t = 0.1$ with the rest of the parameters remaining equal to zero), then the equilibrium is $(\\pi_t,y_t) = (0.0244140625,0.0018310546875)$."
   ]
  },
  {
   "cell_type": "markdown",
   "metadata": {},
   "source": [
    "**Note:** to plot the AD-SRAS we need the equations to express the relationship between $\\pi_t$ and $y_t$; the lambdified equations don't express directly that relationship, so we will define the original AD and SRAS functions and then plot them. "
   ]
  },
  {
   "cell_type": "code",
   "execution_count": null,
   "metadata": {},
   "outputs": [],
   "source": [
    "# Defining the AD and SRAS functions to plot them\n",
    "def AD(h, alpha, v, b, y_t):\n",
    "    return (1/(h*alpha))*(v - (1+b*alpha)*y_t)\n",
    "    \n",
    "def SRAS(pi_t_1, gamma, y_t, phi, y_t_1, s_t, s_t_1):\n",
    "    return (pi_t_1 + gamma*y_t - phi*gamma*y_t_1 + s_t - phi*s_t_1)"
   ]
  },
  {
   "cell_type": "code",
   "execution_count": null,
   "metadata": {
    "scrolled": false
   },
   "outputs": [],
   "source": [
    "fig = plt.figure(figsize=(12,8))\n",
    "ax = fig.add_subplot(1,1,1)\n",
    "\n",
    "y_lin = np.linspace(-0.3, 0.3, 100)\n",
    "AD_0 = AD(h=par['h'], alpha=par['alpha'], v=0, b=par['b'], y_t=y_lin)\n",
    "AD_1 = AD(h=par['h'], alpha=par['alpha'], v=0.1, b=par['b'],y_t=y_lin)\n",
    "SRAS_total = SRAS(pi_t_1=0, gamma=par['gamma'], y_t=y_lin, phi=par['phi'], y_t_1=0, s_t=0, s_t_1=0) \n",
    "\n",
    "plt.plot(y_lin, AD_0, label='AD 0 (with no disturbance)')\n",
    "plt.plot(y_lin, AD_1, label='AD 1 (with demand disturbance, v=0.1)')\n",
    "plt.plot(y_lin, SRAS_total, label='SRAS')\n",
    "plt.plot(A, C, marker='.', color='black', label='Equilibrium before the demand disturbance')\n",
    "plt.plot(B, D, marker='o', color='black', label='Equilibrium after the demand disturbance')\n",
    "plt.grid(True)\n",
    "\n",
    "plt.title('AD - SRAS')\n",
    "plt.xlabel('$y_t$')\n",
    "plt.ylabel('$\\pi_t$')\n",
    "plt.legend(loc='upper right')\n",
    "plt.show()"
   ]
  },
  {
   "cell_type": "markdown",
   "metadata": {},
   "source": [
    "**Persistent disturbances:** Now, additionaly, assume that both the demand and the supply disturbances are AR(1) processes\n",
    "\n",
    "$$ v_{t} = \\delta v_{t-1} + x_{t} $$\n",
    "$$ s_{t} = \\omega s_{t-1} + c_{t} $$\n",
    "\n",
    "where $x_{t}$ is a **demand shock**, and $c_t$ is a **supply shock**. The **autoregressive parameters** are:"
   ]
  },
  {
   "cell_type": "code",
   "execution_count": null,
   "metadata": {},
   "outputs": [],
   "source": [
    "par['delta'] = 0.80\n",
    "par['omega'] = 0.15"
   ]
  },
  {
   "cell_type": "markdown",
   "metadata": {},
   "source": [
    "**Question 3:** Starting from $y_{-1} = \\pi_{-1} = s_{-1} = 0$, how does the economy evolve for $x_0 = 0.1$, $x_t = 0, \\forall t > 0$ and $c_t = 0, \\forall t \\geq 0$?"
   ]
  },
  {
   "cell_type": "markdown",
   "metadata": {},
   "source": [
    "**Answer to Question 3:**"
   ]
  },
  {
   "cell_type": "markdown",
   "metadata": {},
   "source": [
    "First we will define the functions of the two shocks, which will be used to fill the vectors of $v_{t}$ and $s_{t}$ and the simulate the model to investigate the evolution of the two main variables of our model $(\\pi_{t}, y_{t})$\n",
    "\n",
    "**Note:** don't forget to run the above cell with the parameter values"
   ]
  },
  {
   "cell_type": "code",
   "execution_count": null,
   "metadata": {},
   "outputs": [],
   "source": [
    "def v_t(v_t_1, x_t, delta=par['delta']):\n",
    "    return delta*v_t_1 + x_t\n",
    "\n",
    "def s_t(s_t_1, c_t, omega=par['omega']):\n",
    "    return omega*s_t_1 + c_t"
   ]
  },
  {
   "cell_type": "code",
   "execution_count": null,
   "metadata": {},
   "outputs": [],
   "source": [
    "# Create a random seed\n",
    "seed = 2019\n",
    "np.random.seed(seed)\n",
    "\n",
    "# Define four periods to check which one will present the evolution of the economy better\n",
    "#T1 = 25\n",
    "#T2 = 50\n",
    "#T3 = 100\n",
    "T4 = 125\n",
    "\n",
    "# Creating the vectors that will be needed for the simulation\n",
    "y_vec = [0]\n",
    "pi_vec = [0]\n",
    "v_vec = [0]\n",
    "x_vec = np.zeros(T4) # all the demand shocks are set equal to 0\n",
    "x_vec[1] = 0.1 # the second element of the demand shocks list is set to 0.1, because demand disturbance function uses v_{t-1}\n",
    "s_vec = [0]\n",
    "c_vec = np.zeros(T4) # all the supply shocks are 0 "
   ]
  },
  {
   "cell_type": "code",
   "execution_count": null,
   "metadata": {
    "scrolled": true
   },
   "outputs": [],
   "source": [
    "# Creating a for loop to fill in the vectors\n",
    "for t in range (1,T4):\n",
    "    v_vec.append(v_t (v_vec [t-1], x_vec[t]))\n",
    "    s_vec.append(s_t (s_vec [t-1], c_vec[t]))\n",
    "    y_vec.append(sol_output (y_vec[t-1], s_vec[t-1], pi_vec[t-1], s_vec[t], v_vec[t], par['phi'], par['alpha'], par['gamma'], par['h'], par['b']))\n",
    "    pi_vec.append(sol_inflation (y_vec[t-1], s_vec[t-1], pi_vec[t-1], s_vec[t], v_vec[t], par['phi'], par['alpha'], par['gamma'], par['h'], par['b']))\n",
    "\n",
    "# Checking the created vectors (uncomment next row to check the values from any of the vectors) \n",
    "#y_vec, pi_vec, v_vec, s_vec"
   ]
  },
  {
   "cell_type": "code",
   "execution_count": null,
   "metadata": {},
   "outputs": [],
   "source": [
    "periods = np.linspace(0,T4,T4)\n",
    "\n",
    "fig=plt.figure(figsize=(10,8))\n",
    "ax=fig.add_subplot(1,1,1)\n",
    "\n",
    "ax.plot(periods, pi_vec, label='$\\pi_t$')\n",
    "ax.plot(periods, y_vec, label='$y_t$')\n",
    "plt.grid(True)\n",
    "\n",
    "plt.ylim(-0.005, 0.025)\n",
    "ax.set_title('Evolution of output and inflation')\n",
    "plt.xlabel('$Periods$')\n",
    "plt.ylabel('$y_t$ and $\\pi_t$')\n",
    "plt.legend(loc='upper right')"
   ]
  },
  {
   "cell_type": "markdown",
   "metadata": {},
   "source": [
    "**Conclusion:** the two variables ($y_t$, $\\pi_t$), that we want to investigate, are affected by a demand shock ($x_t=0.1$) in the interval  from zero (0) to the convergence point. First, we used 25, 50 and 100 periods to check how many periods are needed for our economy to converge back to its equilibrium ($y_t=\\pi_t=0$); from the graph we can see that at least 100 periods are required for the convergence. So, the chosen number of periods is 125. From the plot, it is shown that for both variables the demand shock has a bigger effect during the first periods (periods < 20), even though our economy needs more than 100 periods to converge back to its equilibrium."
   ]
  },
  {
   "cell_type": "markdown",
   "metadata": {},
   "source": [
    "**Stochastic shocks:** Now, additionally, assume that $x_t$ and $c_t$ are stochastic and normally distributed\n",
    "\n",
    "$$ x_{t}\\sim\\mathcal{N}(0,\\sigma_{x}^{2}) $$\n",
    "$$ c_{t}\\sim\\mathcal{N}(0,\\sigma_{c}^{2}) $$\n",
    "\n",
    "The **standard deviations of the shocks** are:"
   ]
  },
  {
   "cell_type": "code",
   "execution_count": null,
   "metadata": {},
   "outputs": [],
   "source": [
    "par['sigma_x'] = 3.492\n",
    "par['sigma_c'] = 0.2"
   ]
  },
  {
   "cell_type": "markdown",
   "metadata": {},
   "source": [
    "**Question 4:** Simulate the AS-AD model for 1,000 periods. Calculate the following five statistics:\n",
    "\n",
    "1. Variance of $y_t$, $var(y_t)$\n",
    "2. Variance of $\\pi_t$, $var(\\pi_t)$\n",
    "3. Correlation between $y_t$ and $\\pi_t$, $corr(y_t,\\pi_t)$\n",
    "4. Auto-correlation between $y_t$ and $y_{t-1}$, $corr(y_t,y_{t-1})$\n",
    "5. Auto-correlation between $\\pi_t$ and $\\pi_{t-1}$, $corr(\\pi_t,\\pi_{t-1})$"
   ]
  },
  {
   "cell_type": "markdown",
   "metadata": {},
   "source": [
    "**Answer to Question 4:**"
   ]
  },
  {
   "cell_type": "markdown",
   "metadata": {},
   "source": [
    "**Note:** now we know that the demand and supply shocks are normally distributed (and that's how they are going to be defined), so we are going to follow the same methodology as before to simulate the AS-AD model for 1000 periods. "
   ]
  },
  {
   "cell_type": "code",
   "execution_count": null,
   "metadata": {},
   "outputs": [],
   "source": [
    "# Create a random seed\n",
    "seed = 2020\n",
    "np.random.seed(seed)\n",
    "\n",
    "# Define the periods of the model simulation\n",
    "T5 = 1000\n",
    "\n",
    "# Creating the vectors that will be needed for the simulation\n",
    "y_vec_1 = [0]\n",
    "pi_vec_1 = [0]\n",
    "v_vec_1 = [0]\n",
    "x_vec_1 = np.random.normal(loc=0, scale=par['sigma_x'], size=T5) # all the demand shocks are normally distributed\n",
    "s_vec_1 = [0]\n",
    "c_vec_1 = np.random.normal(loc=0, scale=par['sigma_c'], size=T5) # all the supply shocks are normally distributed "
   ]
  },
  {
   "cell_type": "code",
   "execution_count": null,
   "metadata": {},
   "outputs": [],
   "source": [
    "# Creating a for loop to fill in the vectors\n",
    "for t in range (1,T5):\n",
    "    v_vec_1.append(v_t (v_vec_1[t-1], x_vec_1[t]))\n",
    "    s_vec_1.append(s_t (s_vec_1[t-1], c_vec_1[t]))\n",
    "    y_vec_1.append(sol_output (y_vec_1[t-1], s_vec_1[t-1], pi_vec_1[t-1], s_vec_1[t], v_vec_1[t], par['phi'], par['alpha'], par['gamma'], par['h'], par['b']))\n",
    "    pi_vec_1.append(sol_inflation (y_vec_1[t-1], s_vec_1[t-1], pi_vec_1[t-1], s_vec_1[t], v_vec_1[t], par['phi'], par['alpha'], par['gamma'], par['h'], par['b']))"
   ]
  },
  {
   "cell_type": "code",
   "execution_count": null,
   "metadata": {},
   "outputs": [],
   "source": [
    "periods = np.linspace(0,T5,T5)\n",
    "\n",
    "fig=plt.figure(figsize=(15,6))\n",
    "fig.suptitle('Graphical simulation of the model',fontsize=20)\n",
    "\n",
    "ax1=fig.add_subplot(2,1,1)\n",
    "ax1.plot(periods, pi_vec_1, label='$\\pi_t$')\n",
    "ax1.set_title('Evolution of Inflation')\n",
    "plt.ylabel('$\\pi_t$')\n",
    "plt.grid(True)\n",
    "plt.legend(loc='upper right')\n",
    "\n",
    "ax2=fig.add_subplot(2,1,2)\n",
    "ax2.plot(periods, y_vec_1, color='orange', label='$y_t$')\n",
    "ax2.set_title('Evolution of Output')\n",
    "plt.ylabel('$y_t$')\n",
    "plt.xlabel('$Periods$')\n",
    "plt.grid(True)\n",
    "plt.legend(loc='upper right')"
   ]
  },
  {
   "cell_type": "code",
   "execution_count": null,
   "metadata": {},
   "outputs": [],
   "source": [
    "# Calculating the statistics:\n",
    "var_y_t = np.var(y_vec_1)\n",
    "var_pi_t = np.var(pi_vec_1)\n",
    "corr_y_t_pi_t = np.corrcoef(y_vec_1, pi_vec_1)\n",
    "corr_y_t_y_t_1 = np.corrcoef(y_vec_1[1:], y_vec_1[:-1])\n",
    "corr_pi_t_pi_t_1 = np.corrcoef(pi_vec_1[1:], pi_vec_1[:-1])\n",
    "\n",
    "# Printing the statistics\n",
    "print(f'The variance of the output is: var(y_t) = {var_y_t}')\n",
    "print(f'The variance of the inflation is: var(pi_t) = {var_pi_t}')\n",
    "print(f'The correlation between the inflation and the output is: corr(pi_t, y_t) = {corr_y_t_pi_t[0,1]}')\n",
    "print(f'The auto-correlation between the output (of the current period) and the output (of the previous period) is: corr(y_t,y_t_1) = {corr_y_t_y_t_1[0,1]}')\n",
    "print(f'The auto-correlation between the inflation (of the current period) and the inflation (of the previous period) is: corr(pi_t, pi_t_1) = {corr_pi_t_pi_t_1[0,1]}')"
   ]
  },
  {
   "cell_type": "markdown",
   "metadata": {},
   "source": [
    "**Question 5:** Plot how the correlation between $y_t$ and $\\pi_t$ changes with $\\phi$. Use a numerical optimizer or root finder to choose $\\phi\\in(0,1)$ such that the simulated correlation between $y_t$ and $\\pi_t$ comes close to 0.31. "
   ]
  },
  {
   "cell_type": "markdown",
   "metadata": {},
   "source": [
    "**Answer to Question 5:**"
   ]
  },
  {
   "cell_type": "code",
   "execution_count": null,
   "metadata": {},
   "outputs": [],
   "source": []
  },
  {
   "cell_type": "code",
   "execution_count": null,
   "metadata": {},
   "outputs": [],
   "source": []
  },
  {
   "cell_type": "code",
   "execution_count": null,
   "metadata": {},
   "outputs": [],
   "source": []
  },
  {
   "cell_type": "markdown",
   "metadata": {},
   "source": [
    "**Quesiton 6:** Use a numerical optimizer to choose $\\sigma_x>0$, $\\sigma_c>0$ and $\\phi\\in(0,1)$ to make the simulated statistics as close as possible to US business cycle data where:\n",
    "\n",
    "1. $var(y_t) = 1.64$\n",
    "2. $var(\\pi_t) = 0.21$\n",
    "3. $corr(y_t,\\pi_t) = 0.31$\n",
    "4. $corr(y_t,y_{t-1}) = 0.84$\n",
    "5. $corr(\\pi_t,\\pi_{t-1}) = 0.48$"
   ]
  },
  {
   "cell_type": "markdown",
   "metadata": {},
   "source": [
    "**Answer to question 6:**"
   ]
  },
  {
   "cell_type": "code",
   "execution_count": null,
   "metadata": {},
   "outputs": [],
   "source": []
  },
  {
   "cell_type": "code",
   "execution_count": null,
   "metadata": {},
   "outputs": [],
   "source": []
  },
  {
   "cell_type": "code",
   "execution_count": null,
   "metadata": {},
   "outputs": [],
   "source": []
  },
  {
   "cell_type": "markdown",
   "metadata": {},
   "source": [
    "# 3. Exchange economy"
   ]
  },
  {
   "cell_type": "markdown",
   "metadata": {},
   "source": [
    "Consider an **exchange economy** with\n",
    "\n",
    "1. 3 goods, $(x_1,x_2,x_3)$\n",
    "2. $N$ consumers indexed by \\\\( j \\in \\{1,2,\\dots,N\\} \\\\)\n",
    "3. Preferences are Cobb-Douglas with log-normally distributed coefficients\n",
    "\n",
    "    $$ \\begin{eqnarray*}\n",
    "    u^{j}(x_{1},x_{2},x_{3}) &=& \n",
    "    \\left(x_{1}^{\\beta_{1}^{j}}x_{2}^{\\beta_{2}^{j}}x_{3}^{\\beta_{3}^{j}}\\right)^{\\gamma}\\\\\n",
    "     &  & \\,\\,\\,\\beta_{i}^{j}=\\frac{\\alpha_{i}^{j}}{\\alpha_{1}^{j}+\\alpha_{2}^{j}+\\alpha_{3}^{j}} \\\\\n",
    "     &  & \\,\\,\\,\\boldsymbol{\\alpha}^{j}=(\\alpha_{1}^{j},\\alpha_{2}^{j},\\alpha_{3}^{j}) \\\\ \n",
    "     &  & \\,\\,\\,\\log(\\boldsymbol{\\alpha}^j) \\sim \\mathcal{N}(\\mu,\\Sigma) \\\\\n",
    "    \\end{eqnarray*} $$\n",
    "\n",
    "4. Endowments are exponentially distributed,\n",
    "\n",
    "$$\n",
    "\\begin{eqnarray*}\n",
    "\\boldsymbol{e}^{j} &=& (e_{1}^{j},e_{2}^{j},e_{3}^{j}) \\\\\n",
    " &  & e_i^j \\sim f, f(z;\\zeta) =  1/\\zeta \\exp(-z/\\zeta)\n",
    "\\end{eqnarray*}\n",
    "$$"
   ]
  },
  {
   "cell_type": "markdown",
   "metadata": {},
   "source": [
    "Let $p_3 = 1$ be the **numeraire**. The implied **demand functions** are:\n",
    "\n",
    "$$\n",
    "\\begin{eqnarray*}\n",
    "x_{i}^{\\star j}(p_{1},p_{2},\\boldsymbol{e}^{j})&=&\\beta^{j}_i\\frac{I^j}{p_{i}} \\\\\n",
    "\\end{eqnarray*}\n",
    "$$\n",
    "\n",
    "where consumer $j$'s income is\n",
    "\n",
    "$$I^j = p_1 e_1^j + p_2 e_2^j +p_3 e_3^j$$"
   ]
  },
  {
   "cell_type": "markdown",
   "metadata": {},
   "source": [
    "The **parameters** and **random preferences and endowments** are given by:"
   ]
  },
  {
   "cell_type": "code",
   "execution_count": 2,
   "metadata": {},
   "outputs": [],
   "source": [
    "# a. parameters\n",
    "N = 50000\n",
    "mu = np.array([3,2,1])\n",
    "Sigma = np.array([[0.25, 0, 0], [0, 0.25, 0], [0, 0, 0.25]])\n",
    "gamma = 0.8\n",
    "zeta = 1\n",
    "\n",
    "# b. random draws\n",
    "seed = 1986\n",
    "np.random.seed(seed)\n",
    "\n",
    "# preferences\n",
    "alphas = np.exp(np.random.multivariate_normal(mu, Sigma, size=N))\n",
    "betas = alphas/np.reshape(np.sum(alphas,axis=1),(N,1))\n",
    "\n",
    "# endowments\n",
    "e1 = np.random.exponential(zeta,size=N)\n",
    "e2 = np.random.exponential(zeta,size=N)\n",
    "e3 = np.random.exponential(zeta,size=N)"
   ]
  },
  {
   "cell_type": "markdown",
   "metadata": {},
   "source": [
    "**Question 1:** Plot the histograms of the budget shares for each good across agents."
   ]
  },
  {
   "cell_type": "markdown",
   "metadata": {},
   "source": [
    "**Answer to Question 1:**"
   ]
  },
  {
   "cell_type": "markdown",
   "metadata": {},
   "source": [
    "The budget shares are given by the fraction of demand per income:\n",
    "\n",
    "$$\n",
    "\\begin{eqnarray*}\n",
    "\\frac{x_{i}^{\\star j}(p_{1},p_{2},\\boldsymbol{e}^{j})}{I^j}&=&\\frac{\\beta^{j}_i\\frac{I^j}{p_{i}}}{I^j}&=&\\frac{\\beta^{j}_i}{p_{i}}  \\\\\n",
    "\\end{eqnarray*}\n",
    "$$\n",
    "\n",
    "The histogram of the budget shares can be presented by ploting betas.\n"
   ]
  },
  {
   "cell_type": "code",
   "execution_count": 3,
   "metadata": {},
   "outputs": [
    {
     "data": {
      "text/plain": [
       "Text(0.5, 1.0, 'the budget shares of three goods')"
      ]
     },
     "execution_count": 3,
     "metadata": {},
     "output_type": "execute_result"
    },
    {
     "data": {
      "image/png": "[encoded data removed]",
      "text/plain": [
       "<Figure size 600x400 with 1 Axes>"
      ]
     },
     "metadata": {
      "needs_background": "light"
     },
     "output_type": "display_data"
    }
   ],
   "source": [
    "fig = plt.figure(dpi=100)\n",
    "ax = fig.add_subplot(1,1,1)\n",
    "\n",
    "ax.hist(betas,bins=50)\n",
    "\n",
    "ax.set_xlabel('betas')\n",
    "ax.set_ylabel('Consumers')\n",
    "\n",
    "ax.set_title('the budget shares of three goods')"
   ]
  },
  {
   "cell_type": "markdown",
   "metadata": {},
   "source": [
    "**Conclusion:**"
   ]
  },
  {
   "cell_type": "markdown",
   "metadata": {},
   "source": [
    "Consider the **excess demand functions:**\n",
    "\n",
    "$$ z_i(p_1,p_2) = \\sum_{j=1}^N x_{i}^{\\star j}(p_{1},p_{2},\\boldsymbol{e}^{j}) - e_i^j$$\n",
    "\n",
    "**Question 2:** Plot the excess demand functions."
   ]
  },
  {
   "cell_type": "markdown",
   "metadata": {},
   "source": [
    "**Answer to Question 2:**"
   ]
  },
  {
   "cell_type": "code",
   "execution_count": 4,
   "metadata": {},
   "outputs": [],
   "source": [
    "# Demand function\n",
    "def demand_good_1_fun(betas, p1, p2, e1, e2, e3):\n",
    "    I = p1*e1 + p2*e2 + e3\n",
    "    return betas[:,0]*I/p1\n",
    "\n",
    "def demand_good_2_fun(betas, p1, p2, e1, e2, e3):\n",
    "    I = p1*e1 + p2*e2 + e3\n",
    "    return betas[:,1]*I/p2\n",
    "\n",
    "def demand_good_3_fun(betas, p1, p2, e1, e2, e3):\n",
    "    I = p1*e1 + p2*e2 + e3\n",
    "    return betas[:,2]*I\n",
    "    "
   ]
  },
  {
   "cell_type": "code",
   "execution_count": 6,
   "metadata": {},
   "outputs": [],
   "source": [
    "# Excess demand functions:\n",
    "def excess_demand_good_1_func(betas, p1, p2, e1, e2, e3):\n",
    "    \n",
    "    # Demand\n",
    "    demand = np.sum(demand_good_1_fun(betas, p1, p2, e1, e2, e3))\n",
    "    \n",
    "    # Supply\n",
    "    supply = np.sum(e1)\n",
    "    \n",
    "    # Excess demand\n",
    "    excess_demand = demand - supply\n",
    "    \n",
    "    return excess_demand\n",
    "\n",
    "def excess_demand_good_2_func(betas, p1, p2, e1, e2, e3):\n",
    "    \n",
    "    # Demand\n",
    "    demand = np.sum(demand_good_2_fun(betas, p1, p2, e1, e2, e3))\n",
    "    \n",
    "    # Supply\n",
    "    supply = np.sum(e2)\n",
    "    \n",
    "    # Excess demand\n",
    "    excess_demand = demand - supply\n",
    "    \n",
    "    return excess_demand\n",
    "\n",
    "def excess_demand_good_3_func(betas, p1, p2, e1, e2, e3):\n",
    "    \n",
    "    # Demand\n",
    "    demand = np.sum(demand_good_2_fun(betas, p1, p2, e1, e2, e3))\n",
    "    \n",
    "    # Supply\n",
    "    supply = np.sum(e3)\n",
    "    \n",
    "    # Excess demand\n",
    "    excess_demand = demand - supply\n",
    "    \n",
    "    return excess_demand"
   ]
  },
  {
   "cell_type": "code",
   "execution_count": 7,
   "metadata": {},
   "outputs": [],
   "source": [
    "p1_s = np.linspace(1, 10, 100)\n",
    "p2_s = np.linspace(1, 10, 100)"
   ]
  },
  {
   "cell_type": "code",
   "execution_count": 8,
   "metadata": {},
   "outputs": [],
   "source": [
    "# Initiating empty grids for excess demands\n",
    "excess_1_grid = np.empty((100,100))\n",
    "excess_2_grid = np.empty((100,100))\n",
    "\n",
    "# Calculating excess-demands for each price-combination\n",
    "for i, p1 in enumerate(p1_s):\n",
    "    for j, p2 in enumerate(p2_s):\n",
    "        excess_1_grid[i,j] = excess_demand_good_1_func(betas, p1, p2, e1, e2, e3)\n",
    "        excess_2_grid[i,j] = excess_demand_good_2_func(betas, p1, p2, e1, e2, e3)\n",
    "        \n",
    "p1_grid, p2_grid = np.meshgrid(p1_s, p2_s) "
   ]
  },
  {
   "cell_type": "code",
   "execution_count": 9,
   "metadata": {},
   "outputs": [
    {
     "data": {
      "image/png": "[encoded data removed]",
      "text/plain": [
       "<Figure size 720x720 with 2 Axes>"
      ]
     },
     "metadata": {
      "needs_background": "light"
     },
     "output_type": "display_data"
    }
   ],
   "source": [
    "fig = plt.figure(figsize=(10,10))\n",
    "\n",
    "ex1 = fig.add_subplot(2,1,1, projection='3d')\n",
    "fig1 = ex1.plot_surface(p1_grid, p2_grid, excess_1_grid)\n",
    "ex1.invert_xaxis()\n",
    "\n",
    "ex1.set_xlabel('$p_{1}$')\n",
    "ex1.set_ylabel('$p_{2}$')\n",
    "ex1.set_zlabel('Excess Demand')\n",
    "ex1.set_title('Good 1')\n",
    "\n",
    "ex2 = fig.add_subplot(2,1,2, projection='3d')\n",
    "fig2=ex2.plot_surface(p1_grid, p2_grid, excess_2_grid)\n",
    "ex2.invert_xaxis()\n",
    "\n",
    "ex2.set_xlabel('$p_{1}$')\n",
    "ex2.set_ylabel('$p_{2}$')\n",
    "ex2.set_zlabel('Excess Demand')\n",
    "ex2.set_title('Good 2')\n",
    "\n",
    "plt.show()"
   ]
  },
  {
   "cell_type": "markdown",
   "metadata": {},
   "source": [
    "**Conclusion:**"
   ]
  },
  {
   "cell_type": "markdown",
   "metadata": {},
   "source": [
    "**Quesiton 3:** Find the Walras-equilibrium prices, $(p_1,p_2)$, where both excess demands are (approximately) zero, e.g. by using the following tâtonnement process:\n",
    "\n",
    "1. Guess on $p_1 > 0$, $p_2 > 0$ and choose tolerance $\\epsilon > 0$ and adjustment aggressivity parameter, $\\kappa > 0$.\n",
    "2. Calculate $z_1(p_1,p_2)$ and $z_2(p_1,p_2)$.\n",
    "3. If $|z_1| < \\epsilon$ and $|z_2| < \\epsilon$ then stop.\n",
    "4. Else set $p_1 = p_1 + \\kappa \\frac{z_1}{N}$ and $p_2 = p_2 + \\kappa \\frac{z_2}{N}$ and return to step 2."
   ]
  },
  {
   "cell_type": "markdown",
   "metadata": {},
   "source": [
    "**Answer to Question 3:**"
   ]
  },
  {
   "cell_type": "code",
   "execution_count": 10,
   "metadata": {},
   "outputs": [],
   "source": [
    "def find_equilibrium(betas, p1, p2, e1, e2, e3, kappa=0.1, eps=1e-8, maxiter=500):\n",
    "    \n",
    "    t = 0\n",
    "    while True:\n",
    "\n",
    "        # step 1: excess demand\n",
    "        Z1 = excess_demand_good_1_func(betas, p1, p2, e1, e2, e3)\n",
    "        Z2 = excess_demand_good_1_func(betas, p1, p2, e1, e2, e3)\n",
    "        \n",
    "        # step 2: stop?\n",
    "        if  np.abs(Z1) < eps and np.abs(Z2) < eps:\n",
    "            print(f'{t:3d}: p1 = {p1:12.8f} -> excess demand -> {Z1:14.8f}')\n",
    "            break    \n",
    "    \n",
    "        # step 3: update p1\n",
    "        p1 = p1 + kappa*Z1/N\n",
    "        p2 = p2 + kappa*Z2/N\n",
    "            \n",
    "        # step 4: return \n",
    "        if t < 5 or t%25 == 0:\n",
    "            print(f'{t:3d}: p1 = {p1:12.8f} -> excess demand -> {Z1:14.8f}')\n",
    "        elif t == 5:\n",
    "            print('   ...')\n",
    "            \n",
    "        t += 1    \n",
    "\n",
    "    return p1,p2"
   ]
  },
  {
   "cell_type": "code",
   "execution_count": 11,
   "metadata": {},
   "outputs": [
    {
     "name": "stdout",
     "output_type": "stream",
     "text": [
      "  0: p1 =   1.50417427 -> excess demand -> 52087.13710475\n",
      "  1: p1 =   1.60308604 -> excess demand -> 49455.88229365\n",
      "  2: p1 =   1.69763414 -> excess demand -> 47274.04893541\n",
      "  3: p1 =   1.78848642 -> excess demand -> 45426.14035998\n",
      "  4: p1 =   1.87615549 -> excess demand -> 43834.53752320\n",
      "   ...\n",
      " 25: p1 =   3.34537114 -> excess demand -> 30287.13100115\n",
      " 50: p1 =   4.71768575 -> excess demand -> 25492.13623260\n",
      " 75: p1 =   5.92570965 -> excess demand -> 23141.17104004\n",
      "100: p1 =   7.04264799 -> excess demand -> 21693.75038523\n",
      "125: p1 =   8.09999515 -> excess demand -> 20694.77675830\n",
      "150: p1 =   9.11467572 -> excess demand -> 19955.69085316\n",
      "175: p1 =  10.09699949 -> excess demand -> 19382.58793826\n",
      "200: p1 =  11.05378173 -> excess demand -> 18922.84429528\n",
      "225: p1 =  11.98979624 -> excess demand -> 18544.42391175\n",
      "250: p1 =  12.90853482 -> excess demand -> 18226.58586776\n",
      "275: p1 =  13.81263901 -> excess demand -> 17955.24649472\n",
      "300: p1 =  14.70416179 -> excess demand -> 17720.47174380\n",
      "325: p1 =  15.58473431 -> excess demand -> 17515.03318298\n",
      "350: p1 =  16.45567676 -> excess demand -> 17333.53300359\n",
      "375: p1 =  17.31807449 -> excess demand -> 17171.85099976\n",
      "400: p1 =  18.17283185 -> excess demand -> 17026.78242898\n",
      "425: p1 =  19.02071125 -> excess demand -> 16895.79358156\n",
      "450: p1 =  19.86236203 -> excess demand -> 16776.85242745\n",
      "475: p1 =  20.69834227 -> excess demand -> 16668.30857008\n",
      "500: p1 =  21.52913553 -> excess demand -> 16568.80642248\n",
      "525: p1 =  22.35516378 -> excess demand -> 16477.22128011\n",
      "550: p1 =  23.17679773 -> excess demand -> 16392.61149465\n",
      "575: p1 =  23.99436492 -> excess demand -> 16314.18217606\n",
      "600: p1 =  24.80815635 -> excess demand -> 16241.25728403\n",
      "625: p1 =  25.61843184 -> excess demand -> 16173.25791497\n",
      "650: p1 =  26.42542437 -> excess demand -> 16109.68522633\n",
      "675: p1 =  27.22934380 -> excess demand -> 16050.10687436\n",
      "700: p1 =  28.03037984 -> excess demand -> 15994.14614432\n",
      "725: p1 =  28.82870460 -> excess demand -> 15941.47316506\n",
      "750: p1 =  29.62447479 -> excess demand -> 15891.79775299\n",
      "775: p1 =  30.41783347 -> excess demand -> 15844.86354107\n",
      "800: p1 =  31.20891170 -> excess demand -> 15800.44312956\n",
      "825: p1 =  31.99782980 -> excess demand -> 15758.33405550\n",
      "850: p1 =  32.78469855 -> excess demand -> 15718.35542305\n",
      "875: p1 =  33.56962017 -> excess demand -> 15680.34507073\n",
      "900: p1 =  34.35268925 -> excess demand -> 15644.15717769\n",
      "925: p1 =  35.13399341 -> excess demand -> 15609.66023107\n",
      "950: p1 =  35.91361406 -> excess demand -> 15576.73529211\n",
      "975: p1 =  36.69162697 -> excess demand -> 15545.27451058\n",
      "1000: p1 =  37.46810274 -> excess demand -> 15515.17984683\n",
      "1025: p1 =  38.24310733 -> excess demand -> 15486.36196805\n",
      "1050: p1 =  39.01670243 -> excess demand -> 15458.73929159\n",
      "1075: p1 =  39.78894582 -> excess demand -> 15432.23715273\n",
      "1100: p1 =  40.55989174 -> excess demand -> 15406.78707835\n",
      "1125: p1 =  41.32959111 -> excess demand -> 15382.32615097\n",
      "1150: p1 =  42.09809189 -> excess demand -> 15358.79645025\n",
      "1175: p1 =  42.86543922 -> excess demand -> 15336.14456114\n",
      "1200: p1 =  43.63167569 -> excess demand -> 15314.32113936\n",
      "1225: p1 =  44.39684152 -> excess demand -> 15293.28052671\n",
      "1250: p1 =  45.16097475 -> excess demand -> 15272.98040953\n",
      "1275: p1 =  45.92411136 -> excess demand -> 15253.38151473\n",
      "1300: p1 =  46.68628545 -> excess demand -> 15234.44733860\n",
      "1325: p1 =  47.44752938 -> excess demand -> 15216.14390448\n",
      "1350: p1 =  48.20787383 -> excess demand -> 15198.43954547\n",
      "1375: p1 =  48.96734799 -> excess demand -> 15181.30470953\n",
      "1400: p1 =  49.72597961 -> excess demand -> 15164.71178398\n",
      "1425: p1 =  50.48379511 -> excess demand -> 15148.63493741\n",
      "1450: p1 =  51.24081965 -> excess demand -> 15133.04997695\n",
      "1475: p1 =  51.99707723 -> excess demand -> 15117.93421901\n",
      "1500: p1 =  52.75259075 -> excess demand -> 15103.26637236\n",
      "1525: p1 =  53.50738209 -> excess demand -> 15089.02643179\n",
      "1550: p1 =  54.26147215 -> excess demand -> 15075.19558157\n",
      "1575: p1 =  55.01488091 -> excess demand -> 15061.75610753\n",
      "1600: p1 =  55.76762751 -> excess demand -> 15048.69131678\n",
      "1625: p1 =  56.51973026 -> excess demand -> 15035.98546456\n",
      "1650: p1 =  57.27120672 -> excess demand -> 15023.62368717\n",
      "1675: p1 =  58.02207374 -> excess demand -> 15011.59194069\n",
      "1700: p1 =  58.77234745 -> excess demand -> 14999.87694465\n",
      "1725: p1 =  59.52204338 -> excess demand -> 14988.46613047\n",
      "1750: p1 =  60.27117641 -> excess demand -> 14977.34759387\n",
      "1775: p1 =  61.01976087 -> excess demand -> 14966.51005126\n",
      "1800: p1 =  61.76781052 -> excess demand -> 14955.94279936\n",
      "1825: p1 =  62.51533861 -> excess demand -> 14945.63567813\n",
      "1850: p1 =  63.26235790 -> excess demand -> 14935.57903636\n",
      "1875: p1 =  64.00888067 -> excess demand -> 14925.76370000\n",
      "1900: p1 =  64.75491875 -> excess demand -> 14916.18094276\n",
      "1925: p1 =  65.50048356 -> excess demand -> 14906.82245887\n",
      "1950: p1 =  66.24558611 -> excess demand -> 14897.68033788\n",
      "1975: p1 =  66.99023700 -> excess demand -> 14888.74704117\n",
      "2000: p1 =  67.73444651 -> excess demand -> 14880.01538024\n",
      "2025: p1 =  68.47822452 -> excess demand -> 14871.47849640\n",
      "2050: p1 =  69.22158061 -> excess demand -> 14863.12984194\n",
      "2075: p1 =  69.96452403 -> excess demand -> 14854.96316254\n",
      "2100: p1 =  70.70706371 -> excess demand -> 14846.97248094\n",
      "2125: p1 =  71.44920830 -> excess demand -> 14839.15208157\n",
      "2150: p1 =  72.19096619 -> excess demand -> 14831.49649633\n",
      "2175: p1 =  72.93234546 -> excess demand -> 14824.00049121\n",
      "2200: p1 =  73.67335398 -> excess demand -> 14816.65905381\n",
      "2225: p1 =  74.41399933 -> excess demand -> 14809.46738164\n",
      "2250: p1 =  75.15428890 -> excess demand -> 14802.42087114\n",
      "2275: p1 =  75.89422982 -> excess demand -> 14795.51510745\n",
      "2300: p1 =  76.63382901 -> excess demand -> 14788.74585472\n",
      "2325: p1 =  77.37309321 -> excess demand -> 14782.10904712\n",
      "2350: p1 =  78.11202892 -> excess demand -> 14775.60078027\n",
      "2375: p1 =  78.85064247 -> excess demand -> 14769.21730327\n",
      "2400: p1 =  79.58894002 -> excess demand -> 14762.95501118\n",
      "2425: p1 =  80.32692753 -> excess demand -> 14756.81043795\n",
      "2450: p1 =  81.06461080 -> excess demand -> 14750.78024971\n",
      "2475: p1 =  81.80199546 -> excess demand -> 14744.86123853\n",
      "2500: p1 =  82.53908700 -> excess demand -> 14739.05031644\n",
      "2525: p1 =  83.27589073 -> excess demand -> 14733.34450986\n",
      "2550: p1 =  84.01241184 -> excess demand -> 14727.74095433\n",
      "2575: p1 =  84.74865538 -> excess demand -> 14722.23688948\n",
      "2600: p1 =  85.48462624 -> excess demand -> 14716.82965432\n",
      "2625: p1 =  86.22032919 -> excess demand -> 14711.51668280\n",
      "2650: p1 =  86.95576890 -> excess demand -> 14706.29549958\n",
      "2675: p1 =  87.69094988 -> excess demand -> 14701.16371598\n",
      "2700: p1 =  88.42587655 -> excess demand -> 14696.11902628\n",
      "2725: p1 =  89.16055320 -> excess demand -> 14691.15920404\n",
      "2750: p1 =  89.89498401 -> excess demand -> 14686.28209877\n",
      "2775: p1 =  90.62917308 -> excess demand -> 14681.48563264\n",
      "2800: p1 =  91.36312437 -> excess demand -> 14676.76779746\n",
      "2825: p1 =  92.09684178 -> excess demand -> 14672.12665174\n",
      "2850: p1 =  92.83032908 -> excess demand -> 14667.56031793\n",
      "2875: p1 =  93.56358997 -> excess demand -> 14663.06697982\n",
      "2900: p1 =  94.29662805 -> excess demand -> 14658.64487999\n",
      "2925: p1 =  95.02944684 -> excess demand -> 14654.29231747\n",
      "2950: p1 =  95.76204977 -> excess demand -> 14650.00764549\n",
      "2975: p1 =  96.49444021 -> excess demand -> 14645.78926927\n",
      "3000: p1 =  97.22662141 -> excess demand -> 14641.63564403\n",
      "3025: p1 =  97.95859658 -> excess demand -> 14637.54527300\n",
      "3050: p1 =  98.69036885 -> excess demand -> 14633.51670557\n",
      "3075: p1 =  99.42194126 -> excess demand -> 14629.54853550\n",
      "3100: p1 = 100.15331681 -> excess demand -> 14625.63939925\n",
      "3125: p1 = 100.88449841 -> excess demand -> 14621.78797433\n",
      "3150: p1 = 101.61548890 -> excess demand -> 14617.99297779\n",
      "3175: p1 = 102.34629109 -> excess demand -> 14614.25316472\n",
      "3200: p1 = 103.07690769 -> excess demand -> 14610.56732687\n",
      "3225: p1 = 103.80734138 -> excess demand -> 14606.93429125\n",
      "3250: p1 = 104.53759477 -> excess demand -> 14603.35291890\n",
      "3275: p1 = 105.26767041 -> excess demand -> 14599.82210364\n",
      "3300: p1 = 105.99757079 -> excess demand -> 14596.34077088\n",
      "3325: p1 = 106.72729838 -> excess demand -> 14592.90787650\n",
      "3350: p1 = 107.45685555 -> excess demand -> 14589.52240579\n",
      "3375: p1 = 108.18624467 -> excess demand -> 14586.18337238\n",
      "3400: p1 = 108.91546802 -> excess demand -> 14582.88981729\n",
      "3425: p1 = 109.64452785 -> excess demand -> 14579.64080794\n",
      "3450: p1 = 110.37342637 -> excess demand -> 14576.43543728\n",
      "3475: p1 = 111.10216574 -> excess demand -> 14573.27282291\n",
      "3500: p1 = 111.83074807 -> excess demand -> 14570.15210621\n"
     ]
    },
    {
     "name": "stdout",
     "output_type": "stream",
     "text": [
      "3525: p1 = 112.55917543 -> excess demand -> 14567.07245159\n",
      "3550: p1 = 113.28744987 -> excess demand -> 14564.03304567\n",
      "3575: p1 = 114.01557336 -> excess demand -> 14561.03309660\n",
      "3600: p1 = 114.74354786 -> excess demand -> 14558.07183328\n",
      "3625: p1 = 115.47137529 -> excess demand -> 14555.14850474\n",
      "3650: p1 = 116.19905752 -> excess demand -> 14552.26237946\n",
      "3675: p1 = 116.92659640 -> excess demand -> 14549.41274472\n",
      "3700: p1 = 117.65399373 -> excess demand -> 14546.59890604\n",
      "3725: p1 = 118.38125128 -> excess demand -> 14543.82018656\n",
      "3750: p1 = 119.10837080 -> excess demand -> 14541.07592652\n",
      "3775: p1 = 119.83535399 -> excess demand -> 14538.36548266\n",
      "3800: p1 = 120.56220251 -> excess demand -> 14535.68822778\n",
      "3825: p1 = 121.28891803 -> excess demand -> 14533.04355018\n",
      "3850: p1 = 122.01550215 -> excess demand -> 14530.43085320\n",
      "3875: p1 = 122.74195644 -> excess demand -> 14527.84955477\n",
      "3900: p1 = 123.46828248 -> excess demand -> 14525.29908696\n",
      "3925: p1 = 124.19448179 -> excess demand -> 14522.77889553\n",
      "3950: p1 = 124.92055586 -> excess demand -> 14520.28843955\n",
      "3975: p1 = 125.64650617 -> excess demand -> 14517.82719098\n",
      "4000: p1 = 126.37233416 -> excess demand -> 14515.39463429\n",
      "4025: p1 = 127.09804126 -> excess demand -> 14512.99026609\n",
      "4050: p1 = 127.82362887 -> excess demand -> 14510.61359478\n",
      "4075: p1 = 128.54909835 -> excess demand -> 14508.26414020\n",
      "4100: p1 = 129.27445106 -> excess demand -> 14505.94143328\n",
      "4125: p1 = 129.99968831 -> excess demand -> 14503.64501576\n",
      "4150: p1 = 130.72481142 -> excess demand -> 14501.37443984\n",
      "4175: p1 = 131.44982167 -> excess demand -> 14499.12926791\n",
      "4200: p1 = 132.17472030 -> excess demand -> 14496.90907224\n",
      "4225: p1 = 132.89950857 -> excess demand -> 14494.71343470\n",
      "4250: p1 = 133.62418768 -> excess demand -> 14492.54194653\n",
      "4275: p1 = 134.34875884 -> excess demand -> 14490.39420802\n",
      "4300: p1 = 135.07322322 -> excess demand -> 14488.26982829\n",
      "4325: p1 = 135.79758198 -> excess demand -> 14486.16842506\n",
      "4350: p1 = 136.52183626 -> excess demand -> 14484.08962438\n",
      "4375: p1 = 137.24598718 -> excess demand -> 14482.03306044\n",
      "4400: p1 = 137.97003584 -> excess demand -> 14479.99837532\n",
      "4425: p1 = 138.69398333 -> excess demand -> 14477.98521878\n",
      "4450: p1 = 139.41783071 -> excess demand -> 14475.99324807\n",
      "4475: p1 = 140.14157904 -> excess demand -> 14474.02212772\n",
      "4500: p1 = 140.86522934 -> excess demand -> 14472.07152934\n",
      "4525: p1 = 141.58878264 -> excess demand -> 14470.14113146\n",
      "4550: p1 = 142.31223995 -> excess demand -> 14468.23061931\n",
      "4575: p1 = 143.03560223 -> excess demand -> 14466.33968468\n",
      "4600: p1 = 143.75887047 -> excess demand -> 14464.46802571\n",
      "4625: p1 = 144.48204563 -> excess demand -> 14462.61534679\n",
      "4650: p1 = 145.20512863 -> excess demand -> 14460.78135832\n",
      "4675: p1 = 145.92812042 -> excess demand -> 14458.96577661\n",
      "4700: p1 = 146.65102190 -> excess demand -> 14457.16832373\n",
      "4725: p1 = 147.37383397 -> excess demand -> 14455.38872734\n",
      "4750: p1 = 148.09655752 -> excess demand -> 14453.62672054\n",
      "4775: p1 = 148.81919343 -> excess demand -> 14451.88204177\n",
      "4800: p1 = 149.54174254 -> excess demand -> 14450.15443468\n",
      "4825: p1 = 150.26420571 -> excess demand -> 14448.44364794\n",
      "4850: p1 = 150.98658378 -> excess demand -> 14446.74943519\n",
      "4875: p1 = 151.70887756 -> excess demand -> 14445.07155486\n",
      "4900: p1 = 152.43108786 -> excess demand -> 14443.40977010\n",
      "4925: p1 = 153.15321549 -> excess demand -> 14441.76384862\n",
      "4950: p1 = 153.87526123 -> excess demand -> 14440.13356263\n",
      "4975: p1 = 154.59722586 -> excess demand -> 14438.51868869\n",
      "5000: p1 = 155.31911014 -> excess demand -> 14436.91900761\n",
      "5025: p1 = 156.04091482 -> excess demand -> 14435.33430439\n",
      "5050: p1 = 156.76264066 -> excess demand -> 14433.76436805\n",
      "5075: p1 = 157.48428838 -> excess demand -> 14432.20899160\n",
      "5100: p1 = 158.20585870 -> excess demand -> 14430.66797194\n",
      "5125: p1 = 158.92735234 -> excess demand -> 14429.14110970\n",
      "5150: p1 = 159.64877001 -> excess demand -> 14427.62820925\n",
      "5175: p1 = 160.37011238 -> excess demand -> 14426.12907854\n",
      "5200: p1 = 161.09138016 -> excess demand -> 14424.64352906\n",
      "5225: p1 = 161.81257400 -> excess demand -> 14423.17137573\n",
      "5250: p1 = 162.53369458 -> excess demand -> 14421.71243686\n",
      "5275: p1 = 163.25474256 -> excess demand -> 14420.26653401\n",
      "5300: p1 = 163.97571857 -> excess demand -> 14418.83349200\n",
      "5325: p1 = 164.69662327 -> excess demand -> 14417.41313875\n",
      "5350: p1 = 165.41745727 -> excess demand -> 14416.00530528\n",
      "5375: p1 = 166.13822120 -> excess demand -> 14414.60982559\n",
      "5400: p1 = 166.85891567 -> excess demand -> 14413.22653665\n",
      "5425: p1 = 167.57954130 -> excess demand -> 14411.85527827\n",
      "5450: p1 = 168.30009867 -> excess demand -> 14410.49589307\n",
      "5475: p1 = 169.02058838 -> excess demand -> 14409.14822644\n",
      "5500: p1 = 169.74101100 -> excess demand -> 14407.81212644\n",
      "5525: p1 = 170.46136712 -> excess demand -> 14406.48744376\n",
      "5550: p1 = 171.18165730 -> excess demand -> 14405.17403167\n",
      "5575: p1 = 171.90188209 -> excess demand -> 14403.87174593\n",
      "5600: p1 = 172.62204206 -> excess demand -> 14402.58044480\n",
      "5625: p1 = 173.34213774 -> excess demand -> 14401.29998893\n",
      "5650: p1 = 174.06216969 -> excess demand -> 14400.03024133\n",
      "5675: p1 = 174.78213842 -> excess demand -> 14398.77106731\n",
      "5700: p1 = 175.50204446 -> excess demand -> 14397.52233446\n",
      "5725: p1 = 176.22188833 -> excess demand -> 14396.28391257\n",
      "5750: p1 = 176.94167055 -> excess demand -> 14395.05567360\n",
      "5775: p1 = 177.66139162 -> excess demand -> 14393.83749163\n",
      "5800: p1 = 178.38105204 -> excess demand -> 14392.62924282\n",
      "5825: p1 = 179.10065230 -> excess demand -> 14391.43080536\n",
      "5850: p1 = 179.82019290 -> excess demand -> 14390.24205944\n",
      "5875: p1 = 180.53967430 -> excess demand -> 14389.06288720\n"
     ]
    },
    {
     "ename": "KeyboardInterrupt",
     "evalue": "",
     "output_type": "error",
     "traceback": [
      "\u001b[1;31m---------------------------------------------------------------------------\u001b[0m",
      "\u001b[1;31mKeyboardInterrupt\u001b[0m                         Traceback (most recent call last)",
      "\u001b[1;32m<ipython-input-11-24953be7c514>\u001b[0m in \u001b[0;36m<module>\u001b[1;34m\u001b[0m\n\u001b[0;32m      4\u001b[0m \u001b[0meps\u001b[0m \u001b[1;33m=\u001b[0m \u001b[1;36m1e-8\u001b[0m\u001b[1;33m\u001b[0m\u001b[1;33m\u001b[0m\u001b[0m\n\u001b[0;32m      5\u001b[0m \u001b[1;33m\u001b[0m\u001b[0m\n\u001b[1;32m----> 6\u001b[1;33m \u001b[0mp1\u001b[0m \u001b[1;33m=\u001b[0m \u001b[0mfind_equilibrium\u001b[0m\u001b[1;33m(\u001b[0m\u001b[0mbetas\u001b[0m\u001b[1;33m,\u001b[0m \u001b[0mp1\u001b[0m\u001b[1;33m,\u001b[0m \u001b[0mp2\u001b[0m\u001b[1;33m,\u001b[0m \u001b[0me1\u001b[0m\u001b[1;33m,\u001b[0m \u001b[0me2\u001b[0m\u001b[1;33m,\u001b[0m \u001b[0me3\u001b[0m\u001b[1;33m=\u001b[0m\u001b[1;36m2.054\u001b[0m\u001b[1;33m,\u001b[0m \u001b[0mkappa\u001b[0m\u001b[1;33m=\u001b[0m\u001b[0mkappa\u001b[0m\u001b[1;33m,\u001b[0m \u001b[0meps\u001b[0m\u001b[1;33m=\u001b[0m\u001b[0meps\u001b[0m\u001b[1;33m)\u001b[0m\u001b[1;33m\u001b[0m\u001b[1;33m\u001b[0m\u001b[0m\n\u001b[0m",
      "\u001b[1;32m<ipython-input-10-1f8b3d0b8233>\u001b[0m in \u001b[0;36mfind_equilibrium\u001b[1;34m(betas, p1, p2, e1, e2, e3, kappa, eps, maxiter)\u001b[0m\n\u001b[0;32m      6\u001b[0m         \u001b[1;31m# step 1: excess demand\u001b[0m\u001b[1;33m\u001b[0m\u001b[1;33m\u001b[0m\u001b[1;33m\u001b[0m\u001b[0m\n\u001b[0;32m      7\u001b[0m         \u001b[0mZ1\u001b[0m \u001b[1;33m=\u001b[0m \u001b[0mexcess_demand_good_1_func\u001b[0m\u001b[1;33m(\u001b[0m\u001b[0mbetas\u001b[0m\u001b[1;33m,\u001b[0m\u001b[0mp1\u001b[0m\u001b[1;33m,\u001b[0m\u001b[0mp2\u001b[0m\u001b[1;33m,\u001b[0m\u001b[0me1\u001b[0m\u001b[1;33m,\u001b[0m\u001b[0me2\u001b[0m\u001b[1;33m,\u001b[0m\u001b[0me3\u001b[0m\u001b[1;33m)\u001b[0m\u001b[1;33m\u001b[0m\u001b[1;33m\u001b[0m\u001b[0m\n\u001b[1;32m----> 8\u001b[1;33m         \u001b[0mZ2\u001b[0m \u001b[1;33m=\u001b[0m \u001b[0mexcess_demand_good_1_func\u001b[0m\u001b[1;33m(\u001b[0m\u001b[0mbetas\u001b[0m\u001b[1;33m,\u001b[0m\u001b[0mp1\u001b[0m\u001b[1;33m,\u001b[0m\u001b[0mp2\u001b[0m\u001b[1;33m,\u001b[0m\u001b[0me1\u001b[0m\u001b[1;33m,\u001b[0m\u001b[0me2\u001b[0m\u001b[1;33m,\u001b[0m\u001b[0me3\u001b[0m\u001b[1;33m)\u001b[0m\u001b[1;33m\u001b[0m\u001b[1;33m\u001b[0m\u001b[0m\n\u001b[0m\u001b[0;32m      9\u001b[0m \u001b[1;33m\u001b[0m\u001b[0m\n\u001b[0;32m     10\u001b[0m         \u001b[1;31m# step 2: stop?\u001b[0m\u001b[1;33m\u001b[0m\u001b[1;33m\u001b[0m\u001b[1;33m\u001b[0m\u001b[0m\n",
      "\u001b[1;32m<ipython-input-6-e857805757cb>\u001b[0m in \u001b[0;36mexcess_demand_good_1_func\u001b[1;34m(betas, p1, p2, e1, e2, e3)\u001b[0m\n\u001b[0;32m      4\u001b[0m \u001b[1;33m\u001b[0m\u001b[0m\n\u001b[0;32m      5\u001b[0m     \u001b[1;31m# Demand\u001b[0m\u001b[1;33m\u001b[0m\u001b[1;33m\u001b[0m\u001b[1;33m\u001b[0m\u001b[0m\n\u001b[1;32m----> 6\u001b[1;33m     \u001b[0mdemand\u001b[0m \u001b[1;33m=\u001b[0m \u001b[0mnp\u001b[0m\u001b[1;33m.\u001b[0m\u001b[0msum\u001b[0m\u001b[1;33m(\u001b[0m\u001b[0mdemand_good_1_fun\u001b[0m\u001b[1;33m(\u001b[0m\u001b[0mbetas\u001b[0m\u001b[1;33m,\u001b[0m \u001b[0mp1\u001b[0m\u001b[1;33m,\u001b[0m \u001b[0mp2\u001b[0m\u001b[1;33m,\u001b[0m \u001b[0me1\u001b[0m\u001b[1;33m,\u001b[0m \u001b[0me2\u001b[0m\u001b[1;33m,\u001b[0m \u001b[0me3\u001b[0m\u001b[1;33m)\u001b[0m\u001b[1;33m)\u001b[0m\u001b[1;33m\u001b[0m\u001b[1;33m\u001b[0m\u001b[0m\n\u001b[0m\u001b[0;32m      7\u001b[0m \u001b[1;33m\u001b[0m\u001b[0m\n\u001b[0;32m      8\u001b[0m     \u001b[1;31m# Supply\u001b[0m\u001b[1;33m\u001b[0m\u001b[1;33m\u001b[0m\u001b[1;33m\u001b[0m\u001b[0m\n",
      "\u001b[1;32m<ipython-input-4-39bad9fcd507>\u001b[0m in \u001b[0;36mdemand_good_1_fun\u001b[1;34m(betas, p1, p2, e1, e2, e3)\u001b[0m\n\u001b[0;32m      2\u001b[0m \u001b[1;33m\u001b[0m\u001b[0m\n\u001b[0;32m      3\u001b[0m \u001b[1;32mdef\u001b[0m \u001b[0mdemand_good_1_fun\u001b[0m\u001b[1;33m(\u001b[0m\u001b[0mbetas\u001b[0m\u001b[1;33m,\u001b[0m \u001b[0mp1\u001b[0m\u001b[1;33m,\u001b[0m \u001b[0mp2\u001b[0m\u001b[1;33m,\u001b[0m \u001b[0me1\u001b[0m\u001b[1;33m,\u001b[0m \u001b[0me2\u001b[0m\u001b[1;33m,\u001b[0m \u001b[0me3\u001b[0m\u001b[1;33m)\u001b[0m\u001b[1;33m:\u001b[0m\u001b[1;33m\u001b[0m\u001b[1;33m\u001b[0m\u001b[0m\n\u001b[1;32m----> 4\u001b[1;33m     \u001b[0mI\u001b[0m \u001b[1;33m=\u001b[0m \u001b[0mp1\u001b[0m\u001b[1;33m*\u001b[0m\u001b[0me1\u001b[0m \u001b[1;33m+\u001b[0m \u001b[0mp2\u001b[0m\u001b[1;33m*\u001b[0m\u001b[0me2\u001b[0m \u001b[1;33m+\u001b[0m \u001b[0me3\u001b[0m\u001b[1;33m\u001b[0m\u001b[1;33m\u001b[0m\u001b[0m\n\u001b[0m\u001b[0;32m      5\u001b[0m     \u001b[1;32mreturn\u001b[0m \u001b[0mbetas\u001b[0m\u001b[1;33m[\u001b[0m\u001b[1;33m:\u001b[0m\u001b[1;33m,\u001b[0m\u001b[1;36m0\u001b[0m\u001b[1;33m]\u001b[0m\u001b[1;33m*\u001b[0m\u001b[0mI\u001b[0m\u001b[1;33m/\u001b[0m\u001b[0mp1\u001b[0m\u001b[1;33m\u001b[0m\u001b[1;33m\u001b[0m\u001b[0m\n\u001b[0;32m      6\u001b[0m \u001b[1;33m\u001b[0m\u001b[0m\n",
      "\u001b[1;31mKeyboardInterrupt\u001b[0m: "
     ]
    }
   ],
   "source": [
    "p1 = 1.4\n",
    "p2 = 1\n",
    "kappa = 0.1\n",
    "eps = 1e-8\n",
    "\n",
    "p1 = find_equilibrium(betas, p1, p2, e1, e2, e3=2.054, kappa=kappa, eps=eps)"
   ]
  },
  {
   "cell_type": "code",
   "execution_count": 12,
   "metadata": {},
   "outputs": [
    {
     "name": "stdout",
     "output_type": "stream",
     "text": [
      "27977.311517521404 -5871.0938796342525\n"
     ]
    },
    {
     "ename": "AssertionError",
     "evalue": "",
     "output_type": "error",
     "traceback": [
      "\u001b[1;31m---------------------------------------------------------------------------\u001b[0m",
      "\u001b[1;31mAssertionError\u001b[0m                            Traceback (most recent call last)",
      "\u001b[1;32m<ipython-input-12-dfbb8cb7db30>\u001b[0m in \u001b[0;36m<module>\u001b[1;34m\u001b[0m\n\u001b[0;32m      3\u001b[0m \u001b[0mZ2\u001b[0m \u001b[1;33m=\u001b[0m \u001b[0mexcess_demand_good_2_func\u001b[0m\u001b[1;33m(\u001b[0m\u001b[0mbetas\u001b[0m\u001b[1;33m,\u001b[0m\u001b[0mp1\u001b[0m\u001b[1;33m,\u001b[0m\u001b[0mp2\u001b[0m\u001b[1;33m,\u001b[0m\u001b[0me1\u001b[0m\u001b[1;33m,\u001b[0m\u001b[0me2\u001b[0m\u001b[1;33m,\u001b[0m\u001b[0me3\u001b[0m\u001b[1;33m)\u001b[0m\u001b[1;33m\u001b[0m\u001b[1;33m\u001b[0m\u001b[0m\n\u001b[0;32m      4\u001b[0m \u001b[0mprint\u001b[0m\u001b[1;33m(\u001b[0m\u001b[0mZ1\u001b[0m\u001b[1;33m,\u001b[0m\u001b[0mZ2\u001b[0m\u001b[1;33m)\u001b[0m\u001b[1;33m\u001b[0m\u001b[1;33m\u001b[0m\u001b[0m\n\u001b[1;32m----> 5\u001b[1;33m \u001b[1;32massert\u001b[0m\u001b[1;33m(\u001b[0m\u001b[0mnp\u001b[0m\u001b[1;33m.\u001b[0m\u001b[0mabs\u001b[0m\u001b[1;33m(\u001b[0m\u001b[0mZ1\u001b[0m\u001b[1;33m)\u001b[0m \u001b[1;33m<\u001b[0m \u001b[0meps\u001b[0m\u001b[1;33m)\u001b[0m\u001b[1;33m\u001b[0m\u001b[1;33m\u001b[0m\u001b[0m\n\u001b[0m\u001b[0;32m      6\u001b[0m \u001b[1;32massert\u001b[0m\u001b[1;33m(\u001b[0m\u001b[0mnp\u001b[0m\u001b[1;33m.\u001b[0m\u001b[0mabs\u001b[0m\u001b[1;33m(\u001b[0m\u001b[0mZ2\u001b[0m\u001b[1;33m)\u001b[0m \u001b[1;33m<\u001b[0m \u001b[0meps\u001b[0m\u001b[1;33m)\u001b[0m\u001b[1;33m\u001b[0m\u001b[1;33m\u001b[0m\u001b[0m\n",
      "\u001b[1;31mAssertionError\u001b[0m: "
     ]
    }
   ],
   "source": [
    "#Ensure that excess demand of both goods are (almost) zero\n",
    "Z1 = excess_demand_good_1_func(betas,p1,p2,e1,e2,e3)\n",
    "Z2 = excess_demand_good_2_func(betas,p1,p2,e1,e2,e3)\n",
    "print(Z1,Z2)\n",
    "assert(np.abs(Z1) < eps)\n",
    "assert(np.abs(Z2) < eps)"
   ]
  },
  {
   "cell_type": "code",
   "execution_count": null,
   "metadata": {},
   "outputs": [],
   "source": []
  },
  {
   "cell_type": "markdown",
   "metadata": {},
   "source": [
    "**Question 4:** Plot the distribution of utility in the Walras-equilibrium and calculate its mean and variance."
   ]
  },
  {
   "cell_type": "markdown",
   "metadata": {},
   "source": [
    "**Answer to Question 4:**"
   ]
  },
  {
   "cell_type": "code",
   "execution_count": 13,
   "metadata": {},
   "outputs": [],
   "source": [
    "def utility(betas, p1, p2, e1, e2, e3, gamma):\n",
    "    \n",
    "    I = p1*e1 + p2*e2 + e3\n",
    "    x1 = betas[:,0]*(I/p1)\n",
    "    x2 = betas[:,1]*(I/p2)\n",
    "    x3 = betas[:,2]*I\n",
    "    \n",
    "    return (x1**betas[:,0]+x2**betas[:,1]+x3**betas[:,2])**gamma"
   ]
  },
  {
   "cell_type": "code",
   "execution_count": 14,
   "metadata": {},
   "outputs": [
    {
     "data": {
      "text/plain": [
       "Text(0.5, 1.0, 'Utilities Distribution')"
      ]
     },
     "execution_count": 14,
     "metadata": {},
     "output_type": "execute_result"
    },
    {
     "data": {
      "image/png": "[encoded data removed]",
      "text/plain": [
       "<Figure size 432x288 with 1 Axes>"
      ]
     },
     "metadata": {
      "needs_background": "light"
     },
     "output_type": "display_data"
    }
   ],
   "source": [
    "# Calling function to find vector of utilities\n",
    "u_vec = utility(betas,p1, p2, e1, e2, e3, gamma)\n",
    "\n",
    "plt.hist(u_vec,100)\n",
    "\n",
    "plt.xlabel('Utility')\n",
    "plt.ylabel('Consumers')\n",
    "plt.title('Utilities Distribution')\n"
   ]
  },
  {
   "cell_type": "code",
   "execution_count": 15,
   "metadata": {},
   "outputs": [
    {
     "data": {
      "image/png": "[encoded data removed]",
      "text/latex": [
       "$$\\left ( 2.5211233704878344, \\quad 0.23271015541511197\\right )$$"
      ],
      "text/plain": [
       "(2.5211233704878344, 0.23271015541511197)"
      ]
     },
     "execution_count": 15,
     "metadata": {},
     "output_type": "execute_result"
    }
   ],
   "source": [
    "mean = np.mean(u_vec)\n",
    "variance = np.var(u_vec)\n",
    "\n",
    "mean,variance"
   ]
  },
  {
   "cell_type": "markdown",
   "metadata": {},
   "source": [
    "**Conclusion:**"
   ]
  },
  {
   "cell_type": "markdown",
   "metadata": {},
   "source": [
    "**Question 5:** Find the Walras-equilibrium prices if instead all endowments were distributed equally. Discuss the implied changes in the distribution of utility. Does the value of $\\gamma$ play a role for your conclusions?"
   ]
  },
  {
   "cell_type": "markdown",
   "metadata": {},
   "source": [
    "**Answer to Question 5:**"
   ]
  },
  {
   "cell_type": "code",
   "execution_count": null,
   "metadata": {},
   "outputs": [],
   "source": []
  },
  {
   "cell_type": "code",
   "execution_count": null,
   "metadata": {},
   "outputs": [],
   "source": []
  },
  {
   "cell_type": "code",
   "execution_count": null,
   "metadata": {},
   "outputs": [],
   "source": []
  }
 ],
 "metadata": {
  "kernelspec": {
   "display_name": "Python 3",
   "language": "python",
   "name": "python3"
  },
  "language_info": {
   "codemirror_mode": {
    "name": "ipython",
    "version": 3
   },
   "file_extension": ".py",
   "mimetype": "text/x-python",
   "name": "python",
   "nbconvert_exporter": "python",
   "pygments_lexer": "ipython3",
   "version": "3.7.1"
  },
  "toc-autonumbering": false
 },
 "nbformat": 4,
 "nbformat_minor": 2
}
